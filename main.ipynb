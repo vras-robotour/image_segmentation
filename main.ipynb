{
 "cells": [
  {
   "cell_type": "code",
   "id": "initial_id",
   "metadata": {
    "collapsed": true,
    "ExecuteTime": {
     "end_time": "2024-05-22T13:22:31.831530Z",
     "start_time": "2024-05-22T13:22:30.453658Z"
    }
   },
   "source": [
    "import os\n",
    "import torch\n",
    "import pytorch_lightning as L\n",
    "import matplotlib.pyplot as plt\n",
    "from omegaconf import DictConfig\n",
    "\n",
    "%matplotlib inline\n",
    "plt.rcParams['image.interpolation'] = 'nearest'\n",
    "\n",
    "%load_ext autoreload\n",
    "%autoreload 2\n",
    "\n",
    "print(torch.cuda.is_available())\n",
    "print(torch.cuda.get_device_name(0))\n",
    "print(torch.cuda.get_device_properties(0).total_memory)\n",
    "\n",
    "# Get number of cores\n",
    "print(os.cpu_count())\n",
    "\n",
    "# Get number of threads\n",
    "print(torch.get_num_threads())"
   ],
   "outputs": [
    {
     "name": "stdout",
     "output_type": "stream",
     "text": [
      "The autoreload extension is already loaded. To reload it, use:\n",
      "  %reload_ext autoreload\n",
      "True\n",
      "Tesla V100-SXM2-32GB\n",
      "34072559616\n",
      "72\n",
      "36\n"
     ]
    }
   ],
   "execution_count": 12
  },
  {
   "cell_type": "code",
   "source": [
    "import sklearn  # scikit-learn hack to fix the error on jetson\n",
    "\n",
    "import torch\n",
    "import hydra\n",
    "import numpy as np\n",
    "from PIL import Image\n",
    "import albumentations as A\n",
    "import pytorch_lightning as L\n",
    "import matplotlib.pyplot as plt\n",
    "from omegaconf import DictConfig, OmegaConf\n",
    "from albumentations.pytorch import ToTensorV2\n",
    "from pytorch_lightning.loggers import WandbLogger\n",
    "\n",
    "from src import RoadDataModule, RoadModel, LogPredictionsCallback, val_checkpoint, regular_checkpoint, rgb_to_label\n",
    "\n",
    "\n",
    "def main(cfg: DictConfig) -> None:\n",
    "    device = torch.device(\"cuda\" if torch.cuda.is_available() else \"cpu\")\n",
    "    model = RoadModel(cfg, device)\n",
    "    datamodule = RoadDataModule(cfg)\n",
    "\n",
    "    wandb_logger = WandbLogger(project=\"road-segmentation\", name=cfg.run_name)\n",
    "\n",
    "    trainer = L.Trainer(max_epochs=cfg.train.max_epochs,\n",
    "                        accelerator=\"gpu\",\n",
    "                        devices=1,\n",
    "                        logger=wandb_logger,\n",
    "                        callbacks=[\n",
    "                            LogPredictionsCallback(),\n",
    "                            val_checkpoint,\n",
    "                            regular_checkpoint\n",
    "                        ])\n",
    "\n",
    "    if cfg.action == \"train\":\n",
    "        trainer.fit(model, datamodule=datamodule, ckpt_path=cfg.ckpt_path)\n",
    "    elif cfg.action == \"test\":\n",
    "        trainer.test(model, datamodule=datamodule, ckpt_path=cfg.ckpt_path)\n",
    "    elif cfg.action == \"predict\":\n",
    "        # Load the trained model\n",
    "        model = RoadModel.load_from_checkpoint(cfg.ckpt_path, cfg=cfg, device=device).to(device)\n",
    "        model.eval()\n",
    "\n",
    "        # Load an image and its label\n",
    "        # image_path = 'data/RUGD/Images/creek_00001.png'\n",
    "        # label_path = 'data/RUGD/Annotations/creek_00001.png'        \n",
    "        \n",
    "        image_path = 'data/RoboTour/Images/tradr_20_5_2422.png'\n",
    "        label_path = 'data/RoboTour/Annotations/tradr_20_5_2422.png'\n",
    "\n",
    "        image = np.array(Image.open(image_path).convert('RGB')) / 255.0\n",
    "        label = np.array(Image.open(label_path).convert('RGB'))\n",
    "\n",
    "        # Process the label image\n",
    "        label = rgb_to_label(label, cfg.ds.color_map)\n",
    "        train_map = OmegaConf.to_container(cfg.ds.train_map)\n",
    "        label = np.vectorize(train_map.get)(label)\n",
    "\n",
    "        # Apply the same transformations as during training\n",
    "        transform = A.Compose([\n",
    "            A.Normalize(mean=cfg.ds.mean, std=cfg.ds.std, max_pixel_value=1.0),\n",
    "            A.Resize(550, 688),\n",
    "            ToTensorV2()\n",
    "        ])\n",
    "        sample = transform(image=image, mask=label)\n",
    "        image = sample['image'].float().unsqueeze(0).to(device)\n",
    "        label = sample['mask'].long().unsqueeze(0).to(device)\n",
    "\n",
    "        # Predict the label image\n",
    "        with torch.no_grad():\n",
    "            logits = model(image)\n",
    "        prediction = logits.argmax(1).squeeze(0).cpu().numpy()\n",
    "\n",
    "        # Plot the image, label, and prediction\n",
    "        fig = plt.figure(figsize=(12, 4))\n",
    "\n",
    "        # Plot the prediction next to the label\n",
    "        plt.subplot(1, 3, 1)\n",
    "        plt.imshow(image[0].permute(1, 2, 0).cpu().numpy())\n",
    "        plt.axis('off')  # Remove axes\n",
    "\n",
    "        plt.subplot(1, 3, 2)\n",
    "        plt.imshow(label[0].cpu().numpy())\n",
    "        plt.axis('off')  # Remove axes\n",
    "\n",
    "        plt.subplot(1, 3, 3)\n",
    "        plt.imshow(prediction)\n",
    "        plt.axis('off')  # Remove axes\n",
    "\n",
    "        plt.subplots_adjust(wspace=0, hspace=0)\n",
    "        plt.tight_layout()\n",
    "\n",
    "        # Save the plot\n",
    "        plt.savefig('prediction.png')\n",
    "    else:\n",
    "        raise ValueError(f\"Unknown action: {cfg.action}\")"
   ],
   "metadata": {
    "collapsed": false,
    "ExecuteTime": {
     "end_time": "2024-05-22T13:23:04.865190Z",
     "start_time": "2024-05-22T13:23:03.514813Z"
    }
   },
   "id": "59a15fe8a2f1c603",
   "outputs": [],
   "execution_count": 15
  },
  {
   "cell_type": "code",
   "source": [
    "from hydra import compose, initialize\n",
    "\n",
    "with initialize(version_base=None, config_path=\"conf\"):\n",
    "    # Make sure that the cfg.ds is 'robotour' \n",
    "    config = compose(config_name=\"config\", overrides=[\"action=train\", \"ds=robotour\", \"ckpt_path=checkpoints/e51-iou0.60.ckpt\"])\n",
    "    print(config)\n",
    "    main(config)"
   ],
   "metadata": {
    "collapsed": false,
    "ExecuteTime": {
     "end_time": "2024-05-22T13:48:11.505143Z",
     "start_time": "2024-05-22T13:32:51.994292Z"
    }
   },
   "id": "a1e7f9f60038cca3",
   "outputs": [
    {
     "name": "stdout",
     "output_type": "stream",
     "text": [
      "{'action': 'train', 'ckpt_path': 'checkpoints/e51-iou0.60.ckpt', 'run_name': 'baseline', 'optimizer': {'_target_': 'torch.optim.Adam', 'lr': 0.0001, 'weight_decay': 0.0001}, 'train': {'batch_size': 4, 'max_epochs': 100, 'num_workers': 4}, 'ds': {'name': 'rugd', 'path': 'data/RoboTour', 'mean': [0.0, 0.0, 0.0], 'std': [1.0, 1.0, 1.0], 'color_map': {'0,0,0': 0, '0,255,0': 1, '255,0,0': 2, '0,0,255': 3}, 'train_map': {0: 0, 1: 1, 2: 2, 3: 3}}, 'model': {'_target_': 'torchvision.models.segmentation.deeplabv3_resnet50', 'num_classes': 4}}\n"
     ]
    },
    {
     "name": "stderr",
     "output_type": "stream",
     "text": [
      "GPU available: True (cuda), used: True\n",
      "TPU available: False, using: 0 TPU cores\n",
      "IPU available: False, using: 0 IPUs\n",
      "HPU available: False, using: 0 HPUs\n",
      "Restoring states from the checkpoint path at checkpoints/e51-iou0.60.ckpt\n",
      "LOCAL_RANK: 0 - CUDA_VISIBLE_DEVICES: [0]\n",
      "\n",
      "  | Name      | Type                   | Params\n",
      "-----------------------------------------------------\n",
      "0 | model     | DeepLabV3              | 39.6 M\n",
      "1 | criterion | CrossEntropyLoss       | 0     \n",
      "2 | accuracy  | MulticlassAccuracy     | 0     \n",
      "3 | jaccard   | MulticlassJaccardIndex | 0     \n",
      "-----------------------------------------------------\n",
      "39.6 M    Trainable params\n",
      "0         Non-trainable params\n",
      "39.6 M    Total params\n",
      "158.538   Total estimated model params size (MB)\n",
      "Restored all states from the checkpoint at checkpoints/e51-iou0.60.ckpt\n",
      "SLURM auto-requeueing enabled. Setting signal handlers.\n"
     ]
    },
    {
     "data": {
      "text/plain": [
       "Sanity Checking: |          | 0/? [00:00<?, ?it/s]"
      ],
      "application/vnd.jupyter.widget-view+json": {
       "version_major": 2,
       "version_minor": 0,
       "model_id": "c6d92dd003734a478894890bd000251c"
      }
     },
     "metadata": {},
     "output_type": "display_data"
    },
    {
     "data": {
      "text/plain": [
       "Training: |          | 0/? [00:00<?, ?it/s]"
      ],
      "application/vnd.jupyter.widget-view+json": {
       "version_major": 2,
       "version_minor": 0,
       "model_id": "c30aa094a8fc44a9bc3fe6b14ae7e233"
      }
     },
     "metadata": {},
     "output_type": "display_data"
    },
    {
     "name": "stderr",
     "output_type": "stream",
     "text": [
      "\u001B[34m\u001B[1mwandb\u001B[0m: \u001B[33mWARNING\u001B[0m (User provided step: 51 is less than current step: 119. Dropping entry: {'prediction': {'_type': 'image-file', 'sha256': '85e0251e5dbb4f7ed46382dffe961d6138ea6c02ae35ff9f5141bdf42d76bf94', 'size': 440534, 'path': 'media/images/prediction_119_85e0251e5dbb4f7ed463.png', 'format': 'png', 'width': 688, 'height': 550, 'caption': 'Prediction', 'masks': {'prediction': {'_type': 'mask', 'sha256': 'cda292833009710e757d52422f4408fa1910ed9b8d9e8d38419003dc3ee7941e', 'size': 4127, 'path': 'media/images/mask/prediction_119_cda292833009710e757d.mask.png'}}}, '_timestamp': 1716384779.7776153}).\n",
      "\u001B[34m\u001B[1mwandb\u001B[0m: \u001B[33mWARNING\u001B[0m (User provided step: 51 is less than current step: 119. Dropping entry: {'entropy': {'_type': 'image-file', 'sha256': '3bb7c72964b50cfc0b46a9362d99060d995e29f8a82c90fe629e7e6f91a9cf2b', 'size': 169658, 'path': 'media/images/entropy_119_3bb7c72964b50cfc0b46.png', 'format': 'png', 'width': 688, 'height': 550, 'caption': 'Entropy'}, '_timestamp': 1716384779.9026396}).\n",
      "\u001B[34m\u001B[1mwandb\u001B[0m: \u001B[33mWARNING\u001B[0m (User provided step: 51 is less than current step: 119. Dropping entry: {'ground_truth': {'_type': 'image-file', 'sha256': '85e0251e5dbb4f7ed46382dffe961d6138ea6c02ae35ff9f5141bdf42d76bf94', 'size': 440534, 'path': 'media/images/ground_truth_119_85e0251e5dbb4f7ed463.png', 'format': 'png', 'width': 688, 'height': 550, 'caption': 'Ground truth', 'masks': {'ground_truth': {'_type': 'mask', 'sha256': '5a572d8ea5561a9b2386dd6431ff098415a7a6c677802c151afbeeb661f3b7fd', 'size': 1742, 'path': 'media/images/mask/ground_truth_119_5a572d8ea5561a9b2386.mask.png'}}}, '_timestamp': 1716384780.0855467}).\n",
      "\u001B[34m\u001B[1mwandb\u001B[0m: \u001B[33mWARNING\u001B[0m (User provided step: 51 is less than current step: 119. Dropping entry: {'error': {'_type': 'image-file', 'sha256': '85e0251e5dbb4f7ed46382dffe961d6138ea6c02ae35ff9f5141bdf42d76bf94', 'size': 440534, 'path': 'media/images/error_119_85e0251e5dbb4f7ed463.png', 'format': 'png', 'width': 688, 'height': 550, 'caption': 'Error', 'masks': {'error': {'_type': 'mask', 'sha256': '561cc4f76dfecb9c9ab2e6544f75406b2e66c52a9c6a94676524c6e96d12ee6d', 'size': 4218, 'path': 'media/images/mask/error_119_561cc4f76dfecb9c9ab2.mask.png'}}}, '_timestamp': 1716384780.269569}).\n"
     ]
    },
    {
     "data": {
      "text/plain": [
       "Validation: |          | 0/? [00:00<?, ?it/s]"
      ],
      "application/vnd.jupyter.widget-view+json": {
       "version_major": 2,
       "version_minor": 0,
       "model_id": "24a6735247734c4685968d3fe18ad443"
      }
     },
     "metadata": {},
     "output_type": "display_data"
    },
    {
     "name": "stderr",
     "output_type": "stream",
     "text": [
      "\u001B[34m\u001B[1mwandb\u001B[0m: \u001B[33mWARNING\u001B[0m (User provided step: 52 is less than current step: 120. Dropping entry: {'prediction': {'_type': 'image-file', 'sha256': '85e0251e5dbb4f7ed46382dffe961d6138ea6c02ae35ff9f5141bdf42d76bf94', 'size': 440534, 'path': 'media/images/prediction_120_85e0251e5dbb4f7ed463.png', 'format': 'png', 'width': 688, 'height': 550, 'caption': 'Prediction', 'masks': {'prediction': {'_type': 'mask', 'sha256': 'b71e6762b3cbbd3f60964860afaf4cf656ae23c5e2915edaee8fdc8ef8e6eb79', 'size': 1759, 'path': 'media/images/mask/prediction_120_b71e6762b3cbbd3f6096.mask.png'}}}, '_timestamp': 1716384802.1740458}).\n",
      "\u001B[34m\u001B[1mwandb\u001B[0m: \u001B[33mWARNING\u001B[0m (User provided step: 52 is less than current step: 120. Dropping entry: {'entropy': {'_type': 'image-file', 'sha256': '5b11be8384c401c13e08a67f89d50c500e63f0f2d913b3d391eb8a970a65d8aa', 'size': 85142, 'path': 'media/images/entropy_120_5b11be8384c401c13e08.png', 'format': 'png', 'width': 688, 'height': 550, 'caption': 'Entropy'}, '_timestamp': 1716384802.2685397}).\n",
      "\u001B[34m\u001B[1mwandb\u001B[0m: \u001B[33mWARNING\u001B[0m (User provided step: 52 is less than current step: 120. Dropping entry: {'ground_truth': {'_type': 'image-file', 'sha256': '85e0251e5dbb4f7ed46382dffe961d6138ea6c02ae35ff9f5141bdf42d76bf94', 'size': 440534, 'path': 'media/images/ground_truth_120_85e0251e5dbb4f7ed463.png', 'format': 'png', 'width': 688, 'height': 550, 'caption': 'Ground truth', 'masks': {'ground_truth': {'_type': 'mask', 'sha256': '5a572d8ea5561a9b2386dd6431ff098415a7a6c677802c151afbeeb661f3b7fd', 'size': 1742, 'path': 'media/images/mask/ground_truth_120_5a572d8ea5561a9b2386.mask.png'}}}, '_timestamp': 1716384802.451182}).\n",
      "\u001B[34m\u001B[1mwandb\u001B[0m: \u001B[33mWARNING\u001B[0m (User provided step: 52 is less than current step: 120. Dropping entry: {'error': {'_type': 'image-file', 'sha256': '85e0251e5dbb4f7ed46382dffe961d6138ea6c02ae35ff9f5141bdf42d76bf94', 'size': 440534, 'path': 'media/images/error_120_85e0251e5dbb4f7ed463.png', 'format': 'png', 'width': 688, 'height': 550, 'caption': 'Error', 'masks': {'error': {'_type': 'mask', 'sha256': 'f7285472275ae26619a0189cda60258211caa9e52c51c28a0e18e701dff9af7d', 'size': 1375, 'path': 'media/images/mask/error_120_f7285472275ae26619a0.mask.png'}}}, '_timestamp': 1716384802.6343153}).\n"
     ]
    },
    {
     "data": {
      "text/plain": [
       "Validation: |          | 0/? [00:00<?, ?it/s]"
      ],
      "application/vnd.jupyter.widget-view+json": {
       "version_major": 2,
       "version_minor": 0,
       "model_id": "169107c3769e43fca9e6f081d41e10f7"
      }
     },
     "metadata": {},
     "output_type": "display_data"
    },
    {
     "name": "stderr",
     "output_type": "stream",
     "text": [
      "\u001B[34m\u001B[1mwandb\u001B[0m: \u001B[33mWARNING\u001B[0m (User provided step: 53 is less than current step: 123. Dropping entry: {'prediction': {'_type': 'image-file', 'sha256': '85e0251e5dbb4f7ed46382dffe961d6138ea6c02ae35ff9f5141bdf42d76bf94', 'size': 440534, 'path': 'media/images/prediction_123_85e0251e5dbb4f7ed463.png', 'format': 'png', 'width': 688, 'height': 550, 'caption': 'Prediction', 'masks': {'prediction': {'_type': 'mask', 'sha256': '19251827a73de0e79a4d4f61d6ff7b8fe9bfb1b62bf79e37d1b51bce107ae813', 'size': 2641, 'path': 'media/images/mask/prediction_123_19251827a73de0e79a4d.mask.png'}}}, '_timestamp': 1716384819.1746585}).\n",
      "\u001B[34m\u001B[1mwandb\u001B[0m: \u001B[33mWARNING\u001B[0m (User provided step: 53 is less than current step: 123. Dropping entry: {'entropy': {'_type': 'image-file', 'sha256': '88d65c75e99fc26a539adfe529d54261b30f219cb8b91651636713922eea493e', 'size': 129390, 'path': 'media/images/entropy_123_88d65c75e99fc26a539a.png', 'format': 'png', 'width': 688, 'height': 550, 'caption': 'Entropy'}, '_timestamp': 1716384819.2870631}).\n",
      "\u001B[34m\u001B[1mwandb\u001B[0m: \u001B[33mWARNING\u001B[0m (User provided step: 53 is less than current step: 123. Dropping entry: {'ground_truth': {'_type': 'image-file', 'sha256': '85e0251e5dbb4f7ed46382dffe961d6138ea6c02ae35ff9f5141bdf42d76bf94', 'size': 440534, 'path': 'media/images/ground_truth_123_85e0251e5dbb4f7ed463.png', 'format': 'png', 'width': 688, 'height': 550, 'caption': 'Ground truth', 'masks': {'ground_truth': {'_type': 'mask', 'sha256': '5a572d8ea5561a9b2386dd6431ff098415a7a6c677802c151afbeeb661f3b7fd', 'size': 1742, 'path': 'media/images/mask/ground_truth_123_5a572d8ea5561a9b2386.mask.png'}}}, '_timestamp': 1716384819.469722}).\n",
      "\u001B[34m\u001B[1mwandb\u001B[0m: \u001B[33mWARNING\u001B[0m (User provided step: 53 is less than current step: 123. Dropping entry: {'error': {'_type': 'image-file', 'sha256': '85e0251e5dbb4f7ed46382dffe961d6138ea6c02ae35ff9f5141bdf42d76bf94', 'size': 440534, 'path': 'media/images/error_123_85e0251e5dbb4f7ed463.png', 'format': 'png', 'width': 688, 'height': 550, 'caption': 'Error', 'masks': {'error': {'_type': 'mask', 'sha256': 'ea99cb99486eb5cc932ca7c6590b794f37eb4f21300aeee3a44e39b2ea81b015', 'size': 1775, 'path': 'media/images/mask/error_123_ea99cb99486eb5cc932c.mask.png'}}}, '_timestamp': 1716384819.652438}).\n"
     ]
    },
    {
     "data": {
      "text/plain": [
       "Validation: |          | 0/? [00:00<?, ?it/s]"
      ],
      "application/vnd.jupyter.widget-view+json": {
       "version_major": 2,
       "version_minor": 0,
       "model_id": "c4ab08b8b37e40ce9ba981a782e5bae4"
      }
     },
     "metadata": {},
     "output_type": "display_data"
    },
    {
     "name": "stderr",
     "output_type": "stream",
     "text": [
      "\u001B[34m\u001B[1mwandb\u001B[0m: \u001B[33mWARNING\u001B[0m (User provided step: 54 is less than current step: 126. Dropping entry: {'prediction': {'_type': 'image-file', 'sha256': '85e0251e5dbb4f7ed46382dffe961d6138ea6c02ae35ff9f5141bdf42d76bf94', 'size': 440534, 'path': 'media/images/prediction_126_85e0251e5dbb4f7ed463.png', 'format': 'png', 'width': 688, 'height': 550, 'caption': 'Prediction', 'masks': {'prediction': {'_type': 'mask', 'sha256': '7941180dcc5fdaac973f33910216d7b4cd82ba7c97736089bad9603e5cead496', 'size': 1781, 'path': 'media/images/mask/prediction_126_7941180dcc5fdaac973f.mask.png'}}}, '_timestamp': 1716384837.0481308}).\n",
      "\u001B[34m\u001B[1mwandb\u001B[0m: \u001B[33mWARNING\u001B[0m (User provided step: 54 is less than current step: 126. Dropping entry: {'entropy': {'_type': 'image-file', 'sha256': 'c365863fe82e3fe8c7cf99000d978163186c226c809c2e98456e3c39bc595052', 'size': 68914, 'path': 'media/images/entropy_126_c365863fe82e3fe8c7cf.png', 'format': 'png', 'width': 688, 'height': 550, 'caption': 'Entropy'}, '_timestamp': 1716384837.1294203}).\n",
      "\u001B[34m\u001B[1mwandb\u001B[0m: \u001B[33mWARNING\u001B[0m (User provided step: 54 is less than current step: 126. Dropping entry: {'ground_truth': {'_type': 'image-file', 'sha256': '85e0251e5dbb4f7ed46382dffe961d6138ea6c02ae35ff9f5141bdf42d76bf94', 'size': 440534, 'path': 'media/images/ground_truth_126_85e0251e5dbb4f7ed463.png', 'format': 'png', 'width': 688, 'height': 550, 'caption': 'Ground truth', 'masks': {'ground_truth': {'_type': 'mask', 'sha256': '5a572d8ea5561a9b2386dd6431ff098415a7a6c677802c151afbeeb661f3b7fd', 'size': 1742, 'path': 'media/images/mask/ground_truth_126_5a572d8ea5561a9b2386.mask.png'}}}, '_timestamp': 1716384837.3102903}).\n",
      "\u001B[34m\u001B[1mwandb\u001B[0m: \u001B[33mWARNING\u001B[0m (User provided step: 54 is less than current step: 126. Dropping entry: {'error': {'_type': 'image-file', 'sha256': '85e0251e5dbb4f7ed46382dffe961d6138ea6c02ae35ff9f5141bdf42d76bf94', 'size': 440534, 'path': 'media/images/error_126_85e0251e5dbb4f7ed463.png', 'format': 'png', 'width': 688, 'height': 550, 'caption': 'Error', 'masks': {'error': {'_type': 'mask', 'sha256': '89a1c4838eceebffa8d341eb627d812195b8e0036428750997b5126dbcf8c2c7', 'size': 945, 'path': 'media/images/mask/error_126_89a1c4838eceebffa8d3.mask.png'}}}, '_timestamp': 1716384837.491262}).\n"
     ]
    },
    {
     "data": {
      "text/plain": [
       "Validation: |          | 0/? [00:00<?, ?it/s]"
      ],
      "application/vnd.jupyter.widget-view+json": {
       "version_major": 2,
       "version_minor": 0,
       "model_id": "4dd7dc2533014998b137f45c1666b31b"
      }
     },
     "metadata": {},
     "output_type": "display_data"
    },
    {
     "name": "stderr",
     "output_type": "stream",
     "text": [
      "\u001B[34m\u001B[1mwandb\u001B[0m: \u001B[33mWARNING\u001B[0m (User provided step: 55 is less than current step: 129. Dropping entry: {'prediction': {'_type': 'image-file', 'sha256': '85e0251e5dbb4f7ed46382dffe961d6138ea6c02ae35ff9f5141bdf42d76bf94', 'size': 440534, 'path': 'media/images/prediction_129_85e0251e5dbb4f7ed463.png', 'format': 'png', 'width': 688, 'height': 550, 'caption': 'Prediction', 'masks': {'prediction': {'_type': 'mask', 'sha256': 'c17142ee48ab9f72c75a76035fb1d12e24e119b045c963148765373177ba0d64', 'size': 2095, 'path': 'media/images/mask/prediction_129_c17142ee48ab9f72c75a.mask.png'}}}, '_timestamp': 1716384854.1358156}).\n",
      "\u001B[34m\u001B[1mwandb\u001B[0m: \u001B[33mWARNING\u001B[0m (User provided step: 55 is less than current step: 129. Dropping entry: {'entropy': {'_type': 'image-file', 'sha256': '7716944ea8125f2ef5c0e6831f7ae24add08cec1f184474452331578efad3a79', 'size': 88285, 'path': 'media/images/entropy_129_7716944ea8125f2ef5c0.png', 'format': 'png', 'width': 688, 'height': 550, 'caption': 'Entropy'}, '_timestamp': 1716384854.223069}).\n",
      "\u001B[34m\u001B[1mwandb\u001B[0m: \u001B[33mWARNING\u001B[0m (User provided step: 55 is less than current step: 129. Dropping entry: {'ground_truth': {'_type': 'image-file', 'sha256': '85e0251e5dbb4f7ed46382dffe961d6138ea6c02ae35ff9f5141bdf42d76bf94', 'size': 440534, 'path': 'media/images/ground_truth_129_85e0251e5dbb4f7ed463.png', 'format': 'png', 'width': 688, 'height': 550, 'caption': 'Ground truth', 'masks': {'ground_truth': {'_type': 'mask', 'sha256': '5a572d8ea5561a9b2386dd6431ff098415a7a6c677802c151afbeeb661f3b7fd', 'size': 1742, 'path': 'media/images/mask/ground_truth_129_5a572d8ea5561a9b2386.mask.png'}}}, '_timestamp': 1716384854.4041095}).\n",
      "\u001B[34m\u001B[1mwandb\u001B[0m: \u001B[33mWARNING\u001B[0m (User provided step: 55 is less than current step: 129. Dropping entry: {'error': {'_type': 'image-file', 'sha256': '85e0251e5dbb4f7ed46382dffe961d6138ea6c02ae35ff9f5141bdf42d76bf94', 'size': 440534, 'path': 'media/images/error_129_85e0251e5dbb4f7ed463.png', 'format': 'png', 'width': 688, 'height': 550, 'caption': 'Error', 'masks': {'error': {'_type': 'mask', 'sha256': '2c9dbc939553acb94226fb0e6f6d02777ca980c3770b04aea0318300a09011ed', 'size': 1268, 'path': 'media/images/mask/error_129_2c9dbc939553acb94226.mask.png'}}}, '_timestamp': 1716384854.585603}).\n"
     ]
    },
    {
     "data": {
      "text/plain": [
       "Validation: |          | 0/? [00:00<?, ?it/s]"
      ],
      "application/vnd.jupyter.widget-view+json": {
       "version_major": 2,
       "version_minor": 0,
       "model_id": "3943c4808b1f40139d2c127c7fc76110"
      }
     },
     "metadata": {},
     "output_type": "display_data"
    },
    {
     "name": "stderr",
     "output_type": "stream",
     "text": [
      "\u001B[34m\u001B[1mwandb\u001B[0m: \u001B[33mWARNING\u001B[0m (User provided step: 56 is less than current step: 132. Dropping entry: {'prediction': {'_type': 'image-file', 'sha256': '85e0251e5dbb4f7ed46382dffe961d6138ea6c02ae35ff9f5141bdf42d76bf94', 'size': 440534, 'path': 'media/images/prediction_132_85e0251e5dbb4f7ed463.png', 'format': 'png', 'width': 688, 'height': 550, 'caption': 'Prediction', 'masks': {'prediction': {'_type': 'mask', 'sha256': '6d3511bdc5ef3c2535a60dda31f57011eaab19433491214291d5db8fdc56f790', 'size': 1938, 'path': 'media/images/mask/prediction_132_6d3511bdc5ef3c2535a6.mask.png'}}}, '_timestamp': 1716384871.3980706}).\n",
      "\u001B[34m\u001B[1mwandb\u001B[0m: \u001B[33mWARNING\u001B[0m (User provided step: 56 is less than current step: 132. Dropping entry: {'entropy': {'_type': 'image-file', 'sha256': 'bb0414712185ab6d8b53c24f7520ed0b6d9e5de315d99b1f9d314c2d4b1fa06a', 'size': 58219, 'path': 'media/images/entropy_132_bb0414712185ab6d8b53.png', 'format': 'png', 'width': 688, 'height': 550, 'caption': 'Entropy'}, '_timestamp': 1716384871.473315}).\n",
      "\u001B[34m\u001B[1mwandb\u001B[0m: \u001B[33mWARNING\u001B[0m (User provided step: 56 is less than current step: 132. Dropping entry: {'ground_truth': {'_type': 'image-file', 'sha256': '85e0251e5dbb4f7ed46382dffe961d6138ea6c02ae35ff9f5141bdf42d76bf94', 'size': 440534, 'path': 'media/images/ground_truth_132_85e0251e5dbb4f7ed463.png', 'format': 'png', 'width': 688, 'height': 550, 'caption': 'Ground truth', 'masks': {'ground_truth': {'_type': 'mask', 'sha256': '5a572d8ea5561a9b2386dd6431ff098415a7a6c677802c151afbeeb661f3b7fd', 'size': 1742, 'path': 'media/images/mask/ground_truth_132_5a572d8ea5561a9b2386.mask.png'}}}, '_timestamp': 1716384871.652036}).\n",
      "\u001B[34m\u001B[1mwandb\u001B[0m: \u001B[33mWARNING\u001B[0m (User provided step: 56 is less than current step: 132. Dropping entry: {'error': {'_type': 'image-file', 'sha256': '85e0251e5dbb4f7ed46382dffe961d6138ea6c02ae35ff9f5141bdf42d76bf94', 'size': 440534, 'path': 'media/images/error_132_85e0251e5dbb4f7ed463.png', 'format': 'png', 'width': 688, 'height': 550, 'caption': 'Error', 'masks': {'error': {'_type': 'mask', 'sha256': '34ff77ba68bbebe71c4c901c2b3a3b9c2e3820553d0442efb060ac73889d9070', 'size': 1127, 'path': 'media/images/mask/error_132_34ff77ba68bbebe71c4c.mask.png'}}}, '_timestamp': 1716384871.830987}).\n"
     ]
    },
    {
     "data": {
      "text/plain": [
       "Validation: |          | 0/? [00:00<?, ?it/s]"
      ],
      "application/vnd.jupyter.widget-view+json": {
       "version_major": 2,
       "version_minor": 0,
       "model_id": "692655578b6d454999ce5de4077317e2"
      }
     },
     "metadata": {},
     "output_type": "display_data"
    },
    {
     "name": "stderr",
     "output_type": "stream",
     "text": [
      "\u001B[34m\u001B[1mwandb\u001B[0m: \u001B[33mWARNING\u001B[0m (User provided step: 57 is less than current step: 135. Dropping entry: {'prediction': {'_type': 'image-file', 'sha256': '85e0251e5dbb4f7ed46382dffe961d6138ea6c02ae35ff9f5141bdf42d76bf94', 'size': 440534, 'path': 'media/images/prediction_135_85e0251e5dbb4f7ed463.png', 'format': 'png', 'width': 688, 'height': 550, 'caption': 'Prediction', 'masks': {'prediction': {'_type': 'mask', 'sha256': '2ab06719a000bb5cf7bb2c41ce3ffedea97f4d9dd325dd2bb7976e2ad0152618', 'size': 1678, 'path': 'media/images/mask/prediction_135_2ab06719a000bb5cf7bb.mask.png'}}}, '_timestamp': 1716384888.7294586}).\n",
      "\u001B[34m\u001B[1mwandb\u001B[0m: \u001B[33mWARNING\u001B[0m (User provided step: 57 is less than current step: 135. Dropping entry: {'entropy': {'_type': 'image-file', 'sha256': '32f89874f8e44ebcfc3cc30efc2a2e84e90de01278939a9f60706f210d258603', 'size': 63811, 'path': 'media/images/entropy_135_32f89874f8e44ebcfc3c.png', 'format': 'png', 'width': 688, 'height': 550, 'caption': 'Entropy'}, '_timestamp': 1716384888.8080158}).\n",
      "\u001B[34m\u001B[1mwandb\u001B[0m: \u001B[33mWARNING\u001B[0m (User provided step: 57 is less than current step: 135. Dropping entry: {'ground_truth': {'_type': 'image-file', 'sha256': '85e0251e5dbb4f7ed46382dffe961d6138ea6c02ae35ff9f5141bdf42d76bf94', 'size': 440534, 'path': 'media/images/ground_truth_135_85e0251e5dbb4f7ed463.png', 'format': 'png', 'width': 688, 'height': 550, 'caption': 'Ground truth', 'masks': {'ground_truth': {'_type': 'mask', 'sha256': '5a572d8ea5561a9b2386dd6431ff098415a7a6c677802c151afbeeb661f3b7fd', 'size': 1742, 'path': 'media/images/mask/ground_truth_135_5a572d8ea5561a9b2386.mask.png'}}}, '_timestamp': 1716384888.9918995}).\n",
      "\u001B[34m\u001B[1mwandb\u001B[0m: \u001B[33mWARNING\u001B[0m (User provided step: 57 is less than current step: 135. Dropping entry: {'error': {'_type': 'image-file', 'sha256': '85e0251e5dbb4f7ed46382dffe961d6138ea6c02ae35ff9f5141bdf42d76bf94', 'size': 440534, 'path': 'media/images/error_135_85e0251e5dbb4f7ed463.png', 'format': 'png', 'width': 688, 'height': 550, 'caption': 'Error', 'masks': {'error': {'_type': 'mask', 'sha256': '46e0e1dadb18c1d64afcc8c5d42f4d87fe04bc5796499d877d4382df66a4b63b', 'size': 817, 'path': 'media/images/mask/error_135_46e0e1dadb18c1d64afc.mask.png'}}}, '_timestamp': 1716384889.174246}).\n"
     ]
    },
    {
     "data": {
      "text/plain": [
       "Validation: |          | 0/? [00:00<?, ?it/s]"
      ],
      "application/vnd.jupyter.widget-view+json": {
       "version_major": 2,
       "version_minor": 0,
       "model_id": "92a41379183b420083f3e5ba7793a740"
      }
     },
     "metadata": {},
     "output_type": "display_data"
    },
    {
     "data": {
      "text/plain": [
       "Validation: |          | 0/? [00:00<?, ?it/s]"
      ],
      "application/vnd.jupyter.widget-view+json": {
       "version_major": 2,
       "version_minor": 0,
       "model_id": "f80a201e060042da9c774c3006640405"
      }
     },
     "metadata": {},
     "output_type": "display_data"
    },
    {
     "name": "stderr",
     "output_type": "stream",
     "text": [
      "\u001B[34m\u001B[1mwandb\u001B[0m: \u001B[33mWARNING\u001B[0m (User provided step: 58 is less than current step: 138. Dropping entry: {'prediction': {'_type': 'image-file', 'sha256': '85e0251e5dbb4f7ed46382dffe961d6138ea6c02ae35ff9f5141bdf42d76bf94', 'size': 440534, 'path': 'media/images/prediction_138_85e0251e5dbb4f7ed463.png', 'format': 'png', 'width': 688, 'height': 550, 'caption': 'Prediction', 'masks': {'prediction': {'_type': 'mask', 'sha256': '1d28c0d9ef4b5b6162eb4ca44e5975c5bf981d707dd5e1a6553ca3501ae9e71d', 'size': 2088, 'path': 'media/images/mask/prediction_138_1d28c0d9ef4b5b6162eb.mask.png'}}}, '_timestamp': 1716384905.9036689}).\n",
      "\u001B[34m\u001B[1mwandb\u001B[0m: \u001B[33mWARNING\u001B[0m (User provided step: 58 is less than current step: 138. Dropping entry: {'entropy': {'_type': 'image-file', 'sha256': 'fc88520e25020d4839b26bbba7fe1e7bca3f497bb406eb7d1a2f82cd03d5f8b8', 'size': 113207, 'path': 'media/images/entropy_138_fc88520e25020d4839b2.png', 'format': 'png', 'width': 688, 'height': 550, 'caption': 'Entropy'}, '_timestamp': 1716384905.9972057}).\n",
      "\u001B[34m\u001B[1mwandb\u001B[0m: \u001B[33mWARNING\u001B[0m (User provided step: 58 is less than current step: 138. Dropping entry: {'ground_truth': {'_type': 'image-file', 'sha256': '85e0251e5dbb4f7ed46382dffe961d6138ea6c02ae35ff9f5141bdf42d76bf94', 'size': 440534, 'path': 'media/images/ground_truth_138_85e0251e5dbb4f7ed463.png', 'format': 'png', 'width': 688, 'height': 550, 'caption': 'Ground truth', 'masks': {'ground_truth': {'_type': 'mask', 'sha256': '5a572d8ea5561a9b2386dd6431ff098415a7a6c677802c151afbeeb661f3b7fd', 'size': 1742, 'path': 'media/images/mask/ground_truth_138_5a572d8ea5561a9b2386.mask.png'}}}, '_timestamp': 1716384906.176113}).\n",
      "\u001B[34m\u001B[1mwandb\u001B[0m: \u001B[33mWARNING\u001B[0m (User provided step: 58 is less than current step: 138. Dropping entry: {'error': {'_type': 'image-file', 'sha256': '85e0251e5dbb4f7ed46382dffe961d6138ea6c02ae35ff9f5141bdf42d76bf94', 'size': 440534, 'path': 'media/images/error_138_85e0251e5dbb4f7ed463.png', 'format': 'png', 'width': 688, 'height': 550, 'caption': 'Error', 'masks': {'error': {'_type': 'mask', 'sha256': '025b448d790fd600824d3fb4579bf128f29dff2edd5c444ca98dac926ea89ca1', 'size': 1266, 'path': 'media/images/mask/error_138_025b448d790fd600824d.mask.png'}}}, '_timestamp': 1716384906.3560395}).\n",
      "\u001B[34m\u001B[1mwandb\u001B[0m: \u001B[33mWARNING\u001B[0m (User provided step: 59 is less than current step: 142. Dropping entry: {'prediction': {'_type': 'image-file', 'sha256': '85e0251e5dbb4f7ed46382dffe961d6138ea6c02ae35ff9f5141bdf42d76bf94', 'size': 440534, 'path': 'media/images/prediction_142_85e0251e5dbb4f7ed463.png', 'format': 'png', 'width': 688, 'height': 550, 'caption': 'Prediction', 'masks': {'prediction': {'_type': 'mask', 'sha256': 'd9e5827e2dbc5a95b11b424c7a39184cdfa9569437c468028e7387a64a8bcadc', 'size': 1708, 'path': 'media/images/mask/prediction_142_d9e5827e2dbc5a95b11b.mask.png'}}}, '_timestamp': 1716384923.086612}).\n",
      "\u001B[34m\u001B[1mwandb\u001B[0m: \u001B[33mWARNING\u001B[0m (User provided step: 59 is less than current step: 142. Dropping entry: {'entropy': {'_type': 'image-file', 'sha256': 'f9fa43dedb265ec64a2821b61003f49fb3f0be7d048d414cda4c00982b700c1b', 'size': 64793, 'path': 'media/images/entropy_142_f9fa43dedb265ec64a28.png', 'format': 'png', 'width': 688, 'height': 550, 'caption': 'Entropy'}, '_timestamp': 1716384923.1626923}).\n",
      "\u001B[34m\u001B[1mwandb\u001B[0m: \u001B[33mWARNING\u001B[0m (User provided step: 59 is less than current step: 142. Dropping entry: {'ground_truth': {'_type': 'image-file', 'sha256': '85e0251e5dbb4f7ed46382dffe961d6138ea6c02ae35ff9f5141bdf42d76bf94', 'size': 440534, 'path': 'media/images/ground_truth_142_85e0251e5dbb4f7ed463.png', 'format': 'png', 'width': 688, 'height': 550, 'caption': 'Ground truth', 'masks': {'ground_truth': {'_type': 'mask', 'sha256': '5a572d8ea5561a9b2386dd6431ff098415a7a6c677802c151afbeeb661f3b7fd', 'size': 1742, 'path': 'media/images/mask/ground_truth_142_5a572d8ea5561a9b2386.mask.png'}}}, '_timestamp': 1716384923.3455768}).\n",
      "\u001B[34m\u001B[1mwandb\u001B[0m: \u001B[33mWARNING\u001B[0m (User provided step: 59 is less than current step: 142. Dropping entry: {'error': {'_type': 'image-file', 'sha256': '85e0251e5dbb4f7ed46382dffe961d6138ea6c02ae35ff9f5141bdf42d76bf94', 'size': 440534, 'path': 'media/images/error_142_85e0251e5dbb4f7ed463.png', 'format': 'png', 'width': 688, 'height': 550, 'caption': 'Error', 'masks': {'error': {'_type': 'mask', 'sha256': '63c680e39a07956c261650f163f91d5a4d960702e4bf225bd6365c0a1e961e62', 'size': 827, 'path': 'media/images/mask/error_142_63c680e39a07956c2616.mask.png'}}}, '_timestamp': 1716384923.5270708}).\n"
     ]
    },
    {
     "data": {
      "text/plain": [
       "Validation: |          | 0/? [00:00<?, ?it/s]"
      ],
      "application/vnd.jupyter.widget-view+json": {
       "version_major": 2,
       "version_minor": 0,
       "model_id": "db38f036e8b247a0b52384f7b36264ed"
      }
     },
     "metadata": {},
     "output_type": "display_data"
    },
    {
     "name": "stderr",
     "output_type": "stream",
     "text": [
      "\u001B[34m\u001B[1mwandb\u001B[0m: \u001B[33mWARNING\u001B[0m (User provided step: 60 is less than current step: 145. Dropping entry: {'prediction': {'_type': 'image-file', 'sha256': '85e0251e5dbb4f7ed46382dffe961d6138ea6c02ae35ff9f5141bdf42d76bf94', 'size': 440534, 'path': 'media/images/prediction_145_85e0251e5dbb4f7ed463.png', 'format': 'png', 'width': 688, 'height': 550, 'caption': 'Prediction', 'masks': {'prediction': {'_type': 'mask', 'sha256': 'c2609778a92087dc79289c2623cbc5c3889156916b4223a7bfec740cc62502a7', 'size': 1931, 'path': 'media/images/mask/prediction_145_c2609778a92087dc7928.mask.png'}}}, '_timestamp': 1716384940.3008327}).\n",
      "\u001B[34m\u001B[1mwandb\u001B[0m: \u001B[33mWARNING\u001B[0m (User provided step: 60 is less than current step: 145. Dropping entry: {'entropy': {'_type': 'image-file', 'sha256': '187d1e573b9e19d967dfdf381e3ba9e8cc712d42327c986ffdef736d9afbe03d', 'size': 86421, 'path': 'media/images/entropy_145_187d1e573b9e19d967df.png', 'format': 'png', 'width': 688, 'height': 550, 'caption': 'Entropy'}, '_timestamp': 1716384940.384766}).\n",
      "\u001B[34m\u001B[1mwandb\u001B[0m: \u001B[33mWARNING\u001B[0m (User provided step: 60 is less than current step: 145. Dropping entry: {'ground_truth': {'_type': 'image-file', 'sha256': '85e0251e5dbb4f7ed46382dffe961d6138ea6c02ae35ff9f5141bdf42d76bf94', 'size': 440534, 'path': 'media/images/ground_truth_145_85e0251e5dbb4f7ed463.png', 'format': 'png', 'width': 688, 'height': 550, 'caption': 'Ground truth', 'masks': {'ground_truth': {'_type': 'mask', 'sha256': '5a572d8ea5561a9b2386dd6431ff098415a7a6c677802c151afbeeb661f3b7fd', 'size': 1742, 'path': 'media/images/mask/ground_truth_145_5a572d8ea5561a9b2386.mask.png'}}}, '_timestamp': 1716384940.5651662}).\n",
      "\u001B[34m\u001B[1mwandb\u001B[0m: \u001B[33mWARNING\u001B[0m (User provided step: 60 is less than current step: 145. Dropping entry: {'error': {'_type': 'image-file', 'sha256': '85e0251e5dbb4f7ed46382dffe961d6138ea6c02ae35ff9f5141bdf42d76bf94', 'size': 440534, 'path': 'media/images/error_145_85e0251e5dbb4f7ed463.png', 'format': 'png', 'width': 688, 'height': 550, 'caption': 'Error', 'masks': {'error': {'_type': 'mask', 'sha256': '1c17dd0350680c554f22fde2e7ffddf6cc1b26a8679e883f6030030a103472a8', 'size': 1125, 'path': 'media/images/mask/error_145_1c17dd0350680c554f22.mask.png'}}}, '_timestamp': 1716384940.7431793}).\n"
     ]
    },
    {
     "data": {
      "text/plain": [
       "Validation: |          | 0/? [00:00<?, ?it/s]"
      ],
      "application/vnd.jupyter.widget-view+json": {
       "version_major": 2,
       "version_minor": 0,
       "model_id": "02f59e00b1bf4a7a9f8ce59bcf5e8178"
      }
     },
     "metadata": {},
     "output_type": "display_data"
    },
    {
     "name": "stderr",
     "output_type": "stream",
     "text": [
      "\u001B[34m\u001B[1mwandb\u001B[0m: \u001B[33mWARNING\u001B[0m (User provided step: 61 is less than current step: 148. Dropping entry: {'prediction': {'_type': 'image-file', 'sha256': '85e0251e5dbb4f7ed46382dffe961d6138ea6c02ae35ff9f5141bdf42d76bf94', 'size': 440534, 'path': 'media/images/prediction_148_85e0251e5dbb4f7ed463.png', 'format': 'png', 'width': 688, 'height': 550, 'caption': 'Prediction', 'masks': {'prediction': {'_type': 'mask', 'sha256': 'acb9ff9761817c27d40ffb039eaea4d87580815be67e472c916856e3813e3bf5', 'size': 1957, 'path': 'media/images/mask/prediction_148_acb9ff9761817c27d40f.mask.png'}}}, '_timestamp': 1716384957.4407897}).\n",
      "\u001B[34m\u001B[1mwandb\u001B[0m: \u001B[33mWARNING\u001B[0m (User provided step: 61 is less than current step: 148. Dropping entry: {'entropy': {'_type': 'image-file', 'sha256': 'bed9407b141c25e22f6013628d48f1c9996bbd0e2854fff7661c55c1fda06b11', 'size': 118165, 'path': 'media/images/entropy_148_bed9407b141c25e22f60.png', 'format': 'png', 'width': 688, 'height': 550, 'caption': 'Entropy'}, '_timestamp': 1716384957.541814}).\n",
      "\u001B[34m\u001B[1mwandb\u001B[0m: \u001B[33mWARNING\u001B[0m (User provided step: 61 is less than current step: 148. Dropping entry: {'ground_truth': {'_type': 'image-file', 'sha256': '85e0251e5dbb4f7ed46382dffe961d6138ea6c02ae35ff9f5141bdf42d76bf94', 'size': 440534, 'path': 'media/images/ground_truth_148_85e0251e5dbb4f7ed463.png', 'format': 'png', 'width': 688, 'height': 550, 'caption': 'Ground truth', 'masks': {'ground_truth': {'_type': 'mask', 'sha256': '5a572d8ea5561a9b2386dd6431ff098415a7a6c677802c151afbeeb661f3b7fd', 'size': 1742, 'path': 'media/images/mask/ground_truth_148_5a572d8ea5561a9b2386.mask.png'}}}, '_timestamp': 1716384957.7222745}).\n",
      "\u001B[34m\u001B[1mwandb\u001B[0m: \u001B[33mWARNING\u001B[0m (User provided step: 61 is less than current step: 148. Dropping entry: {'error': {'_type': 'image-file', 'sha256': '85e0251e5dbb4f7ed46382dffe961d6138ea6c02ae35ff9f5141bdf42d76bf94', 'size': 440534, 'path': 'media/images/error_148_85e0251e5dbb4f7ed463.png', 'format': 'png', 'width': 688, 'height': 550, 'caption': 'Error', 'masks': {'error': {'_type': 'mask', 'sha256': '7ce7d4f963ae1db13495db228d83bb28b1ecfd7fe38a16a6b365fa263e8f7308', 'size': 1155, 'path': 'media/images/mask/error_148_7ce7d4f963ae1db13495.mask.png'}}}, '_timestamp': 1716384957.9044898}).\n"
     ]
    },
    {
     "data": {
      "text/plain": [
       "Validation: |          | 0/? [00:00<?, ?it/s]"
      ],
      "application/vnd.jupyter.widget-view+json": {
       "version_major": 2,
       "version_minor": 0,
       "model_id": "40e01301ca1f40a9942733ae983359e3"
      }
     },
     "metadata": {},
     "output_type": "display_data"
    },
    {
     "name": "stderr",
     "output_type": "stream",
     "text": [
      "\u001B[34m\u001B[1mwandb\u001B[0m: \u001B[33mWARNING\u001B[0m (User provided step: 62 is less than current step: 151. Dropping entry: {'prediction': {'_type': 'image-file', 'sha256': '85e0251e5dbb4f7ed46382dffe961d6138ea6c02ae35ff9f5141bdf42d76bf94', 'size': 440534, 'path': 'media/images/prediction_151_85e0251e5dbb4f7ed463.png', 'format': 'png', 'width': 688, 'height': 550, 'caption': 'Prediction', 'masks': {'prediction': {'_type': 'mask', 'sha256': '8f6732480980c00545e7281f9d35254899c3956ca3f3bb80277568186e8c92b6', 'size': 1748, 'path': 'media/images/mask/prediction_151_8f6732480980c00545e7.mask.png'}}}, '_timestamp': 1716384974.7246773}).\n",
      "\u001B[34m\u001B[1mwandb\u001B[0m: \u001B[33mWARNING\u001B[0m (User provided step: 62 is less than current step: 151. Dropping entry: {'entropy': {'_type': 'image-file', 'sha256': '1386f2de846c1fd0256b40fe8decfcbdd2cf39746f5184c17ace73f238f0b242', 'size': 67663, 'path': 'media/images/entropy_151_1386f2de846c1fd0256b.png', 'format': 'png', 'width': 688, 'height': 550, 'caption': 'Entropy'}, '_timestamp': 1716384974.8017297}).\n",
      "\u001B[34m\u001B[1mwandb\u001B[0m: \u001B[33mWARNING\u001B[0m (User provided step: 62 is less than current step: 151. Dropping entry: {'ground_truth': {'_type': 'image-file', 'sha256': '85e0251e5dbb4f7ed46382dffe961d6138ea6c02ae35ff9f5141bdf42d76bf94', 'size': 440534, 'path': 'media/images/ground_truth_151_85e0251e5dbb4f7ed463.png', 'format': 'png', 'width': 688, 'height': 550, 'caption': 'Ground truth', 'masks': {'ground_truth': {'_type': 'mask', 'sha256': '5a572d8ea5561a9b2386dd6431ff098415a7a6c677802c151afbeeb661f3b7fd', 'size': 1742, 'path': 'media/images/mask/ground_truth_151_5a572d8ea5561a9b2386.mask.png'}}}, '_timestamp': 1716384974.9814174}).\n",
      "\u001B[34m\u001B[1mwandb\u001B[0m: \u001B[33mWARNING\u001B[0m (User provided step: 62 is less than current step: 151. Dropping entry: {'error': {'_type': 'image-file', 'sha256': '85e0251e5dbb4f7ed46382dffe961d6138ea6c02ae35ff9f5141bdf42d76bf94', 'size': 440534, 'path': 'media/images/error_151_85e0251e5dbb4f7ed463.png', 'format': 'png', 'width': 688, 'height': 550, 'caption': 'Error', 'masks': {'error': {'_type': 'mask', 'sha256': '2d0c256077b712e9e87b975581e41f19467bfd2bc7c59372a27bc5c46c324e38', 'size': 886, 'path': 'media/images/mask/error_151_2d0c256077b712e9e87b.mask.png'}}}, '_timestamp': 1716384975.162998}).\n"
     ]
    },
    {
     "data": {
      "text/plain": [
       "Validation: |          | 0/? [00:00<?, ?it/s]"
      ],
      "application/vnd.jupyter.widget-view+json": {
       "version_major": 2,
       "version_minor": 0,
       "model_id": "03b0fa321cb34ae2a859858ec0b562a6"
      }
     },
     "metadata": {},
     "output_type": "display_data"
    },
    {
     "name": "stderr",
     "output_type": "stream",
     "text": [
      "\u001B[34m\u001B[1mwandb\u001B[0m: \u001B[33mWARNING\u001B[0m (User provided step: 63 is less than current step: 154. Dropping entry: {'prediction': {'_type': 'image-file', 'sha256': '85e0251e5dbb4f7ed46382dffe961d6138ea6c02ae35ff9f5141bdf42d76bf94', 'size': 440534, 'path': 'media/images/prediction_154_85e0251e5dbb4f7ed463.png', 'format': 'png', 'width': 688, 'height': 550, 'caption': 'Prediction', 'masks': {'prediction': {'_type': 'mask', 'sha256': '3ca50d079fc01e7d5380ba7aea1249f46ef8205e52e32ec9b2813ab67cb6fdcb', 'size': 1718, 'path': 'media/images/mask/prediction_154_3ca50d079fc01e7d5380.mask.png'}}}, '_timestamp': 1716384991.5837128}).\n",
      "\u001B[34m\u001B[1mwandb\u001B[0m: \u001B[33mWARNING\u001B[0m (User provided step: 63 is less than current step: 154. Dropping entry: {'entropy': {'_type': 'image-file', 'sha256': '62ffd35adcbc7e1c67934bae1a81cfd32f1045b52790e41828cef3d0ff918030', 'size': 61680, 'path': 'media/images/entropy_154_62ffd35adcbc7e1c6793.png', 'format': 'png', 'width': 688, 'height': 550, 'caption': 'Entropy'}, '_timestamp': 1716384991.659895}).\n",
      "\u001B[34m\u001B[1mwandb\u001B[0m: \u001B[33mWARNING\u001B[0m (User provided step: 63 is less than current step: 154. Dropping entry: {'ground_truth': {'_type': 'image-file', 'sha256': '85e0251e5dbb4f7ed46382dffe961d6138ea6c02ae35ff9f5141bdf42d76bf94', 'size': 440534, 'path': 'media/images/ground_truth_154_85e0251e5dbb4f7ed463.png', 'format': 'png', 'width': 688, 'height': 550, 'caption': 'Ground truth', 'masks': {'ground_truth': {'_type': 'mask', 'sha256': '5a572d8ea5561a9b2386dd6431ff098415a7a6c677802c151afbeeb661f3b7fd', 'size': 1742, 'path': 'media/images/mask/ground_truth_154_5a572d8ea5561a9b2386.mask.png'}}}, '_timestamp': 1716384991.840708}).\n",
      "\u001B[34m\u001B[1mwandb\u001B[0m: \u001B[33mWARNING\u001B[0m (User provided step: 63 is less than current step: 154. Dropping entry: {'error': {'_type': 'image-file', 'sha256': '85e0251e5dbb4f7ed46382dffe961d6138ea6c02ae35ff9f5141bdf42d76bf94', 'size': 440534, 'path': 'media/images/error_154_85e0251e5dbb4f7ed463.png', 'format': 'png', 'width': 688, 'height': 550, 'caption': 'Error', 'masks': {'error': {'_type': 'mask', 'sha256': '2df99717d2ce2eec10ff67dd66c585165791451488de0f153345d09fc5fa739e', 'size': 866, 'path': 'media/images/mask/error_154_2df99717d2ce2eec10ff.mask.png'}}}, '_timestamp': 1716384992.023042}).\n"
     ]
    },
    {
     "data": {
      "text/plain": [
       "Validation: |          | 0/? [00:00<?, ?it/s]"
      ],
      "application/vnd.jupyter.widget-view+json": {
       "version_major": 2,
       "version_minor": 0,
       "model_id": "f618247b0a9143929b33e34edf205b38"
      }
     },
     "metadata": {},
     "output_type": "display_data"
    },
    {
     "name": "stderr",
     "output_type": "stream",
     "text": [
      "\u001B[34m\u001B[1mwandb\u001B[0m: \u001B[33mWARNING\u001B[0m (User provided step: 64 is less than current step: 157. Dropping entry: {'prediction': {'_type': 'image-file', 'sha256': '85e0251e5dbb4f7ed46382dffe961d6138ea6c02ae35ff9f5141bdf42d76bf94', 'size': 440534, 'path': 'media/images/prediction_157_85e0251e5dbb4f7ed463.png', 'format': 'png', 'width': 688, 'height': 550, 'caption': 'Prediction', 'masks': {'prediction': {'_type': 'mask', 'sha256': '07ca5b93e9c51d2388b797b982b022f2bf6a643809ac693f0337c4ce7758b3d9', 'size': 1695, 'path': 'media/images/mask/prediction_157_07ca5b93e9c51d2388b7.mask.png'}}}, '_timestamp': 1716385008.8919003}).\n",
      "\u001B[34m\u001B[1mwandb\u001B[0m: \u001B[33mWARNING\u001B[0m (User provided step: 64 is less than current step: 157. Dropping entry: {'entropy': {'_type': 'image-file', 'sha256': '39f15887cf8080a3830fb3a1ba934f55ee3d4cb20afce2573874c4248cb44165', 'size': 66680, 'path': 'media/images/entropy_157_39f15887cf8080a3830f.png', 'format': 'png', 'width': 688, 'height': 550, 'caption': 'Entropy'}, '_timestamp': 1716385008.9739146}).\n",
      "\u001B[34m\u001B[1mwandb\u001B[0m: \u001B[33mWARNING\u001B[0m (User provided step: 64 is less than current step: 157. Dropping entry: {'ground_truth': {'_type': 'image-file', 'sha256': '85e0251e5dbb4f7ed46382dffe961d6138ea6c02ae35ff9f5141bdf42d76bf94', 'size': 440534, 'path': 'media/images/ground_truth_157_85e0251e5dbb4f7ed463.png', 'format': 'png', 'width': 688, 'height': 550, 'caption': 'Ground truth', 'masks': {'ground_truth': {'_type': 'mask', 'sha256': '5a572d8ea5561a9b2386dd6431ff098415a7a6c677802c151afbeeb661f3b7fd', 'size': 1742, 'path': 'media/images/mask/ground_truth_157_5a572d8ea5561a9b2386.mask.png'}}}, '_timestamp': 1716385009.162691}).\n",
      "\u001B[34m\u001B[1mwandb\u001B[0m: \u001B[33mWARNING\u001B[0m (User provided step: 64 is less than current step: 157. Dropping entry: {'error': {'_type': 'image-file', 'sha256': '85e0251e5dbb4f7ed46382dffe961d6138ea6c02ae35ff9f5141bdf42d76bf94', 'size': 440534, 'path': 'media/images/error_157_85e0251e5dbb4f7ed463.png', 'format': 'png', 'width': 688, 'height': 550, 'caption': 'Error', 'masks': {'error': {'_type': 'mask', 'sha256': '9c9e492fab937ca7f973bd9679d759f437b5dc6d661a005e012858e5d5f2099a', 'size': 838, 'path': 'media/images/mask/error_157_9c9e492fab937ca7f973.mask.png'}}}, '_timestamp': 1716385009.344111}).\n"
     ]
    },
    {
     "data": {
      "text/plain": [
       "Validation: |          | 0/? [00:00<?, ?it/s]"
      ],
      "application/vnd.jupyter.widget-view+json": {
       "version_major": 2,
       "version_minor": 0,
       "model_id": "b50273bfb74b427593eafffbd174a427"
      }
     },
     "metadata": {},
     "output_type": "display_data"
    },
    {
     "name": "stderr",
     "output_type": "stream",
     "text": [
      "\u001B[34m\u001B[1mwandb\u001B[0m: \u001B[33mWARNING\u001B[0m (User provided step: 65 is less than current step: 160. Dropping entry: {'prediction': {'_type': 'image-file', 'sha256': '85e0251e5dbb4f7ed46382dffe961d6138ea6c02ae35ff9f5141bdf42d76bf94', 'size': 440534, 'path': 'media/images/prediction_160_85e0251e5dbb4f7ed463.png', 'format': 'png', 'width': 688, 'height': 550, 'caption': 'Prediction', 'masks': {'prediction': {'_type': 'mask', 'sha256': '51ae9223093e576b5e5ce0915c319d1cc5a3af5795387a645822ca8d6c15c236', 'size': 1713, 'path': 'media/images/mask/prediction_160_51ae9223093e576b5e5c.mask.png'}}}, '_timestamp': 1716385028.6384754}).\n",
      "\u001B[34m\u001B[1mwandb\u001B[0m: \u001B[33mWARNING\u001B[0m (User provided step: 65 is less than current step: 160. Dropping entry: {'entropy': {'_type': 'image-file', 'sha256': '298561b3e66dd355498360a1c5da43d4fe3221942323f1eb52226365d0e3f086', 'size': 68301, 'path': 'media/images/entropy_160_298561b3e66dd3554983.png', 'format': 'png', 'width': 688, 'height': 550, 'caption': 'Entropy'}, '_timestamp': 1716385028.717702}).\n",
      "\u001B[34m\u001B[1mwandb\u001B[0m: \u001B[33mWARNING\u001B[0m (User provided step: 65 is less than current step: 160. Dropping entry: {'ground_truth': {'_type': 'image-file', 'sha256': '85e0251e5dbb4f7ed46382dffe961d6138ea6c02ae35ff9f5141bdf42d76bf94', 'size': 440534, 'path': 'media/images/ground_truth_160_85e0251e5dbb4f7ed463.png', 'format': 'png', 'width': 688, 'height': 550, 'caption': 'Ground truth', 'masks': {'ground_truth': {'_type': 'mask', 'sha256': '5a572d8ea5561a9b2386dd6431ff098415a7a6c677802c151afbeeb661f3b7fd', 'size': 1742, 'path': 'media/images/mask/ground_truth_160_5a572d8ea5561a9b2386.mask.png'}}}, '_timestamp': 1716385028.8993535}).\n",
      "\u001B[34m\u001B[1mwandb\u001B[0m: \u001B[33mWARNING\u001B[0m (User provided step: 65 is less than current step: 160. Dropping entry: {'error': {'_type': 'image-file', 'sha256': '85e0251e5dbb4f7ed46382dffe961d6138ea6c02ae35ff9f5141bdf42d76bf94', 'size': 440534, 'path': 'media/images/error_160_85e0251e5dbb4f7ed463.png', 'format': 'png', 'width': 688, 'height': 550, 'caption': 'Error', 'masks': {'error': {'_type': 'mask', 'sha256': '8fb81f20d0f148463100c907aa7587dd274182a44688ba4851eac94556874371', 'size': 852, 'path': 'media/images/mask/error_160_8fb81f20d0f148463100.mask.png'}}}, '_timestamp': 1716385029.0783489}).\n"
     ]
    },
    {
     "data": {
      "text/plain": [
       "Validation: |          | 0/? [00:00<?, ?it/s]"
      ],
      "application/vnd.jupyter.widget-view+json": {
       "version_major": 2,
       "version_minor": 0,
       "model_id": "f281f0722de54a7aaf5f246070e701dc"
      }
     },
     "metadata": {},
     "output_type": "display_data"
    },
    {
     "name": "stderr",
     "output_type": "stream",
     "text": [
      "\u001B[34m\u001B[1mwandb\u001B[0m: \u001B[33mWARNING\u001B[0m (User provided step: 66 is less than current step: 164. Dropping entry: {'prediction': {'_type': 'image-file', 'sha256': '85e0251e5dbb4f7ed46382dffe961d6138ea6c02ae35ff9f5141bdf42d76bf94', 'size': 440534, 'path': 'media/images/prediction_164_85e0251e5dbb4f7ed463.png', 'format': 'png', 'width': 688, 'height': 550, 'caption': 'Prediction', 'masks': {'prediction': {'_type': 'mask', 'sha256': '8a78ac618d6b8f96094df1bfce77997231463b3fbdcd47e466d37484b1ae1fc9', 'size': 1718, 'path': 'media/images/mask/prediction_164_8a78ac618d6b8f96094d.mask.png'}}}, '_timestamp': 1716385048.0453696}).\n",
      "\u001B[34m\u001B[1mwandb\u001B[0m: \u001B[33mWARNING\u001B[0m (User provided step: 66 is less than current step: 164. Dropping entry: {'entropy': {'_type': 'image-file', 'sha256': 'bfcdcdc787a4880fd7dec54376afade36e4be6d23ed8592a3f38ad8f9eb49c36', 'size': 68216, 'path': 'media/images/entropy_164_bfcdcdc787a4880fd7de.png', 'format': 'png', 'width': 688, 'height': 550, 'caption': 'Entropy'}, '_timestamp': 1716385048.124806}).\n",
      "\u001B[34m\u001B[1mwandb\u001B[0m: \u001B[33mWARNING\u001B[0m (User provided step: 66 is less than current step: 164. Dropping entry: {'ground_truth': {'_type': 'image-file', 'sha256': '85e0251e5dbb4f7ed46382dffe961d6138ea6c02ae35ff9f5141bdf42d76bf94', 'size': 440534, 'path': 'media/images/ground_truth_164_85e0251e5dbb4f7ed463.png', 'format': 'png', 'width': 688, 'height': 550, 'caption': 'Ground truth', 'masks': {'ground_truth': {'_type': 'mask', 'sha256': '5a572d8ea5561a9b2386dd6431ff098415a7a6c677802c151afbeeb661f3b7fd', 'size': 1742, 'path': 'media/images/mask/ground_truth_164_5a572d8ea5561a9b2386.mask.png'}}}, '_timestamp': 1716385048.3093224}).\n",
      "\u001B[34m\u001B[1mwandb\u001B[0m: \u001B[33mWARNING\u001B[0m (User provided step: 66 is less than current step: 164. Dropping entry: {'error': {'_type': 'image-file', 'sha256': '85e0251e5dbb4f7ed46382dffe961d6138ea6c02ae35ff9f5141bdf42d76bf94', 'size': 440534, 'path': 'media/images/error_164_85e0251e5dbb4f7ed463.png', 'format': 'png', 'width': 688, 'height': 550, 'caption': 'Error', 'masks': {'error': {'_type': 'mask', 'sha256': 'fa02f74ed5161db49682ac893c202f9d09056f716146251131436f731c85d703', 'size': 843, 'path': 'media/images/mask/error_164_fa02f74ed5161db49682.mask.png'}}}, '_timestamp': 1716385048.5177705}).\n"
     ]
    },
    {
     "data": {
      "text/plain": [
       "Validation: |          | 0/? [00:00<?, ?it/s]"
      ],
      "application/vnd.jupyter.widget-view+json": {
       "version_major": 2,
       "version_minor": 0,
       "model_id": "57058b896ca349bbb2e14c804fcb1156"
      }
     },
     "metadata": {},
     "output_type": "display_data"
    },
    {
     "name": "stderr",
     "output_type": "stream",
     "text": [
      "\u001B[34m\u001B[1mwandb\u001B[0m: \u001B[33mWARNING\u001B[0m (User provided step: 67 is less than current step: 167. Dropping entry: {'prediction': {'_type': 'image-file', 'sha256': '85e0251e5dbb4f7ed46382dffe961d6138ea6c02ae35ff9f5141bdf42d76bf94', 'size': 440534, 'path': 'media/images/prediction_167_85e0251e5dbb4f7ed463.png', 'format': 'png', 'width': 688, 'height': 550, 'caption': 'Prediction', 'masks': {'prediction': {'_type': 'mask', 'sha256': 'c0588071b75df4717d05aae582357055473e9483597e408d91f8f04d188db1b4', 'size': 1717, 'path': 'media/images/mask/prediction_167_c0588071b75df4717d05.mask.png'}}}, '_timestamp': 1716385067.1428337}).\n",
      "\u001B[34m\u001B[1mwandb\u001B[0m: \u001B[33mWARNING\u001B[0m (User provided step: 67 is less than current step: 167. Dropping entry: {'entropy': {'_type': 'image-file', 'sha256': 'a052a0066cab25e6630c95eb821f057888c8ee2acd5cf7949d2bd407fb731668', 'size': 68201, 'path': 'media/images/entropy_167_a052a0066cab25e6630c.png', 'format': 'png', 'width': 688, 'height': 550, 'caption': 'Entropy'}, '_timestamp': 1716385067.2211354}).\n",
      "\u001B[34m\u001B[1mwandb\u001B[0m: \u001B[33mWARNING\u001B[0m (User provided step: 67 is less than current step: 167. Dropping entry: {'ground_truth': {'_type': 'image-file', 'sha256': '85e0251e5dbb4f7ed46382dffe961d6138ea6c02ae35ff9f5141bdf42d76bf94', 'size': 440534, 'path': 'media/images/ground_truth_167_85e0251e5dbb4f7ed463.png', 'format': 'png', 'width': 688, 'height': 550, 'caption': 'Ground truth', 'masks': {'ground_truth': {'_type': 'mask', 'sha256': '5a572d8ea5561a9b2386dd6431ff098415a7a6c677802c151afbeeb661f3b7fd', 'size': 1742, 'path': 'media/images/mask/ground_truth_167_5a572d8ea5561a9b2386.mask.png'}}}, '_timestamp': 1716385067.4019082}).\n",
      "\u001B[34m\u001B[1mwandb\u001B[0m: \u001B[33mWARNING\u001B[0m (User provided step: 67 is less than current step: 167. Dropping entry: {'error': {'_type': 'image-file', 'sha256': '85e0251e5dbb4f7ed46382dffe961d6138ea6c02ae35ff9f5141bdf42d76bf94', 'size': 440534, 'path': 'media/images/error_167_85e0251e5dbb4f7ed463.png', 'format': 'png', 'width': 688, 'height': 550, 'caption': 'Error', 'masks': {'error': {'_type': 'mask', 'sha256': '25d0244f0119917f4964e44be3e652903c0a7bddff9d809c623a804e22457cfc', 'size': 855, 'path': 'media/images/mask/error_167_25d0244f0119917f4964.mask.png'}}}, '_timestamp': 1716385067.5852656}).\n"
     ]
    },
    {
     "data": {
      "text/plain": [
       "Validation: |          | 0/? [00:00<?, ?it/s]"
      ],
      "application/vnd.jupyter.widget-view+json": {
       "version_major": 2,
       "version_minor": 0,
       "model_id": "c85a3ef9bd3f4c999e4ab879fcf4d6f6"
      }
     },
     "metadata": {},
     "output_type": "display_data"
    },
    {
     "name": "stderr",
     "output_type": "stream",
     "text": [
      "\u001B[34m\u001B[1mwandb\u001B[0m: \u001B[33mWARNING\u001B[0m (User provided step: 68 is less than current step: 170. Dropping entry: {'prediction': {'_type': 'image-file', 'sha256': '85e0251e5dbb4f7ed46382dffe961d6138ea6c02ae35ff9f5141bdf42d76bf94', 'size': 440534, 'path': 'media/images/prediction_170_85e0251e5dbb4f7ed463.png', 'format': 'png', 'width': 688, 'height': 550, 'caption': 'Prediction', 'masks': {'prediction': {'_type': 'mask', 'sha256': '61ec7c3b4f05b9272e1e7ffb9e9e6644d4f121132a6f3c3c1c6d8c51703b53bc', 'size': 1832, 'path': 'media/images/mask/prediction_170_61ec7c3b4f05b9272e1e.mask.png'}}}, '_timestamp': 1716385086.5720615}).\n",
      "\u001B[34m\u001B[1mwandb\u001B[0m: \u001B[33mWARNING\u001B[0m (User provided step: 68 is less than current step: 170. Dropping entry: {'entropy': {'_type': 'image-file', 'sha256': '4bbbbf768e5556b40460763e116698cc655f9c117f07d270500cfa536425c64a', 'size': 71105, 'path': 'media/images/entropy_170_4bbbbf768e5556b40460.png', 'format': 'png', 'width': 688, 'height': 550, 'caption': 'Entropy'}, '_timestamp': 1716385086.6516023}).\n",
      "\u001B[34m\u001B[1mwandb\u001B[0m: \u001B[33mWARNING\u001B[0m (User provided step: 68 is less than current step: 170. Dropping entry: {'ground_truth': {'_type': 'image-file', 'sha256': '85e0251e5dbb4f7ed46382dffe961d6138ea6c02ae35ff9f5141bdf42d76bf94', 'size': 440534, 'path': 'media/images/ground_truth_170_85e0251e5dbb4f7ed463.png', 'format': 'png', 'width': 688, 'height': 550, 'caption': 'Ground truth', 'masks': {'ground_truth': {'_type': 'mask', 'sha256': '5a572d8ea5561a9b2386dd6431ff098415a7a6c677802c151afbeeb661f3b7fd', 'size': 1742, 'path': 'media/images/mask/ground_truth_170_5a572d8ea5561a9b2386.mask.png'}}}, '_timestamp': 1716385086.8317964}).\n",
      "\u001B[34m\u001B[1mwandb\u001B[0m: \u001B[33mWARNING\u001B[0m (User provided step: 68 is less than current step: 170. Dropping entry: {'error': {'_type': 'image-file', 'sha256': '85e0251e5dbb4f7ed46382dffe961d6138ea6c02ae35ff9f5141bdf42d76bf94', 'size': 440534, 'path': 'media/images/error_170_85e0251e5dbb4f7ed463.png', 'format': 'png', 'width': 688, 'height': 550, 'caption': 'Error', 'masks': {'error': {'_type': 'mask', 'sha256': '1ef80643101dad441fe65eeda94476963078cfec425ee5ec961e3e6f36127b1c', 'size': 928, 'path': 'media/images/mask/error_170_1ef80643101dad441fe6.mask.png'}}}, '_timestamp': 1716385087.0155425}).\n"
     ]
    },
    {
     "data": {
      "text/plain": [
       "Validation: |          | 0/? [00:00<?, ?it/s]"
      ],
      "application/vnd.jupyter.widget-view+json": {
       "version_major": 2,
       "version_minor": 0,
       "model_id": "b39eb1babae74752894326324e405fcb"
      }
     },
     "metadata": {},
     "output_type": "display_data"
    },
    {
     "name": "stderr",
     "output_type": "stream",
     "text": [
      "\u001B[34m\u001B[1mwandb\u001B[0m: \u001B[33mWARNING\u001B[0m (User provided step: 69 is less than current step: 173. Dropping entry: {'prediction': {'_type': 'image-file', 'sha256': '85e0251e5dbb4f7ed46382dffe961d6138ea6c02ae35ff9f5141bdf42d76bf94', 'size': 440534, 'path': 'media/images/prediction_173_85e0251e5dbb4f7ed463.png', 'format': 'png', 'width': 688, 'height': 550, 'caption': 'Prediction', 'masks': {'prediction': {'_type': 'mask', 'sha256': '8e2937c424336860548389262ef6920cdb0a2b0ab2b144c35bda6f8054bd8b08', 'size': 1729, 'path': 'media/images/mask/prediction_173_8e2937c4243368605483.mask.png'}}}, '_timestamp': 1716385105.6404295}).\n",
      "\u001B[34m\u001B[1mwandb\u001B[0m: \u001B[33mWARNING\u001B[0m (User provided step: 69 is less than current step: 173. Dropping entry: {'entropy': {'_type': 'image-file', 'sha256': '6c4d0a24df9d4dce3d933bcea2b5c19fc36252fde3e153b5229e83154895c097', 'size': 66536, 'path': 'media/images/entropy_173_6c4d0a24df9d4dce3d93.png', 'format': 'png', 'width': 688, 'height': 550, 'caption': 'Entropy'}, '_timestamp': 1716385105.7160962}).\n",
      "\u001B[34m\u001B[1mwandb\u001B[0m: \u001B[33mWARNING\u001B[0m (User provided step: 69 is less than current step: 173. Dropping entry: {'ground_truth': {'_type': 'image-file', 'sha256': '85e0251e5dbb4f7ed46382dffe961d6138ea6c02ae35ff9f5141bdf42d76bf94', 'size': 440534, 'path': 'media/images/ground_truth_173_85e0251e5dbb4f7ed463.png', 'format': 'png', 'width': 688, 'height': 550, 'caption': 'Ground truth', 'masks': {'ground_truth': {'_type': 'mask', 'sha256': '5a572d8ea5561a9b2386dd6431ff098415a7a6c677802c151afbeeb661f3b7fd', 'size': 1742, 'path': 'media/images/mask/ground_truth_173_5a572d8ea5561a9b2386.mask.png'}}}, '_timestamp': 1716385105.8958023}).\n",
      "\u001B[34m\u001B[1mwandb\u001B[0m: \u001B[33mWARNING\u001B[0m (User provided step: 69 is less than current step: 173. Dropping entry: {'error': {'_type': 'image-file', 'sha256': '85e0251e5dbb4f7ed46382dffe961d6138ea6c02ae35ff9f5141bdf42d76bf94', 'size': 440534, 'path': 'media/images/error_173_85e0251e5dbb4f7ed463.png', 'format': 'png', 'width': 688, 'height': 550, 'caption': 'Error', 'masks': {'error': {'_type': 'mask', 'sha256': '0da37236ad1bde533f082c375b77d46065aa7c5c5cbeffbb6df25ce1d9d6b4ff', 'size': 855, 'path': 'media/images/mask/error_173_0da37236ad1bde533f08.mask.png'}}}, '_timestamp': 1716385106.0764475}).\n"
     ]
    },
    {
     "data": {
      "text/plain": [
       "Validation: |          | 0/? [00:00<?, ?it/s]"
      ],
      "application/vnd.jupyter.widget-view+json": {
       "version_major": 2,
       "version_minor": 0,
       "model_id": "bf037bc384954a1e8b3b9849c7ec2058"
      }
     },
     "metadata": {},
     "output_type": "display_data"
    },
    {
     "name": "stderr",
     "output_type": "stream",
     "text": [
      "\u001B[34m\u001B[1mwandb\u001B[0m: \u001B[33mWARNING\u001B[0m (User provided step: 70 is less than current step: 176. Dropping entry: {'prediction': {'_type': 'image-file', 'sha256': '85e0251e5dbb4f7ed46382dffe961d6138ea6c02ae35ff9f5141bdf42d76bf94', 'size': 440534, 'path': 'media/images/prediction_176_85e0251e5dbb4f7ed463.png', 'format': 'png', 'width': 688, 'height': 550, 'caption': 'Prediction', 'masks': {'prediction': {'_type': 'mask', 'sha256': 'a43af479c00da3b9e77f97c33527fa61b53af83bad1612155c700442b34d71d6', 'size': 1751, 'path': 'media/images/mask/prediction_176_a43af479c00da3b9e77f.mask.png'}}}, '_timestamp': 1716385124.925659}).\n",
      "\u001B[34m\u001B[1mwandb\u001B[0m: \u001B[33mWARNING\u001B[0m (User provided step: 70 is less than current step: 176. Dropping entry: {'entropy': {'_type': 'image-file', 'sha256': '5b4e5bc3c540070d4ab45a8c5ce7a85d36cdde434952eaf461db11d02028a57f', 'size': 66305, 'path': 'media/images/entropy_176_5b4e5bc3c540070d4ab4.png', 'format': 'png', 'width': 688, 'height': 550, 'caption': 'Entropy'}, '_timestamp': 1716385125.0024633}).\n",
      "\u001B[34m\u001B[1mwandb\u001B[0m: \u001B[33mWARNING\u001B[0m (User provided step: 70 is less than current step: 176. Dropping entry: {'ground_truth': {'_type': 'image-file', 'sha256': '85e0251e5dbb4f7ed46382dffe961d6138ea6c02ae35ff9f5141bdf42d76bf94', 'size': 440534, 'path': 'media/images/ground_truth_176_85e0251e5dbb4f7ed463.png', 'format': 'png', 'width': 688, 'height': 550, 'caption': 'Ground truth', 'masks': {'ground_truth': {'_type': 'mask', 'sha256': '5a572d8ea5561a9b2386dd6431ff098415a7a6c677802c151afbeeb661f3b7fd', 'size': 1742, 'path': 'media/images/mask/ground_truth_176_5a572d8ea5561a9b2386.mask.png'}}}, '_timestamp': 1716385125.1859937}).\n",
      "\u001B[34m\u001B[1mwandb\u001B[0m: \u001B[33mWARNING\u001B[0m (User provided step: 70 is less than current step: 176. Dropping entry: {'error': {'_type': 'image-file', 'sha256': '85e0251e5dbb4f7ed46382dffe961d6138ea6c02ae35ff9f5141bdf42d76bf94', 'size': 440534, 'path': 'media/images/error_176_85e0251e5dbb4f7ed463.png', 'format': 'png', 'width': 688, 'height': 550, 'caption': 'Error', 'masks': {'error': {'_type': 'mask', 'sha256': '6275797f9e584b4d82be99fdcfebdf4007f7385577bab827abd54fc2902d0e70', 'size': 879, 'path': 'media/images/mask/error_176_6275797f9e584b4d82be.mask.png'}}}, '_timestamp': 1716385125.3686974}).\n"
     ]
    },
    {
     "data": {
      "text/plain": [
       "Validation: |          | 0/? [00:00<?, ?it/s]"
      ],
      "application/vnd.jupyter.widget-view+json": {
       "version_major": 2,
       "version_minor": 0,
       "model_id": "ef28a71643e84b239b58c149cc68884b"
      }
     },
     "metadata": {},
     "output_type": "display_data"
    },
    {
     "name": "stderr",
     "output_type": "stream",
     "text": [
      "\u001B[34m\u001B[1mwandb\u001B[0m: \u001B[33mWARNING\u001B[0m (User provided step: 71 is less than current step: 179. Dropping entry: {'prediction': {'_type': 'image-file', 'sha256': '85e0251e5dbb4f7ed46382dffe961d6138ea6c02ae35ff9f5141bdf42d76bf94', 'size': 440534, 'path': 'media/images/prediction_179_85e0251e5dbb4f7ed463.png', 'format': 'png', 'width': 688, 'height': 550, 'caption': 'Prediction', 'masks': {'prediction': {'_type': 'mask', 'sha256': 'd6481af0408f9bbaf6bc48b27432f580ecca6a36db331c1f6e5b2c8a3a546555', 'size': 1743, 'path': 'media/images/mask/prediction_179_d6481af0408f9bbaf6bc.mask.png'}}}, '_timestamp': 1716385144.760455}).\n",
      "\u001B[34m\u001B[1mwandb\u001B[0m: \u001B[33mWARNING\u001B[0m (User provided step: 71 is less than current step: 179. Dropping entry: {'entropy': {'_type': 'image-file', 'sha256': '3acab596f06647c3b8db7fdeac3c0b855730acf313b87f5e6a8235e38ee20b57', 'size': 67505, 'path': 'media/images/entropy_179_3acab596f06647c3b8db.png', 'format': 'png', 'width': 688, 'height': 550, 'caption': 'Entropy'}, '_timestamp': 1716385144.8417916}).\n",
      "\u001B[34m\u001B[1mwandb\u001B[0m: \u001B[33mWARNING\u001B[0m (User provided step: 71 is less than current step: 179. Dropping entry: {'ground_truth': {'_type': 'image-file', 'sha256': '85e0251e5dbb4f7ed46382dffe961d6138ea6c02ae35ff9f5141bdf42d76bf94', 'size': 440534, 'path': 'media/images/ground_truth_179_85e0251e5dbb4f7ed463.png', 'format': 'png', 'width': 688, 'height': 550, 'caption': 'Ground truth', 'masks': {'ground_truth': {'_type': 'mask', 'sha256': '5a572d8ea5561a9b2386dd6431ff098415a7a6c677802c151afbeeb661f3b7fd', 'size': 1742, 'path': 'media/images/mask/ground_truth_179_5a572d8ea5561a9b2386.mask.png'}}}, '_timestamp': 1716385145.0284631}).\n",
      "\u001B[34m\u001B[1mwandb\u001B[0m: \u001B[33mWARNING\u001B[0m (User provided step: 71 is less than current step: 179. Dropping entry: {'error': {'_type': 'image-file', 'sha256': '85e0251e5dbb4f7ed46382dffe961d6138ea6c02ae35ff9f5141bdf42d76bf94', 'size': 440534, 'path': 'media/images/error_179_85e0251e5dbb4f7ed463.png', 'format': 'png', 'width': 688, 'height': 550, 'caption': 'Error', 'masks': {'error': {'_type': 'mask', 'sha256': 'f328fdc1b8e17501c03fcc295402f863194e99976ff00b2baabe7ac7830498a7', 'size': 884, 'path': 'media/images/mask/error_179_f328fdc1b8e17501c03f.mask.png'}}}, '_timestamp': 1716385145.2154524}).\n"
     ]
    },
    {
     "data": {
      "text/plain": [
       "Validation: |          | 0/? [00:00<?, ?it/s]"
      ],
      "application/vnd.jupyter.widget-view+json": {
       "version_major": 2,
       "version_minor": 0,
       "model_id": "ed1da32a20fd455c8baf0c8b3a6cb0cd"
      }
     },
     "metadata": {},
     "output_type": "display_data"
    },
    {
     "name": "stderr",
     "output_type": "stream",
     "text": [
      "\u001B[34m\u001B[1mwandb\u001B[0m: \u001B[33mWARNING\u001B[0m (User provided step: 72 is less than current step: 182. Dropping entry: {'prediction': {'_type': 'image-file', 'sha256': '85e0251e5dbb4f7ed46382dffe961d6138ea6c02ae35ff9f5141bdf42d76bf94', 'size': 440534, 'path': 'media/images/prediction_182_85e0251e5dbb4f7ed463.png', 'format': 'png', 'width': 688, 'height': 550, 'caption': 'Prediction', 'masks': {'prediction': {'_type': 'mask', 'sha256': 'f60ab6270bf6ef26184739b029bf235371f92fb1dc6017862e47d9a8a46670bb', 'size': 1749, 'path': 'media/images/mask/prediction_182_f60ab6270bf6ef261847.mask.png'}}}, '_timestamp': 1716385163.8183064}).\n",
      "\u001B[34m\u001B[1mwandb\u001B[0m: \u001B[33mWARNING\u001B[0m (User provided step: 72 is less than current step: 182. Dropping entry: {'entropy': {'_type': 'image-file', 'sha256': '5cef23eb973f39bb003024fc05e53a5e47fd0802f8e3640ef30e9c49b8dd0b90', 'size': 69508, 'path': 'media/images/entropy_182_5cef23eb973f39bb0030.png', 'format': 'png', 'width': 688, 'height': 550, 'caption': 'Entropy'}, '_timestamp': 1716385163.9014323}).\n",
      "\u001B[34m\u001B[1mwandb\u001B[0m: \u001B[33mWARNING\u001B[0m (User provided step: 72 is less than current step: 182. Dropping entry: {'ground_truth': {'_type': 'image-file', 'sha256': '85e0251e5dbb4f7ed46382dffe961d6138ea6c02ae35ff9f5141bdf42d76bf94', 'size': 440534, 'path': 'media/images/ground_truth_182_85e0251e5dbb4f7ed463.png', 'format': 'png', 'width': 688, 'height': 550, 'caption': 'Ground truth', 'masks': {'ground_truth': {'_type': 'mask', 'sha256': '5a572d8ea5561a9b2386dd6431ff098415a7a6c677802c151afbeeb661f3b7fd', 'size': 1742, 'path': 'media/images/mask/ground_truth_182_5a572d8ea5561a9b2386.mask.png'}}}, '_timestamp': 1716385164.084757}).\n",
      "\u001B[34m\u001B[1mwandb\u001B[0m: \u001B[33mWARNING\u001B[0m (User provided step: 72 is less than current step: 182. Dropping entry: {'error': {'_type': 'image-file', 'sha256': '85e0251e5dbb4f7ed46382dffe961d6138ea6c02ae35ff9f5141bdf42d76bf94', 'size': 440534, 'path': 'media/images/error_182_85e0251e5dbb4f7ed463.png', 'format': 'png', 'width': 688, 'height': 550, 'caption': 'Error', 'masks': {'error': {'_type': 'mask', 'sha256': 'e9ec20853331fb98835e6d7244ebb3c9e681a925e75c5291f16d10618d025762', 'size': 885, 'path': 'media/images/mask/error_182_e9ec20853331fb98835e.mask.png'}}}, '_timestamp': 1716385164.266825}).\n"
     ]
    },
    {
     "data": {
      "text/plain": [
       "Validation: |          | 0/? [00:00<?, ?it/s]"
      ],
      "application/vnd.jupyter.widget-view+json": {
       "version_major": 2,
       "version_minor": 0,
       "model_id": "ead05501eff342b481766ad0db58f8cd"
      }
     },
     "metadata": {},
     "output_type": "display_data"
    },
    {
     "name": "stderr",
     "output_type": "stream",
     "text": [
      "\u001B[34m\u001B[1mwandb\u001B[0m: \u001B[33mWARNING\u001B[0m (User provided step: 73 is less than current step: 186. Dropping entry: {'prediction': {'_type': 'image-file', 'sha256': '85e0251e5dbb4f7ed46382dffe961d6138ea6c02ae35ff9f5141bdf42d76bf94', 'size': 440534, 'path': 'media/images/prediction_186_85e0251e5dbb4f7ed463.png', 'format': 'png', 'width': 688, 'height': 550, 'caption': 'Prediction', 'masks': {'prediction': {'_type': 'mask', 'sha256': '830c67d599c2c6b07d2728596f9dd66d2de0c699341ea55af73ea65df4005c69', 'size': 1740, 'path': 'media/images/mask/prediction_186_830c67d599c2c6b07d27.mask.png'}}}, '_timestamp': 1716385182.8894067}).\n",
      "\u001B[34m\u001B[1mwandb\u001B[0m: \u001B[33mWARNING\u001B[0m (User provided step: 73 is less than current step: 186. Dropping entry: {'entropy': {'_type': 'image-file', 'sha256': '5462ae5a54d7429576fe0b7f832420e6c5f425b4e2cc728909c4120a90b1bb76', 'size': 65194, 'path': 'media/images/entropy_186_5462ae5a54d7429576fe.png', 'format': 'png', 'width': 688, 'height': 550, 'caption': 'Entropy'}, '_timestamp': 1716385182.968723}).\n",
      "\u001B[34m\u001B[1mwandb\u001B[0m: \u001B[33mWARNING\u001B[0m (User provided step: 73 is less than current step: 186. Dropping entry: {'ground_truth': {'_type': 'image-file', 'sha256': '85e0251e5dbb4f7ed46382dffe961d6138ea6c02ae35ff9f5141bdf42d76bf94', 'size': 440534, 'path': 'media/images/ground_truth_186_85e0251e5dbb4f7ed463.png', 'format': 'png', 'width': 688, 'height': 550, 'caption': 'Ground truth', 'masks': {'ground_truth': {'_type': 'mask', 'sha256': '5a572d8ea5561a9b2386dd6431ff098415a7a6c677802c151afbeeb661f3b7fd', 'size': 1742, 'path': 'media/images/mask/ground_truth_186_5a572d8ea5561a9b2386.mask.png'}}}, '_timestamp': 1716385183.1512597}).\n",
      "\u001B[34m\u001B[1mwandb\u001B[0m: \u001B[33mWARNING\u001B[0m (User provided step: 73 is less than current step: 186. Dropping entry: {'error': {'_type': 'image-file', 'sha256': '85e0251e5dbb4f7ed46382dffe961d6138ea6c02ae35ff9f5141bdf42d76bf94', 'size': 440534, 'path': 'media/images/error_186_85e0251e5dbb4f7ed463.png', 'format': 'png', 'width': 688, 'height': 550, 'caption': 'Error', 'masks': {'error': {'_type': 'mask', 'sha256': '2ab47a6bcf978fd97cb3eaed91e1f7e23ba50be8ee20c0db0b6e5598ba17ed30', 'size': 856, 'path': 'media/images/mask/error_186_2ab47a6bcf978fd97cb3.mask.png'}}}, '_timestamp': 1716385183.3302684}).\n"
     ]
    },
    {
     "data": {
      "text/plain": [
       "Validation: |          | 0/? [00:00<?, ?it/s]"
      ],
      "application/vnd.jupyter.widget-view+json": {
       "version_major": 2,
       "version_minor": 0,
       "model_id": "cea37d628a3d4d25ae1bc139a3b08fb5"
      }
     },
     "metadata": {},
     "output_type": "display_data"
    },
    {
     "name": "stderr",
     "output_type": "stream",
     "text": [
      "\u001B[34m\u001B[1mwandb\u001B[0m: \u001B[33mWARNING\u001B[0m (User provided step: 74 is less than current step: 189. Dropping entry: {'prediction': {'_type': 'image-file', 'sha256': '85e0251e5dbb4f7ed46382dffe961d6138ea6c02ae35ff9f5141bdf42d76bf94', 'size': 440534, 'path': 'media/images/prediction_189_85e0251e5dbb4f7ed463.png', 'format': 'png', 'width': 688, 'height': 550, 'caption': 'Prediction', 'masks': {'prediction': {'_type': 'mask', 'sha256': 'cba3b813e3e9b5531628e2eb062cc04fa8342bad3d595d8de85d5e5d7a715c75', 'size': 1738, 'path': 'media/images/mask/prediction_189_cba3b813e3e9b5531628.mask.png'}}}, '_timestamp': 1716385202.4890692}).\n",
      "\u001B[34m\u001B[1mwandb\u001B[0m: \u001B[33mWARNING\u001B[0m (User provided step: 74 is less than current step: 189. Dropping entry: {'entropy': {'_type': 'image-file', 'sha256': '51ac7f36bb078a899743cca1d8820306e93f745e8bf747d6943c7dcfbe7d2acf', 'size': 57846, 'path': 'media/images/entropy_189_51ac7f36bb078a899743.png', 'format': 'png', 'width': 688, 'height': 550, 'caption': 'Entropy'}, '_timestamp': 1716385202.5675278}).\n",
      "\u001B[34m\u001B[1mwandb\u001B[0m: \u001B[33mWARNING\u001B[0m (User provided step: 74 is less than current step: 189. Dropping entry: {'ground_truth': {'_type': 'image-file', 'sha256': '85e0251e5dbb4f7ed46382dffe961d6138ea6c02ae35ff9f5141bdf42d76bf94', 'size': 440534, 'path': 'media/images/ground_truth_189_85e0251e5dbb4f7ed463.png', 'format': 'png', 'width': 688, 'height': 550, 'caption': 'Ground truth', 'masks': {'ground_truth': {'_type': 'mask', 'sha256': '5a572d8ea5561a9b2386dd6431ff098415a7a6c677802c151afbeeb661f3b7fd', 'size': 1742, 'path': 'media/images/mask/ground_truth_189_5a572d8ea5561a9b2386.mask.png'}}}, '_timestamp': 1716385202.754516}).\n",
      "\u001B[34m\u001B[1mwandb\u001B[0m: \u001B[33mWARNING\u001B[0m (User provided step: 74 is less than current step: 189. Dropping entry: {'error': {'_type': 'image-file', 'sha256': '85e0251e5dbb4f7ed46382dffe961d6138ea6c02ae35ff9f5141bdf42d76bf94', 'size': 440534, 'path': 'media/images/error_189_85e0251e5dbb4f7ed463.png', 'format': 'png', 'width': 688, 'height': 550, 'caption': 'Error', 'masks': {'error': {'_type': 'mask', 'sha256': '590b9b8e381361be149e828142862e6c63a2730208e0a3c08ba9b3c09fe9515b', 'size': 857, 'path': 'media/images/mask/error_189_590b9b8e381361be149e.mask.png'}}}, '_timestamp': 1716385202.9389663}).\n"
     ]
    },
    {
     "data": {
      "text/plain": [
       "Validation: |          | 0/? [00:00<?, ?it/s]"
      ],
      "application/vnd.jupyter.widget-view+json": {
       "version_major": 2,
       "version_minor": 0,
       "model_id": "6955fe3618714cf49d935307d0a1ac8c"
      }
     },
     "metadata": {},
     "output_type": "display_data"
    },
    {
     "name": "stderr",
     "output_type": "stream",
     "text": [
      "\u001B[34m\u001B[1mwandb\u001B[0m: \u001B[33mWARNING\u001B[0m (User provided step: 75 is less than current step: 192. Dropping entry: {'prediction': {'_type': 'image-file', 'sha256': '85e0251e5dbb4f7ed46382dffe961d6138ea6c02ae35ff9f5141bdf42d76bf94', 'size': 440534, 'path': 'media/images/prediction_192_85e0251e5dbb4f7ed463.png', 'format': 'png', 'width': 688, 'height': 550, 'caption': 'Prediction', 'masks': {'prediction': {'_type': 'mask', 'sha256': '156fa272a8633be4d59772a3c34ee244dba01a9073d36fd906b08073ac49f894', 'size': 1724, 'path': 'media/images/mask/prediction_192_156fa272a8633be4d597.mask.png'}}}, '_timestamp': 1716385221.9655917}).\n",
      "\u001B[34m\u001B[1mwandb\u001B[0m: \u001B[33mWARNING\u001B[0m (User provided step: 75 is less than current step: 192. Dropping entry: {'entropy': {'_type': 'image-file', 'sha256': '0caa64b9708525cdbaaf540fcdf1642640a4f6519ab1957ca165a8288e937504', 'size': 51929, 'path': 'media/images/entropy_192_0caa64b9708525cdbaaf.png', 'format': 'png', 'width': 688, 'height': 550, 'caption': 'Entropy'}, '_timestamp': 1716385222.0431905}).\n",
      "\u001B[34m\u001B[1mwandb\u001B[0m: \u001B[33mWARNING\u001B[0m (User provided step: 75 is less than current step: 192. Dropping entry: {'ground_truth': {'_type': 'image-file', 'sha256': '85e0251e5dbb4f7ed46382dffe961d6138ea6c02ae35ff9f5141bdf42d76bf94', 'size': 440534, 'path': 'media/images/ground_truth_192_85e0251e5dbb4f7ed463.png', 'format': 'png', 'width': 688, 'height': 550, 'caption': 'Ground truth', 'masks': {'ground_truth': {'_type': 'mask', 'sha256': '5a572d8ea5561a9b2386dd6431ff098415a7a6c677802c151afbeeb661f3b7fd', 'size': 1742, 'path': 'media/images/mask/ground_truth_192_5a572d8ea5561a9b2386.mask.png'}}}, '_timestamp': 1716385222.2271297}).\n",
      "\u001B[34m\u001B[1mwandb\u001B[0m: \u001B[33mWARNING\u001B[0m (User provided step: 75 is less than current step: 192. Dropping entry: {'error': {'_type': 'image-file', 'sha256': '85e0251e5dbb4f7ed46382dffe961d6138ea6c02ae35ff9f5141bdf42d76bf94', 'size': 440534, 'path': 'media/images/error_192_85e0251e5dbb4f7ed463.png', 'format': 'png', 'width': 688, 'height': 550, 'caption': 'Error', 'masks': {'error': {'_type': 'mask', 'sha256': 'f33a5b0977b134e62202a57495d726535c6b77ff1f6e8182e41d6675a10ee577', 'size': 840, 'path': 'media/images/mask/error_192_f33a5b0977b134e62202.mask.png'}}}, '_timestamp': 1716385222.4114988}).\n"
     ]
    },
    {
     "data": {
      "text/plain": [
       "Validation: |          | 0/? [00:00<?, ?it/s]"
      ],
      "application/vnd.jupyter.widget-view+json": {
       "version_major": 2,
       "version_minor": 0,
       "model_id": "9d5152f44fb94bdd89ad8f6f1f97eb52"
      }
     },
     "metadata": {},
     "output_type": "display_data"
    },
    {
     "name": "stderr",
     "output_type": "stream",
     "text": [
      "\u001B[34m\u001B[1mwandb\u001B[0m: \u001B[33mWARNING\u001B[0m (User provided step: 76 is less than current step: 195. Dropping entry: {'prediction': {'_type': 'image-file', 'sha256': '85e0251e5dbb4f7ed46382dffe961d6138ea6c02ae35ff9f5141bdf42d76bf94', 'size': 440534, 'path': 'media/images/prediction_195_85e0251e5dbb4f7ed463.png', 'format': 'png', 'width': 688, 'height': 550, 'caption': 'Prediction', 'masks': {'prediction': {'_type': 'mask', 'sha256': 'f8a6cf2ca50bbfd13968934884eba24dc4b8cc6960e8f99c8927e50c4e5819b5', 'size': 1712, 'path': 'media/images/mask/prediction_195_f8a6cf2ca50bbfd13968.mask.png'}}}, '_timestamp': 1716385240.9214952}).\n",
      "\u001B[34m\u001B[1mwandb\u001B[0m: \u001B[33mWARNING\u001B[0m (User provided step: 76 is less than current step: 195. Dropping entry: {'entropy': {'_type': 'image-file', 'sha256': '3480eb640671c2f89d82118ecb0121282169aa49c750e62019216922766c5c57', 'size': 46285, 'path': 'media/images/entropy_195_3480eb640671c2f89d82.png', 'format': 'png', 'width': 688, 'height': 550, 'caption': 'Entropy'}, '_timestamp': 1716385240.993953}).\n",
      "\u001B[34m\u001B[1mwandb\u001B[0m: \u001B[33mWARNING\u001B[0m (User provided step: 76 is less than current step: 195. Dropping entry: {'ground_truth': {'_type': 'image-file', 'sha256': '85e0251e5dbb4f7ed46382dffe961d6138ea6c02ae35ff9f5141bdf42d76bf94', 'size': 440534, 'path': 'media/images/ground_truth_195_85e0251e5dbb4f7ed463.png', 'format': 'png', 'width': 688, 'height': 550, 'caption': 'Ground truth', 'masks': {'ground_truth': {'_type': 'mask', 'sha256': '5a572d8ea5561a9b2386dd6431ff098415a7a6c677802c151afbeeb661f3b7fd', 'size': 1742, 'path': 'media/images/mask/ground_truth_195_5a572d8ea5561a9b2386.mask.png'}}}, '_timestamp': 1716385241.1802018}).\n",
      "\u001B[34m\u001B[1mwandb\u001B[0m: \u001B[33mWARNING\u001B[0m (User provided step: 76 is less than current step: 195. Dropping entry: {'error': {'_type': 'image-file', 'sha256': '85e0251e5dbb4f7ed46382dffe961d6138ea6c02ae35ff9f5141bdf42d76bf94', 'size': 440534, 'path': 'media/images/error_195_85e0251e5dbb4f7ed463.png', 'format': 'png', 'width': 688, 'height': 550, 'caption': 'Error', 'masks': {'error': {'_type': 'mask', 'sha256': '5aefcf733827af5187be7d934c70e6283cc7acb511396394fcb2104d58ca217e', 'size': 832, 'path': 'media/images/mask/error_195_5aefcf733827af5187be.mask.png'}}}, '_timestamp': 1716385241.3659718}).\n"
     ]
    },
    {
     "data": {
      "text/plain": [
       "Validation: |          | 0/? [00:00<?, ?it/s]"
      ],
      "application/vnd.jupyter.widget-view+json": {
       "version_major": 2,
       "version_minor": 0,
       "model_id": "3c0566fa8797473c8e3925778d121f87"
      }
     },
     "metadata": {},
     "output_type": "display_data"
    },
    {
     "name": "stderr",
     "output_type": "stream",
     "text": [
      "\u001B[34m\u001B[1mwandb\u001B[0m: \u001B[33mWARNING\u001B[0m (User provided step: 77 is less than current step: 198. Dropping entry: {'prediction': {'_type': 'image-file', 'sha256': '85e0251e5dbb4f7ed46382dffe961d6138ea6c02ae35ff9f5141bdf42d76bf94', 'size': 440534, 'path': 'media/images/prediction_198_85e0251e5dbb4f7ed463.png', 'format': 'png', 'width': 688, 'height': 550, 'caption': 'Prediction', 'masks': {'prediction': {'_type': 'mask', 'sha256': '5af57a1d88233469b0cadc18ffe7a34f2b25526a211f40d08034a929dfa5fdfb', 'size': 1718, 'path': 'media/images/mask/prediction_198_5af57a1d88233469b0ca.mask.png'}}}, '_timestamp': 1716385260.4545755}).\n",
      "\u001B[34m\u001B[1mwandb\u001B[0m: \u001B[33mWARNING\u001B[0m (User provided step: 77 is less than current step: 198. Dropping entry: {'entropy': {'_type': 'image-file', 'sha256': 'b08c3e07cf676bda9af86fcd35aa8cdfc7d393169e458544b138bf706e2132d0', 'size': 44320, 'path': 'media/images/entropy_198_b08c3e07cf676bda9af8.png', 'format': 'png', 'width': 688, 'height': 550, 'caption': 'Entropy'}, '_timestamp': 1716385260.5258524}).\n",
      "\u001B[34m\u001B[1mwandb\u001B[0m: \u001B[33mWARNING\u001B[0m (User provided step: 77 is less than current step: 198. Dropping entry: {'ground_truth': {'_type': 'image-file', 'sha256': '85e0251e5dbb4f7ed46382dffe961d6138ea6c02ae35ff9f5141bdf42d76bf94', 'size': 440534, 'path': 'media/images/ground_truth_198_85e0251e5dbb4f7ed463.png', 'format': 'png', 'width': 688, 'height': 550, 'caption': 'Ground truth', 'masks': {'ground_truth': {'_type': 'mask', 'sha256': '5a572d8ea5561a9b2386dd6431ff098415a7a6c677802c151afbeeb661f3b7fd', 'size': 1742, 'path': 'media/images/mask/ground_truth_198_5a572d8ea5561a9b2386.mask.png'}}}, '_timestamp': 1716385260.711756}).\n",
      "\u001B[34m\u001B[1mwandb\u001B[0m: \u001B[33mWARNING\u001B[0m (User provided step: 77 is less than current step: 198. Dropping entry: {'error': {'_type': 'image-file', 'sha256': '85e0251e5dbb4f7ed46382dffe961d6138ea6c02ae35ff9f5141bdf42d76bf94', 'size': 440534, 'path': 'media/images/error_198_85e0251e5dbb4f7ed463.png', 'format': 'png', 'width': 688, 'height': 550, 'caption': 'Error', 'masks': {'error': {'_type': 'mask', 'sha256': 'e2f0c3b5c9cb85d8f0e22346a98c88788f4f62b0280719acbf11ae5dcb86ee05', 'size': 845, 'path': 'media/images/mask/error_198_e2f0c3b5c9cb85d8f0e2.mask.png'}}}, '_timestamp': 1716385260.8972003}).\n"
     ]
    },
    {
     "data": {
      "text/plain": [
       "Validation: |          | 0/? [00:00<?, ?it/s]"
      ],
      "application/vnd.jupyter.widget-view+json": {
       "version_major": 2,
       "version_minor": 0,
       "model_id": "b2c413ca511e492eb1a8018fb61ccdbc"
      }
     },
     "metadata": {},
     "output_type": "display_data"
    },
    {
     "name": "stderr",
     "output_type": "stream",
     "text": [
      "\u001B[34m\u001B[1mwandb\u001B[0m: \u001B[33mWARNING\u001B[0m (User provided step: 78 is less than current step: 201. Dropping entry: {'prediction': {'_type': 'image-file', 'sha256': '85e0251e5dbb4f7ed46382dffe961d6138ea6c02ae35ff9f5141bdf42d76bf94', 'size': 440534, 'path': 'media/images/prediction_201_85e0251e5dbb4f7ed463.png', 'format': 'png', 'width': 688, 'height': 550, 'caption': 'Prediction', 'masks': {'prediction': {'_type': 'mask', 'sha256': '5e2337c7de38741d37419db2ba92667f2cb4c2ca6a62c6cec072eb7cb81c4f87', 'size': 1731, 'path': 'media/images/mask/prediction_201_5e2337c7de38741d3741.mask.png'}}}, '_timestamp': 1716385279.8056662}).\n",
      "\u001B[34m\u001B[1mwandb\u001B[0m: \u001B[33mWARNING\u001B[0m (User provided step: 78 is less than current step: 201. Dropping entry: {'entropy': {'_type': 'image-file', 'sha256': '6444e961ffc486edc260fc1325848a47fb022e5dbc055e62f9607fe2f95b940b', 'size': 43248, 'path': 'media/images/entropy_201_6444e961ffc486edc260.png', 'format': 'png', 'width': 688, 'height': 550, 'caption': 'Entropy'}, '_timestamp': 1716385279.8739517}).\n",
      "\u001B[34m\u001B[1mwandb\u001B[0m: \u001B[33mWARNING\u001B[0m (User provided step: 78 is less than current step: 201. Dropping entry: {'ground_truth': {'_type': 'image-file', 'sha256': '85e0251e5dbb4f7ed46382dffe961d6138ea6c02ae35ff9f5141bdf42d76bf94', 'size': 440534, 'path': 'media/images/ground_truth_201_85e0251e5dbb4f7ed463.png', 'format': 'png', 'width': 688, 'height': 550, 'caption': 'Ground truth', 'masks': {'ground_truth': {'_type': 'mask', 'sha256': '5a572d8ea5561a9b2386dd6431ff098415a7a6c677802c151afbeeb661f3b7fd', 'size': 1742, 'path': 'media/images/mask/ground_truth_201_5a572d8ea5561a9b2386.mask.png'}}}, '_timestamp': 1716385280.0587833}).\n",
      "\u001B[34m\u001B[1mwandb\u001B[0m: \u001B[33mWARNING\u001B[0m (User provided step: 78 is less than current step: 201. Dropping entry: {'error': {'_type': 'image-file', 'sha256': '85e0251e5dbb4f7ed46382dffe961d6138ea6c02ae35ff9f5141bdf42d76bf94', 'size': 440534, 'path': 'media/images/error_201_85e0251e5dbb4f7ed463.png', 'format': 'png', 'width': 688, 'height': 550, 'caption': 'Error', 'masks': {'error': {'_type': 'mask', 'sha256': 'b4eb82a2cd16f7387c12cb7619a1ba0d7d4e65a8aea2c1720a38ca0704bae641', 'size': 840, 'path': 'media/images/mask/error_201_b4eb82a2cd16f7387c12.mask.png'}}}, '_timestamp': 1716385280.2407887}).\n"
     ]
    },
    {
     "data": {
      "text/plain": [
       "Validation: |          | 0/? [00:00<?, ?it/s]"
      ],
      "application/vnd.jupyter.widget-view+json": {
       "version_major": 2,
       "version_minor": 0,
       "model_id": "d4ae0f2b0c7c434491cb7c040a30fba1"
      }
     },
     "metadata": {},
     "output_type": "display_data"
    },
    {
     "name": "stderr",
     "output_type": "stream",
     "text": [
      "\u001B[34m\u001B[1mwandb\u001B[0m: \u001B[33mWARNING\u001B[0m (User provided step: 79 is less than current step: 204. Dropping entry: {'prediction': {'_type': 'image-file', 'sha256': '85e0251e5dbb4f7ed46382dffe961d6138ea6c02ae35ff9f5141bdf42d76bf94', 'size': 440534, 'path': 'media/images/prediction_204_85e0251e5dbb4f7ed463.png', 'format': 'png', 'width': 688, 'height': 550, 'caption': 'Prediction', 'masks': {'prediction': {'_type': 'mask', 'sha256': 'e400a346f538e084e40118136549480833e2616565361ff436cc46a12a5b9e13', 'size': 1727, 'path': 'media/images/mask/prediction_204_e400a346f538e084e401.mask.png'}}}, '_timestamp': 1716385299.193818}).\n",
      "\u001B[34m\u001B[1mwandb\u001B[0m: \u001B[33mWARNING\u001B[0m (User provided step: 79 is less than current step: 204. Dropping entry: {'entropy': {'_type': 'image-file', 'sha256': '1b0402e5765050b33b42aee86644626e10c7fea888d0d75ff7003ac5a4895537', 'size': 47947, 'path': 'media/images/entropy_204_1b0402e5765050b33b42.png', 'format': 'png', 'width': 688, 'height': 550, 'caption': 'Entropy'}, '_timestamp': 1716385299.2663944}).\n",
      "\u001B[34m\u001B[1mwandb\u001B[0m: \u001B[33mWARNING\u001B[0m (User provided step: 79 is less than current step: 204. Dropping entry: {'ground_truth': {'_type': 'image-file', 'sha256': '85e0251e5dbb4f7ed46382dffe961d6138ea6c02ae35ff9f5141bdf42d76bf94', 'size': 440534, 'path': 'media/images/ground_truth_204_85e0251e5dbb4f7ed463.png', 'format': 'png', 'width': 688, 'height': 550, 'caption': 'Ground truth', 'masks': {'ground_truth': {'_type': 'mask', 'sha256': '5a572d8ea5561a9b2386dd6431ff098415a7a6c677802c151afbeeb661f3b7fd', 'size': 1742, 'path': 'media/images/mask/ground_truth_204_5a572d8ea5561a9b2386.mask.png'}}}, '_timestamp': 1716385299.4516869}).\n",
      "\u001B[34m\u001B[1mwandb\u001B[0m: \u001B[33mWARNING\u001B[0m (User provided step: 79 is less than current step: 204. Dropping entry: {'error': {'_type': 'image-file', 'sha256': '85e0251e5dbb4f7ed46382dffe961d6138ea6c02ae35ff9f5141bdf42d76bf94', 'size': 440534, 'path': 'media/images/error_204_85e0251e5dbb4f7ed463.png', 'format': 'png', 'width': 688, 'height': 550, 'caption': 'Error', 'masks': {'error': {'_type': 'mask', 'sha256': '20e4dcb9837bc7840b4972acbf19958e7e740b3c8f22a146ee87abcc46ee5d65', 'size': 862, 'path': 'media/images/mask/error_204_20e4dcb9837bc7840b49.mask.png'}}}, '_timestamp': 1716385299.6354434}).\n"
     ]
    },
    {
     "data": {
      "text/plain": [
       "Validation: |          | 0/? [00:00<?, ?it/s]"
      ],
      "application/vnd.jupyter.widget-view+json": {
       "version_major": 2,
       "version_minor": 0,
       "model_id": "bd90140674c84eb18e79cade0407dbc3"
      }
     },
     "metadata": {},
     "output_type": "display_data"
    },
    {
     "name": "stderr",
     "output_type": "stream",
     "text": [
      "\u001B[34m\u001B[1mwandb\u001B[0m: \u001B[33mWARNING\u001B[0m (User provided step: 80 is less than current step: 208. Dropping entry: {'prediction': {'_type': 'image-file', 'sha256': '85e0251e5dbb4f7ed46382dffe961d6138ea6c02ae35ff9f5141bdf42d76bf94', 'size': 440534, 'path': 'media/images/prediction_208_85e0251e5dbb4f7ed463.png', 'format': 'png', 'width': 688, 'height': 550, 'caption': 'Prediction', 'masks': {'prediction': {'_type': 'mask', 'sha256': '98a40a91980a39133dc4187accc690b0deb0874b148c066347418b1f705d8b53', 'size': 1725, 'path': 'media/images/mask/prediction_208_98a40a91980a39133dc4.mask.png'}}}, '_timestamp': 1716385318.5392733}).\n",
      "\u001B[34m\u001B[1mwandb\u001B[0m: \u001B[33mWARNING\u001B[0m (User provided step: 80 is less than current step: 208. Dropping entry: {'entropy': {'_type': 'image-file', 'sha256': 'b941aaf3e631c492ba7fb545de8188b956a24a24343bff75078f619d5f51bee7', 'size': 51891, 'path': 'media/images/entropy_208_b941aaf3e631c492ba7f.png', 'format': 'png', 'width': 688, 'height': 550, 'caption': 'Entropy'}, '_timestamp': 1716385318.6132634}).\n",
      "\u001B[34m\u001B[1mwandb\u001B[0m: \u001B[33mWARNING\u001B[0m (User provided step: 80 is less than current step: 208. Dropping entry: {'ground_truth': {'_type': 'image-file', 'sha256': '85e0251e5dbb4f7ed46382dffe961d6138ea6c02ae35ff9f5141bdf42d76bf94', 'size': 440534, 'path': 'media/images/ground_truth_208_85e0251e5dbb4f7ed463.png', 'format': 'png', 'width': 688, 'height': 550, 'caption': 'Ground truth', 'masks': {'ground_truth': {'_type': 'mask', 'sha256': '5a572d8ea5561a9b2386dd6431ff098415a7a6c677802c151afbeeb661f3b7fd', 'size': 1742, 'path': 'media/images/mask/ground_truth_208_5a572d8ea5561a9b2386.mask.png'}}}, '_timestamp': 1716385318.7990825}).\n",
      "\u001B[34m\u001B[1mwandb\u001B[0m: \u001B[33mWARNING\u001B[0m (User provided step: 80 is less than current step: 208. Dropping entry: {'error': {'_type': 'image-file', 'sha256': '85e0251e5dbb4f7ed46382dffe961d6138ea6c02ae35ff9f5141bdf42d76bf94', 'size': 440534, 'path': 'media/images/error_208_85e0251e5dbb4f7ed463.png', 'format': 'png', 'width': 688, 'height': 550, 'caption': 'Error', 'masks': {'error': {'_type': 'mask', 'sha256': '3b451a8a5747c359b4f70c908858b455f88e37b559fc6bc7feb835195d09c1c0', 'size': 829, 'path': 'media/images/mask/error_208_3b451a8a5747c359b4f7.mask.png'}}}, '_timestamp': 1716385318.9814484}).\n"
     ]
    },
    {
     "data": {
      "text/plain": [
       "Validation: |          | 0/? [00:00<?, ?it/s]"
      ],
      "application/vnd.jupyter.widget-view+json": {
       "version_major": 2,
       "version_minor": 0,
       "model_id": "29eeec479ac342b9b0835f45ae165626"
      }
     },
     "metadata": {},
     "output_type": "display_data"
    },
    {
     "name": "stderr",
     "output_type": "stream",
     "text": [
      "\u001B[34m\u001B[1mwandb\u001B[0m: \u001B[33mWARNING\u001B[0m (User provided step: 81 is less than current step: 211. Dropping entry: {'prediction': {'_type': 'image-file', 'sha256': '85e0251e5dbb4f7ed46382dffe961d6138ea6c02ae35ff9f5141bdf42d76bf94', 'size': 440534, 'path': 'media/images/prediction_211_85e0251e5dbb4f7ed463.png', 'format': 'png', 'width': 688, 'height': 550, 'caption': 'Prediction', 'masks': {'prediction': {'_type': 'mask', 'sha256': 'b15475567432f55bc26b8dd183e3c83449f6f0836b8b55f1e8c765c55a62a8ea', 'size': 1858, 'path': 'media/images/mask/prediction_211_b15475567432f55bc26b.mask.png'}}}, '_timestamp': 1716385338.028542}).\n",
      "\u001B[34m\u001B[1mwandb\u001B[0m: \u001B[33mWARNING\u001B[0m (User provided step: 81 is less than current step: 211. Dropping entry: {'entropy': {'_type': 'image-file', 'sha256': '740af8a09ddbca42f1f882f8c5c478945da972f2fafa3157d01300e982eae8ed', 'size': 71079, 'path': 'media/images/entropy_211_740af8a09ddbca42f1f8.png', 'format': 'png', 'width': 688, 'height': 550, 'caption': 'Entropy'}, '_timestamp': 1716385338.1149843}).\n",
      "\u001B[34m\u001B[1mwandb\u001B[0m: \u001B[33mWARNING\u001B[0m (User provided step: 81 is less than current step: 211. Dropping entry: {'ground_truth': {'_type': 'image-file', 'sha256': '85e0251e5dbb4f7ed46382dffe961d6138ea6c02ae35ff9f5141bdf42d76bf94', 'size': 440534, 'path': 'media/images/ground_truth_211_85e0251e5dbb4f7ed463.png', 'format': 'png', 'width': 688, 'height': 550, 'caption': 'Ground truth', 'masks': {'ground_truth': {'_type': 'mask', 'sha256': '5a572d8ea5561a9b2386dd6431ff098415a7a6c677802c151afbeeb661f3b7fd', 'size': 1742, 'path': 'media/images/mask/ground_truth_211_5a572d8ea5561a9b2386.mask.png'}}}, '_timestamp': 1716385338.297575}).\n",
      "\u001B[34m\u001B[1mwandb\u001B[0m: \u001B[33mWARNING\u001B[0m (User provided step: 81 is less than current step: 211. Dropping entry: {'error': {'_type': 'image-file', 'sha256': '85e0251e5dbb4f7ed46382dffe961d6138ea6c02ae35ff9f5141bdf42d76bf94', 'size': 440534, 'path': 'media/images/error_211_85e0251e5dbb4f7ed463.png', 'format': 'png', 'width': 688, 'height': 550, 'caption': 'Error', 'masks': {'error': {'_type': 'mask', 'sha256': '8e947e5a685093d7a5b333f8980b0eb973d61b07bb3402c20a98487354e97d80', 'size': 961, 'path': 'media/images/mask/error_211_8e947e5a685093d7a5b3.mask.png'}}}, '_timestamp': 1716385338.4789128}).\n"
     ]
    },
    {
     "data": {
      "text/plain": [
       "Validation: |          | 0/? [00:00<?, ?it/s]"
      ],
      "application/vnd.jupyter.widget-view+json": {
       "version_major": 2,
       "version_minor": 0,
       "model_id": "168f43f9cf65418aa7fe07793a90e03a"
      }
     },
     "metadata": {},
     "output_type": "display_data"
    },
    {
     "name": "stderr",
     "output_type": "stream",
     "text": [
      "\u001B[34m\u001B[1mwandb\u001B[0m: \u001B[33mWARNING\u001B[0m (User provided step: 82 is less than current step: 214. Dropping entry: {'prediction': {'_type': 'image-file', 'sha256': '85e0251e5dbb4f7ed46382dffe961d6138ea6c02ae35ff9f5141bdf42d76bf94', 'size': 440534, 'path': 'media/images/prediction_214_85e0251e5dbb4f7ed463.png', 'format': 'png', 'width': 688, 'height': 550, 'caption': 'Prediction', 'masks': {'prediction': {'_type': 'mask', 'sha256': 'bb7286400e9bf9df96c49614ea1203c7ab3433bc62233abe49f8076d4d9c4442', 'size': 1721, 'path': 'media/images/mask/prediction_214_bb7286400e9bf9df96c4.mask.png'}}}, '_timestamp': 1716385357.9448955}).\n",
      "\u001B[34m\u001B[1mwandb\u001B[0m: \u001B[33mWARNING\u001B[0m (User provided step: 82 is less than current step: 214. Dropping entry: {'entropy': {'_type': 'image-file', 'sha256': 'd450a546329c9d19743776d77adbab871ad8d3a3e0120bfb1ea49952c9780b7d', 'size': 53572, 'path': 'media/images/entropy_214_d450a546329c9d197437.png', 'format': 'png', 'width': 688, 'height': 550, 'caption': 'Entropy'}, '_timestamp': 1716385358.0213978}).\n",
      "\u001B[34m\u001B[1mwandb\u001B[0m: \u001B[33mWARNING\u001B[0m (User provided step: 82 is less than current step: 214. Dropping entry: {'ground_truth': {'_type': 'image-file', 'sha256': '85e0251e5dbb4f7ed46382dffe961d6138ea6c02ae35ff9f5141bdf42d76bf94', 'size': 440534, 'path': 'media/images/ground_truth_214_85e0251e5dbb4f7ed463.png', 'format': 'png', 'width': 688, 'height': 550, 'caption': 'Ground truth', 'masks': {'ground_truth': {'_type': 'mask', 'sha256': '5a572d8ea5561a9b2386dd6431ff098415a7a6c677802c151afbeeb661f3b7fd', 'size': 1742, 'path': 'media/images/mask/ground_truth_214_5a572d8ea5561a9b2386.mask.png'}}}, '_timestamp': 1716385358.2081068}).\n",
      "\u001B[34m\u001B[1mwandb\u001B[0m: \u001B[33mWARNING\u001B[0m (User provided step: 82 is less than current step: 214. Dropping entry: {'error': {'_type': 'image-file', 'sha256': '85e0251e5dbb4f7ed46382dffe961d6138ea6c02ae35ff9f5141bdf42d76bf94', 'size': 440534, 'path': 'media/images/error_214_85e0251e5dbb4f7ed463.png', 'format': 'png', 'width': 688, 'height': 550, 'caption': 'Error', 'masks': {'error': {'_type': 'mask', 'sha256': '9c986a305865340774e92a075582e5ee8177a3dfeebd672823c701b697e79ddc', 'size': 865, 'path': 'media/images/mask/error_214_9c986a305865340774e9.mask.png'}}}, '_timestamp': 1716385358.3955765}).\n"
     ]
    },
    {
     "data": {
      "text/plain": [
       "Validation: |          | 0/? [00:00<?, ?it/s]"
      ],
      "application/vnd.jupyter.widget-view+json": {
       "version_major": 2,
       "version_minor": 0,
       "model_id": "9bc2fcdae8bd4e3db347824b9049a1f9"
      }
     },
     "metadata": {},
     "output_type": "display_data"
    },
    {
     "name": "stderr",
     "output_type": "stream",
     "text": [
      "\u001B[34m\u001B[1mwandb\u001B[0m: \u001B[33mWARNING\u001B[0m (User provided step: 83 is less than current step: 217. Dropping entry: {'prediction': {'_type': 'image-file', 'sha256': '85e0251e5dbb4f7ed46382dffe961d6138ea6c02ae35ff9f5141bdf42d76bf94', 'size': 440534, 'path': 'media/images/prediction_217_85e0251e5dbb4f7ed463.png', 'format': 'png', 'width': 688, 'height': 550, 'caption': 'Prediction', 'masks': {'prediction': {'_type': 'mask', 'sha256': '151c0e20e9cffcffbabc038bfa15bca895b5c13e60f39b388dcf4b84327f869f', 'size': 1708, 'path': 'media/images/mask/prediction_217_151c0e20e9cffcffbabc.mask.png'}}}, '_timestamp': 1716385377.180075}).\n",
      "\u001B[34m\u001B[1mwandb\u001B[0m: \u001B[33mWARNING\u001B[0m (User provided step: 83 is less than current step: 217. Dropping entry: {'entropy': {'_type': 'image-file', 'sha256': '8060b545879db7b2e27add9bbdeab57c04a151bde9b079b592823fe1188aa771', 'size': 64553, 'path': 'media/images/entropy_217_8060b545879db7b2e27a.png', 'format': 'png', 'width': 688, 'height': 550, 'caption': 'Entropy'}, '_timestamp': 1716385377.2593405}).\n",
      "\u001B[34m\u001B[1mwandb\u001B[0m: \u001B[33mWARNING\u001B[0m (User provided step: 83 is less than current step: 217. Dropping entry: {'ground_truth': {'_type': 'image-file', 'sha256': '85e0251e5dbb4f7ed46382dffe961d6138ea6c02ae35ff9f5141bdf42d76bf94', 'size': 440534, 'path': 'media/images/ground_truth_217_85e0251e5dbb4f7ed463.png', 'format': 'png', 'width': 688, 'height': 550, 'caption': 'Ground truth', 'masks': {'ground_truth': {'_type': 'mask', 'sha256': '5a572d8ea5561a9b2386dd6431ff098415a7a6c677802c151afbeeb661f3b7fd', 'size': 1742, 'path': 'media/images/mask/ground_truth_217_5a572d8ea5561a9b2386.mask.png'}}}, '_timestamp': 1716385377.4441264}).\n",
      "\u001B[34m\u001B[1mwandb\u001B[0m: \u001B[33mWARNING\u001B[0m (User provided step: 83 is less than current step: 217. Dropping entry: {'error': {'_type': 'image-file', 'sha256': '85e0251e5dbb4f7ed46382dffe961d6138ea6c02ae35ff9f5141bdf42d76bf94', 'size': 440534, 'path': 'media/images/error_217_85e0251e5dbb4f7ed463.png', 'format': 'png', 'width': 688, 'height': 550, 'caption': 'Error', 'masks': {'error': {'_type': 'mask', 'sha256': 'fafec504c14ecf4ebb0237cef8ca2931ee7ef2c7cd843e0a389bd24b4e671021', 'size': 859, 'path': 'media/images/mask/error_217_fafec504c14ecf4ebb02.mask.png'}}}, '_timestamp': 1716385377.6283174}).\n"
     ]
    },
    {
     "data": {
      "text/plain": [
       "Validation: |          | 0/? [00:00<?, ?it/s]"
      ],
      "application/vnd.jupyter.widget-view+json": {
       "version_major": 2,
       "version_minor": 0,
       "model_id": "23a7ae0ee051486790a7c081d0e4fa36"
      }
     },
     "metadata": {},
     "output_type": "display_data"
    },
    {
     "name": "stderr",
     "output_type": "stream",
     "text": [
      "\u001B[34m\u001B[1mwandb\u001B[0m: \u001B[33mWARNING\u001B[0m (User provided step: 84 is less than current step: 220. Dropping entry: {'prediction': {'_type': 'image-file', 'sha256': '85e0251e5dbb4f7ed46382dffe961d6138ea6c02ae35ff9f5141bdf42d76bf94', 'size': 440534, 'path': 'media/images/prediction_220_85e0251e5dbb4f7ed463.png', 'format': 'png', 'width': 688, 'height': 550, 'caption': 'Prediction', 'masks': {'prediction': {'_type': 'mask', 'sha256': '3a03521feaa8a53fc3dc92099d0d6da5c9547545c4352f35699a0146b2f286e7', 'size': 1719, 'path': 'media/images/mask/prediction_220_3a03521feaa8a53fc3dc.mask.png'}}}, '_timestamp': 1716385396.6539297}).\n",
      "\u001B[34m\u001B[1mwandb\u001B[0m: \u001B[33mWARNING\u001B[0m (User provided step: 84 is less than current step: 220. Dropping entry: {'entropy': {'_type': 'image-file', 'sha256': '806edebc63b2891b4a569306268fa72e3c78154e4e02c4f7a493227c77c56a9a', 'size': 60456, 'path': 'media/images/entropy_220_806edebc63b2891b4a56.png', 'format': 'png', 'width': 688, 'height': 550, 'caption': 'Entropy'}, '_timestamp': 1716385396.7320528}).\n",
      "\u001B[34m\u001B[1mwandb\u001B[0m: \u001B[33mWARNING\u001B[0m (User provided step: 84 is less than current step: 220. Dropping entry: {'ground_truth': {'_type': 'image-file', 'sha256': '85e0251e5dbb4f7ed46382dffe961d6138ea6c02ae35ff9f5141bdf42d76bf94', 'size': 440534, 'path': 'media/images/ground_truth_220_85e0251e5dbb4f7ed463.png', 'format': 'png', 'width': 688, 'height': 550, 'caption': 'Ground truth', 'masks': {'ground_truth': {'_type': 'mask', 'sha256': '5a572d8ea5561a9b2386dd6431ff098415a7a6c677802c151afbeeb661f3b7fd', 'size': 1742, 'path': 'media/images/mask/ground_truth_220_5a572d8ea5561a9b2386.mask.png'}}}, '_timestamp': 1716385396.9167023}).\n",
      "\u001B[34m\u001B[1mwandb\u001B[0m: \u001B[33mWARNING\u001B[0m (User provided step: 84 is less than current step: 220. Dropping entry: {'error': {'_type': 'image-file', 'sha256': '85e0251e5dbb4f7ed46382dffe961d6138ea6c02ae35ff9f5141bdf42d76bf94', 'size': 440534, 'path': 'media/images/error_220_85e0251e5dbb4f7ed463.png', 'format': 'png', 'width': 688, 'height': 550, 'caption': 'Error', 'masks': {'error': {'_type': 'mask', 'sha256': 'f9ef3a74137d858f05bb2ad2e489c7918588069a17590c9ceb75ee4d13d0b6ca', 'size': 858, 'path': 'media/images/mask/error_220_f9ef3a74137d858f05bb.mask.png'}}}, '_timestamp': 1716385397.1028736}).\n"
     ]
    },
    {
     "data": {
      "text/plain": [
       "Validation: |          | 0/? [00:00<?, ?it/s]"
      ],
      "application/vnd.jupyter.widget-view+json": {
       "version_major": 2,
       "version_minor": 0,
       "model_id": "f170072f7f364d818ebe03cb521860df"
      }
     },
     "metadata": {},
     "output_type": "display_data"
    },
    {
     "name": "stderr",
     "output_type": "stream",
     "text": [
      "\u001B[34m\u001B[1mwandb\u001B[0m: \u001B[33mWARNING\u001B[0m (User provided step: 85 is less than current step: 223. Dropping entry: {'prediction': {'_type': 'image-file', 'sha256': '85e0251e5dbb4f7ed46382dffe961d6138ea6c02ae35ff9f5141bdf42d76bf94', 'size': 440534, 'path': 'media/images/prediction_223_85e0251e5dbb4f7ed463.png', 'format': 'png', 'width': 688, 'height': 550, 'caption': 'Prediction', 'masks': {'prediction': {'_type': 'mask', 'sha256': '52f52b91b09c53bc0feae5a169e86f7b5c8bd37e2d385b6bfb4dd5841410cb26', 'size': 1713, 'path': 'media/images/mask/prediction_223_52f52b91b09c53bc0fea.mask.png'}}}, '_timestamp': 1716385415.5755486}).\n",
      "\u001B[34m\u001B[1mwandb\u001B[0m: \u001B[33mWARNING\u001B[0m (User provided step: 85 is less than current step: 223. Dropping entry: {'entropy': {'_type': 'image-file', 'sha256': '7dfadf5a03c609ee16ab8fb7893148655fb3351e8baf48a59f96db9e423d8071', 'size': 58203, 'path': 'media/images/entropy_223_7dfadf5a03c609ee16ab.png', 'format': 'png', 'width': 688, 'height': 550, 'caption': 'Entropy'}, '_timestamp': 1716385415.6524174}).\n",
      "\u001B[34m\u001B[1mwandb\u001B[0m: \u001B[33mWARNING\u001B[0m (User provided step: 85 is less than current step: 223. Dropping entry: {'ground_truth': {'_type': 'image-file', 'sha256': '85e0251e5dbb4f7ed46382dffe961d6138ea6c02ae35ff9f5141bdf42d76bf94', 'size': 440534, 'path': 'media/images/ground_truth_223_85e0251e5dbb4f7ed463.png', 'format': 'png', 'width': 688, 'height': 550, 'caption': 'Ground truth', 'masks': {'ground_truth': {'_type': 'mask', 'sha256': '5a572d8ea5561a9b2386dd6431ff098415a7a6c677802c151afbeeb661f3b7fd', 'size': 1742, 'path': 'media/images/mask/ground_truth_223_5a572d8ea5561a9b2386.mask.png'}}}, '_timestamp': 1716385415.838693}).\n",
      "\u001B[34m\u001B[1mwandb\u001B[0m: \u001B[33mWARNING\u001B[0m (User provided step: 85 is less than current step: 223. Dropping entry: {'error': {'_type': 'image-file', 'sha256': '85e0251e5dbb4f7ed46382dffe961d6138ea6c02ae35ff9f5141bdf42d76bf94', 'size': 440534, 'path': 'media/images/error_223_85e0251e5dbb4f7ed463.png', 'format': 'png', 'width': 688, 'height': 550, 'caption': 'Error', 'masks': {'error': {'_type': 'mask', 'sha256': 'e32804fa208713d258d119cfaf8a81718a21e3d9bbea1bfcac89fee5ecbdac38', 'size': 851, 'path': 'media/images/mask/error_223_e32804fa208713d258d1.mask.png'}}}, '_timestamp': 1716385416.0137675}).\n"
     ]
    },
    {
     "data": {
      "text/plain": [
       "Validation: |          | 0/? [00:00<?, ?it/s]"
      ],
      "application/vnd.jupyter.widget-view+json": {
       "version_major": 2,
       "version_minor": 0,
       "model_id": "bd5e387563774d61a9e2afe9251ad041"
      }
     },
     "metadata": {},
     "output_type": "display_data"
    },
    {
     "name": "stderr",
     "output_type": "stream",
     "text": [
      "\u001B[34m\u001B[1mwandb\u001B[0m: \u001B[33mWARNING\u001B[0m (User provided step: 86 is less than current step: 226. Dropping entry: {'prediction': {'_type': 'image-file', 'sha256': '85e0251e5dbb4f7ed46382dffe961d6138ea6c02ae35ff9f5141bdf42d76bf94', 'size': 440534, 'path': 'media/images/prediction_226_85e0251e5dbb4f7ed463.png', 'format': 'png', 'width': 688, 'height': 550, 'caption': 'Prediction', 'masks': {'prediction': {'_type': 'mask', 'sha256': 'e2f543130d16c4b6d6ebb0d748bb3f4d8d56cea410eda22e985ed39fd92b7dc2', 'size': 1854, 'path': 'media/images/mask/prediction_226_e2f543130d16c4b6d6eb.mask.png'}}}, '_timestamp': 1716385434.920343}).\n",
      "\u001B[34m\u001B[1mwandb\u001B[0m: \u001B[33mWARNING\u001B[0m (User provided step: 86 is less than current step: 226. Dropping entry: {'entropy': {'_type': 'image-file', 'sha256': '1924b4a186fd755fa119ea8e53011e69ca6d3d7962e538b8f758bfb7c3b5fded', 'size': 71820, 'path': 'media/images/entropy_226_1924b4a186fd755fa119.png', 'format': 'png', 'width': 688, 'height': 550, 'caption': 'Entropy'}, '_timestamp': 1716385434.9993296}).\n",
      "\u001B[34m\u001B[1mwandb\u001B[0m: \u001B[33mWARNING\u001B[0m (User provided step: 86 is less than current step: 226. Dropping entry: {'ground_truth': {'_type': 'image-file', 'sha256': '85e0251e5dbb4f7ed46382dffe961d6138ea6c02ae35ff9f5141bdf42d76bf94', 'size': 440534, 'path': 'media/images/ground_truth_226_85e0251e5dbb4f7ed463.png', 'format': 'png', 'width': 688, 'height': 550, 'caption': 'Ground truth', 'masks': {'ground_truth': {'_type': 'mask', 'sha256': '5a572d8ea5561a9b2386dd6431ff098415a7a6c677802c151afbeeb661f3b7fd', 'size': 1742, 'path': 'media/images/mask/ground_truth_226_5a572d8ea5561a9b2386.mask.png'}}}, '_timestamp': 1716385435.1807365}).\n",
      "\u001B[34m\u001B[1mwandb\u001B[0m: \u001B[33mWARNING\u001B[0m (User provided step: 86 is less than current step: 226. Dropping entry: {'error': {'_type': 'image-file', 'sha256': '85e0251e5dbb4f7ed46382dffe961d6138ea6c02ae35ff9f5141bdf42d76bf94', 'size': 440534, 'path': 'media/images/error_226_85e0251e5dbb4f7ed463.png', 'format': 'png', 'width': 688, 'height': 550, 'caption': 'Error', 'masks': {'error': {'_type': 'mask', 'sha256': 'da6ab12884397454725e941a68faa9df3aeaea857917e364cf222dde8a3d5207', 'size': 959, 'path': 'media/images/mask/error_226_da6ab12884397454725e.mask.png'}}}, '_timestamp': 1716385435.3625042}).\n"
     ]
    },
    {
     "data": {
      "text/plain": [
       "Validation: |          | 0/? [00:00<?, ?it/s]"
      ],
      "application/vnd.jupyter.widget-view+json": {
       "version_major": 2,
       "version_minor": 0,
       "model_id": "dde8a1c7969748cd9b8e3ebd9928af65"
      }
     },
     "metadata": {},
     "output_type": "display_data"
    },
    {
     "name": "stderr",
     "output_type": "stream",
     "text": [
      "\u001B[34m\u001B[1mwandb\u001B[0m: \u001B[33mWARNING\u001B[0m (User provided step: 87 is less than current step: 230. Dropping entry: {'prediction': {'_type': 'image-file', 'sha256': '85e0251e5dbb4f7ed46382dffe961d6138ea6c02ae35ff9f5141bdf42d76bf94', 'size': 440534, 'path': 'media/images/prediction_230_85e0251e5dbb4f7ed463.png', 'format': 'png', 'width': 688, 'height': 550, 'caption': 'Prediction', 'masks': {'prediction': {'_type': 'mask', 'sha256': '199086cb0ebba394e35f9b61c9f78f3e534e8c8df1da6bc8d21b17fad0b9d848', 'size': 1790, 'path': 'media/images/mask/prediction_230_199086cb0ebba394e35f.mask.png'}}}, '_timestamp': 1716385454.527557}).\n",
      "\u001B[34m\u001B[1mwandb\u001B[0m: \u001B[33mWARNING\u001B[0m (User provided step: 87 is less than current step: 230. Dropping entry: {'entropy': {'_type': 'image-file', 'sha256': '7a017e39107481b5eb5dbfff56ed208dc1f3245d1b01fef5a1f71e1976a1536a', 'size': 58032, 'path': 'media/images/entropy_230_7a017e39107481b5eb5d.png', 'format': 'png', 'width': 688, 'height': 550, 'caption': 'Entropy'}, '_timestamp': 1716385454.6038985}).\n",
      "\u001B[34m\u001B[1mwandb\u001B[0m: \u001B[33mWARNING\u001B[0m (User provided step: 87 is less than current step: 230. Dropping entry: {'ground_truth': {'_type': 'image-file', 'sha256': '85e0251e5dbb4f7ed46382dffe961d6138ea6c02ae35ff9f5141bdf42d76bf94', 'size': 440534, 'path': 'media/images/ground_truth_230_85e0251e5dbb4f7ed463.png', 'format': 'png', 'width': 688, 'height': 550, 'caption': 'Ground truth', 'masks': {'ground_truth': {'_type': 'mask', 'sha256': '5a572d8ea5561a9b2386dd6431ff098415a7a6c677802c151afbeeb661f3b7fd', 'size': 1742, 'path': 'media/images/mask/ground_truth_230_5a572d8ea5561a9b2386.mask.png'}}}, '_timestamp': 1716385454.7869701}).\n",
      "\u001B[34m\u001B[1mwandb\u001B[0m: \u001B[33mWARNING\u001B[0m (User provided step: 87 is less than current step: 230. Dropping entry: {'error': {'_type': 'image-file', 'sha256': '85e0251e5dbb4f7ed46382dffe961d6138ea6c02ae35ff9f5141bdf42d76bf94', 'size': 440534, 'path': 'media/images/error_230_85e0251e5dbb4f7ed463.png', 'format': 'png', 'width': 688, 'height': 550, 'caption': 'Error', 'masks': {'error': {'_type': 'mask', 'sha256': 'bf0c27e242b8676651ac57f221cff2b98395ddf08cc01cf116848e09d0fc135b', 'size': 891, 'path': 'media/images/mask/error_230_bf0c27e242b8676651ac.mask.png'}}}, '_timestamp': 1716385454.9729176}).\n"
     ]
    },
    {
     "data": {
      "text/plain": [
       "Validation: |          | 0/? [00:00<?, ?it/s]"
      ],
      "application/vnd.jupyter.widget-view+json": {
       "version_major": 2,
       "version_minor": 0,
       "model_id": "8a2203a1ae9b4e158827ff591d8044c1"
      }
     },
     "metadata": {},
     "output_type": "display_data"
    },
    {
     "name": "stderr",
     "output_type": "stream",
     "text": [
      "\u001B[34m\u001B[1mwandb\u001B[0m: \u001B[33mWARNING\u001B[0m (User provided step: 88 is less than current step: 233. Dropping entry: {'prediction': {'_type': 'image-file', 'sha256': '85e0251e5dbb4f7ed46382dffe961d6138ea6c02ae35ff9f5141bdf42d76bf94', 'size': 440534, 'path': 'media/images/prediction_233_85e0251e5dbb4f7ed463.png', 'format': 'png', 'width': 688, 'height': 550, 'caption': 'Prediction', 'masks': {'prediction': {'_type': 'mask', 'sha256': 'ac4a52f443af6d5a8e8623199637ea5a2a64a940ee130ea157fcdff18b054605', 'size': 1809, 'path': 'media/images/mask/prediction_233_ac4a52f443af6d5a8e86.mask.png'}}}, '_timestamp': 1716385473.9214802}).\n",
      "\u001B[34m\u001B[1mwandb\u001B[0m: \u001B[33mWARNING\u001B[0m (User provided step: 88 is less than current step: 233. Dropping entry: {'entropy': {'_type': 'image-file', 'sha256': 'f3f06342545fe4186e969eb0a494a4d3581cb847fc60a4c201b025dc2f488e34', 'size': 53952, 'path': 'media/images/entropy_233_f3f06342545fe4186e96.png', 'format': 'png', 'width': 688, 'height': 550, 'caption': 'Entropy'}, '_timestamp': 1716385473.9966686}).\n",
      "\u001B[34m\u001B[1mwandb\u001B[0m: \u001B[33mWARNING\u001B[0m (User provided step: 88 is less than current step: 233. Dropping entry: {'ground_truth': {'_type': 'image-file', 'sha256': '85e0251e5dbb4f7ed46382dffe961d6138ea6c02ae35ff9f5141bdf42d76bf94', 'size': 440534, 'path': 'media/images/ground_truth_233_85e0251e5dbb4f7ed463.png', 'format': 'png', 'width': 688, 'height': 550, 'caption': 'Ground truth', 'masks': {'ground_truth': {'_type': 'mask', 'sha256': '5a572d8ea5561a9b2386dd6431ff098415a7a6c677802c151afbeeb661f3b7fd', 'size': 1742, 'path': 'media/images/mask/ground_truth_233_5a572d8ea5561a9b2386.mask.png'}}}, '_timestamp': 1716385474.1815243}).\n",
      "\u001B[34m\u001B[1mwandb\u001B[0m: \u001B[33mWARNING\u001B[0m (User provided step: 88 is less than current step: 233. Dropping entry: {'error': {'_type': 'image-file', 'sha256': '85e0251e5dbb4f7ed46382dffe961d6138ea6c02ae35ff9f5141bdf42d76bf94', 'size': 440534, 'path': 'media/images/error_233_85e0251e5dbb4f7ed463.png', 'format': 'png', 'width': 688, 'height': 550, 'caption': 'Error', 'masks': {'error': {'_type': 'mask', 'sha256': '7cecfc578216f0f9d70278f2d0d72f220ab6154ff6024c35998b91e02ac67fa2', 'size': 935, 'path': 'media/images/mask/error_233_7cecfc578216f0f9d702.mask.png'}}}, '_timestamp': 1716385474.3642101}).\n"
     ]
    },
    {
     "data": {
      "text/plain": [
       "Validation: |          | 0/? [00:00<?, ?it/s]"
      ],
      "application/vnd.jupyter.widget-view+json": {
       "version_major": 2,
       "version_minor": 0,
       "model_id": "d1c24dbd5abb476ebba32a87377b496b"
      }
     },
     "metadata": {},
     "output_type": "display_data"
    },
    {
     "name": "stderr",
     "output_type": "stream",
     "text": [
      "\u001B[34m\u001B[1mwandb\u001B[0m: \u001B[33mWARNING\u001B[0m (User provided step: 89 is less than current step: 236. Dropping entry: {'prediction': {'_type': 'image-file', 'sha256': '85e0251e5dbb4f7ed46382dffe961d6138ea6c02ae35ff9f5141bdf42d76bf94', 'size': 440534, 'path': 'media/images/prediction_236_85e0251e5dbb4f7ed463.png', 'format': 'png', 'width': 688, 'height': 550, 'caption': 'Prediction', 'masks': {'prediction': {'_type': 'mask', 'sha256': 'c3a55833e8316e687c3cc5cead2109c2db16aeebb11adc75b2f1daa474754fa2', 'size': 1818, 'path': 'media/images/mask/prediction_236_c3a55833e8316e687c3c.mask.png'}}}, '_timestamp': 1716385493.1638517}).\n",
      "\u001B[34m\u001B[1mwandb\u001B[0m: \u001B[33mWARNING\u001B[0m (User provided step: 89 is less than current step: 236. Dropping entry: {'entropy': {'_type': 'image-file', 'sha256': '57a9f9b38ffd0e89840ee1212325322df5ead4bd2298bb21b3e8a941dde9e9fa', 'size': 52582, 'path': 'media/images/entropy_236_57a9f9b38ffd0e89840e.png', 'format': 'png', 'width': 688, 'height': 550, 'caption': 'Entropy'}, '_timestamp': 1716385493.2368233}).\n",
      "\u001B[34m\u001B[1mwandb\u001B[0m: \u001B[33mWARNING\u001B[0m (User provided step: 89 is less than current step: 236. Dropping entry: {'ground_truth': {'_type': 'image-file', 'sha256': '85e0251e5dbb4f7ed46382dffe961d6138ea6c02ae35ff9f5141bdf42d76bf94', 'size': 440534, 'path': 'media/images/ground_truth_236_85e0251e5dbb4f7ed463.png', 'format': 'png', 'width': 688, 'height': 550, 'caption': 'Ground truth', 'masks': {'ground_truth': {'_type': 'mask', 'sha256': '5a572d8ea5561a9b2386dd6431ff098415a7a6c677802c151afbeeb661f3b7fd', 'size': 1742, 'path': 'media/images/mask/ground_truth_236_5a572d8ea5561a9b2386.mask.png'}}}, '_timestamp': 1716385493.4206848}).\n",
      "\u001B[34m\u001B[1mwandb\u001B[0m: \u001B[33mWARNING\u001B[0m (User provided step: 89 is less than current step: 236. Dropping entry: {'error': {'_type': 'image-file', 'sha256': '85e0251e5dbb4f7ed46382dffe961d6138ea6c02ae35ff9f5141bdf42d76bf94', 'size': 440534, 'path': 'media/images/error_236_85e0251e5dbb4f7ed463.png', 'format': 'png', 'width': 688, 'height': 550, 'caption': 'Error', 'masks': {'error': {'_type': 'mask', 'sha256': '6a197e72d51905ff71970ec4a2079d2a9114e62ac24a57ca374a01003dbfc957', 'size': 926, 'path': 'media/images/mask/error_236_6a197e72d51905ff7197.mask.png'}}}, '_timestamp': 1716385493.6030643}).\n"
     ]
    },
    {
     "data": {
      "text/plain": [
       "Validation: |          | 0/? [00:00<?, ?it/s]"
      ],
      "application/vnd.jupyter.widget-view+json": {
       "version_major": 2,
       "version_minor": 0,
       "model_id": "bda084c4ab06413590ae6e0bb8c72dca"
      }
     },
     "metadata": {},
     "output_type": "display_data"
    },
    {
     "name": "stderr",
     "output_type": "stream",
     "text": [
      "\u001B[34m\u001B[1mwandb\u001B[0m: \u001B[33mWARNING\u001B[0m (User provided step: 90 is less than current step: 239. Dropping entry: {'prediction': {'_type': 'image-file', 'sha256': '85e0251e5dbb4f7ed46382dffe961d6138ea6c02ae35ff9f5141bdf42d76bf94', 'size': 440534, 'path': 'media/images/prediction_239_85e0251e5dbb4f7ed463.png', 'format': 'png', 'width': 688, 'height': 550, 'caption': 'Prediction', 'masks': {'prediction': {'_type': 'mask', 'sha256': '44ef6e7cddd9a3ac558fc138f5c48330737e5d5f970ddf836f6abdabeac5c525', 'size': 1842, 'path': 'media/images/mask/prediction_239_44ef6e7cddd9a3ac558f.mask.png'}}}, '_timestamp': 1716385512.5914772}).\n",
      "\u001B[34m\u001B[1mwandb\u001B[0m: \u001B[33mWARNING\u001B[0m (User provided step: 90 is less than current step: 239. Dropping entry: {'entropy': {'_type': 'image-file', 'sha256': '8158bdad01cdf1b0d1a704cf31731844d88da090cb00a985e95aee7ab74d71f1', 'size': 52482, 'path': 'media/images/entropy_239_8158bdad01cdf1b0d1a7.png', 'format': 'png', 'width': 688, 'height': 550, 'caption': 'Entropy'}, '_timestamp': 1716385512.6647027}).\n",
      "\u001B[34m\u001B[1mwandb\u001B[0m: \u001B[33mWARNING\u001B[0m (User provided step: 90 is less than current step: 239. Dropping entry: {'ground_truth': {'_type': 'image-file', 'sha256': '85e0251e5dbb4f7ed46382dffe961d6138ea6c02ae35ff9f5141bdf42d76bf94', 'size': 440534, 'path': 'media/images/ground_truth_239_85e0251e5dbb4f7ed463.png', 'format': 'png', 'width': 688, 'height': 550, 'caption': 'Ground truth', 'masks': {'ground_truth': {'_type': 'mask', 'sha256': '5a572d8ea5561a9b2386dd6431ff098415a7a6c677802c151afbeeb661f3b7fd', 'size': 1742, 'path': 'media/images/mask/ground_truth_239_5a572d8ea5561a9b2386.mask.png'}}}, '_timestamp': 1716385512.8459444}).\n",
      "\u001B[34m\u001B[1mwandb\u001B[0m: \u001B[33mWARNING\u001B[0m (User provided step: 90 is less than current step: 239. Dropping entry: {'error': {'_type': 'image-file', 'sha256': '85e0251e5dbb4f7ed46382dffe961d6138ea6c02ae35ff9f5141bdf42d76bf94', 'size': 440534, 'path': 'media/images/error_239_85e0251e5dbb4f7ed463.png', 'format': 'png', 'width': 688, 'height': 550, 'caption': 'Error', 'masks': {'error': {'_type': 'mask', 'sha256': 'ce1c282d883bfe79dad898bc575445974630dd50633ac6e56ec0254279728480', 'size': 949, 'path': 'media/images/mask/error_239_ce1c282d883bfe79dad8.mask.png'}}}, '_timestamp': 1716385513.0277758}).\n"
     ]
    },
    {
     "data": {
      "text/plain": [
       "Validation: |          | 0/? [00:00<?, ?it/s]"
      ],
      "application/vnd.jupyter.widget-view+json": {
       "version_major": 2,
       "version_minor": 0,
       "model_id": "f501c0f2fbe4456abb1571fe1103e4f3"
      }
     },
     "metadata": {},
     "output_type": "display_data"
    },
    {
     "name": "stderr",
     "output_type": "stream",
     "text": [
      "\u001B[34m\u001B[1mwandb\u001B[0m: \u001B[33mWARNING\u001B[0m (User provided step: 91 is less than current step: 242. Dropping entry: {'prediction': {'_type': 'image-file', 'sha256': '85e0251e5dbb4f7ed46382dffe961d6138ea6c02ae35ff9f5141bdf42d76bf94', 'size': 440534, 'path': 'media/images/prediction_242_85e0251e5dbb4f7ed463.png', 'format': 'png', 'width': 688, 'height': 550, 'caption': 'Prediction', 'masks': {'prediction': {'_type': 'mask', 'sha256': '86c824ae29b447cc526947c38a8db834baf52031ff3a76b9dced6cd3e9d2035e', 'size': 1785, 'path': 'media/images/mask/prediction_242_86c824ae29b447cc5269.mask.png'}}}, '_timestamp': 1716385531.9884996}).\n",
      "\u001B[34m\u001B[1mwandb\u001B[0m: \u001B[33mWARNING\u001B[0m (User provided step: 91 is less than current step: 242. Dropping entry: {'entropy': {'_type': 'image-file', 'sha256': '78352d8d691bf6ffa13074c21753e9c2d895d6f2ef42301e190c4a544f20b520', 'size': 48997, 'path': 'media/images/entropy_242_78352d8d691bf6ffa130.png', 'format': 'png', 'width': 688, 'height': 550, 'caption': 'Entropy'}, '_timestamp': 1716385532.0608087}).\n",
      "\u001B[34m\u001B[1mwandb\u001B[0m: \u001B[33mWARNING\u001B[0m (User provided step: 91 is less than current step: 242. Dropping entry: {'ground_truth': {'_type': 'image-file', 'sha256': '85e0251e5dbb4f7ed46382dffe961d6138ea6c02ae35ff9f5141bdf42d76bf94', 'size': 440534, 'path': 'media/images/ground_truth_242_85e0251e5dbb4f7ed463.png', 'format': 'png', 'width': 688, 'height': 550, 'caption': 'Ground truth', 'masks': {'ground_truth': {'_type': 'mask', 'sha256': '5a572d8ea5561a9b2386dd6431ff098415a7a6c677802c151afbeeb661f3b7fd', 'size': 1742, 'path': 'media/images/mask/ground_truth_242_5a572d8ea5561a9b2386.mask.png'}}}, '_timestamp': 1716385532.2451882}).\n",
      "\u001B[34m\u001B[1mwandb\u001B[0m: \u001B[33mWARNING\u001B[0m (User provided step: 91 is less than current step: 242. Dropping entry: {'error': {'_type': 'image-file', 'sha256': '85e0251e5dbb4f7ed46382dffe961d6138ea6c02ae35ff9f5141bdf42d76bf94', 'size': 440534, 'path': 'media/images/error_242_85e0251e5dbb4f7ed463.png', 'format': 'png', 'width': 688, 'height': 550, 'caption': 'Error', 'masks': {'error': {'_type': 'mask', 'sha256': '59b734338dd2ba527a9495a8e1dd3e3aff44991f8de0f4028f4d7624e5c0ed76', 'size': 911, 'path': 'media/images/mask/error_242_59b734338dd2ba527a94.mask.png'}}}, '_timestamp': 1716385532.4314368}).\n"
     ]
    },
    {
     "data": {
      "text/plain": [
       "Validation: |          | 0/? [00:00<?, ?it/s]"
      ],
      "application/vnd.jupyter.widget-view+json": {
       "version_major": 2,
       "version_minor": 0,
       "model_id": "7aaaa89182e348949dbd60764e2d798e"
      }
     },
     "metadata": {},
     "output_type": "display_data"
    },
    {
     "name": "stderr",
     "output_type": "stream",
     "text": [
      "\u001B[34m\u001B[1mwandb\u001B[0m: \u001B[33mWARNING\u001B[0m (User provided step: 92 is less than current step: 245. Dropping entry: {'prediction': {'_type': 'image-file', 'sha256': '85e0251e5dbb4f7ed46382dffe961d6138ea6c02ae35ff9f5141bdf42d76bf94', 'size': 440534, 'path': 'media/images/prediction_245_85e0251e5dbb4f7ed463.png', 'format': 'png', 'width': 688, 'height': 550, 'caption': 'Prediction', 'masks': {'prediction': {'_type': 'mask', 'sha256': '562716f120d41d5d63617d70742b375de9ad1da5af4fd0da70516aad733a99c6', 'size': 1797, 'path': 'media/images/mask/prediction_245_562716f120d41d5d6361.mask.png'}}}, '_timestamp': 1716385551.505361}).\n",
      "\u001B[34m\u001B[1mwandb\u001B[0m: \u001B[33mWARNING\u001B[0m (User provided step: 92 is less than current step: 245. Dropping entry: {'entropy': {'_type': 'image-file', 'sha256': '4c28188205dfb0272e3c81a1f441d7c18ce8a91a2f45c3a2383f58e2f4bcc5fa', 'size': 50185, 'path': 'media/images/entropy_245_4c28188205dfb0272e3c.png', 'format': 'png', 'width': 688, 'height': 550, 'caption': 'Entropy'}, '_timestamp': 1716385551.575622}).\n",
      "\u001B[34m\u001B[1mwandb\u001B[0m: \u001B[33mWARNING\u001B[0m (User provided step: 92 is less than current step: 245. Dropping entry: {'ground_truth': {'_type': 'image-file', 'sha256': '85e0251e5dbb4f7ed46382dffe961d6138ea6c02ae35ff9f5141bdf42d76bf94', 'size': 440534, 'path': 'media/images/ground_truth_245_85e0251e5dbb4f7ed463.png', 'format': 'png', 'width': 688, 'height': 550, 'caption': 'Ground truth', 'masks': {'ground_truth': {'_type': 'mask', 'sha256': '5a572d8ea5561a9b2386dd6431ff098415a7a6c677802c151afbeeb661f3b7fd', 'size': 1742, 'path': 'media/images/mask/ground_truth_245_5a572d8ea5561a9b2386.mask.png'}}}, '_timestamp': 1716385551.7590015}).\n",
      "\u001B[34m\u001B[1mwandb\u001B[0m: \u001B[33mWARNING\u001B[0m (User provided step: 92 is less than current step: 245. Dropping entry: {'error': {'_type': 'image-file', 'sha256': '85e0251e5dbb4f7ed46382dffe961d6138ea6c02ae35ff9f5141bdf42d76bf94', 'size': 440534, 'path': 'media/images/error_245_85e0251e5dbb4f7ed463.png', 'format': 'png', 'width': 688, 'height': 550, 'caption': 'Error', 'masks': {'error': {'_type': 'mask', 'sha256': '9ed10141fb2de2baeb5ca996931cd8344388f91572e19d34a7913483489b3464', 'size': 912, 'path': 'media/images/mask/error_245_9ed10141fb2de2baeb5c.mask.png'}}}, '_timestamp': 1716385551.9411232}).\n"
     ]
    },
    {
     "data": {
      "text/plain": [
       "Validation: |          | 0/? [00:00<?, ?it/s]"
      ],
      "application/vnd.jupyter.widget-view+json": {
       "version_major": 2,
       "version_minor": 0,
       "model_id": "dcaaa982cfad4f43b25197a39438038d"
      }
     },
     "metadata": {},
     "output_type": "display_data"
    },
    {
     "name": "stderr",
     "output_type": "stream",
     "text": [
      "\u001B[34m\u001B[1mwandb\u001B[0m: \u001B[33mWARNING\u001B[0m (User provided step: 93 is less than current step: 248. Dropping entry: {'prediction': {'_type': 'image-file', 'sha256': '85e0251e5dbb4f7ed46382dffe961d6138ea6c02ae35ff9f5141bdf42d76bf94', 'size': 440534, 'path': 'media/images/prediction_248_85e0251e5dbb4f7ed463.png', 'format': 'png', 'width': 688, 'height': 550, 'caption': 'Prediction', 'masks': {'prediction': {'_type': 'mask', 'sha256': '4696c6a7867c511bb252758594a2e838d6d90a4a5c8731d1d52c55c47d8b22f6', 'size': 1798, 'path': 'media/images/mask/prediction_248_4696c6a7867c511bb252.mask.png'}}}, '_timestamp': 1716385570.689445}).\n",
      "\u001B[34m\u001B[1mwandb\u001B[0m: \u001B[33mWARNING\u001B[0m (User provided step: 93 is less than current step: 248. Dropping entry: {'entropy': {'_type': 'image-file', 'sha256': 'e54929429bd7ce07b1c4c57d51411a46a0d4af51d6c3e8c938ed485570c7e2f0', 'size': 47656, 'path': 'media/images/entropy_248_e54929429bd7ce07b1c4.png', 'format': 'png', 'width': 688, 'height': 550, 'caption': 'Entropy'}, '_timestamp': 1716385570.7568343}).\n",
      "\u001B[34m\u001B[1mwandb\u001B[0m: \u001B[33mWARNING\u001B[0m (User provided step: 93 is less than current step: 248. Dropping entry: {'ground_truth': {'_type': 'image-file', 'sha256': '85e0251e5dbb4f7ed46382dffe961d6138ea6c02ae35ff9f5141bdf42d76bf94', 'size': 440534, 'path': 'media/images/ground_truth_248_85e0251e5dbb4f7ed463.png', 'format': 'png', 'width': 688, 'height': 550, 'caption': 'Ground truth', 'masks': {'ground_truth': {'_type': 'mask', 'sha256': '5a572d8ea5561a9b2386dd6431ff098415a7a6c677802c151afbeeb661f3b7fd', 'size': 1742, 'path': 'media/images/mask/ground_truth_248_5a572d8ea5561a9b2386.mask.png'}}}, '_timestamp': 1716385570.9364223}).\n",
      "\u001B[34m\u001B[1mwandb\u001B[0m: \u001B[33mWARNING\u001B[0m (User provided step: 93 is less than current step: 248. Dropping entry: {'error': {'_type': 'image-file', 'sha256': '85e0251e5dbb4f7ed46382dffe961d6138ea6c02ae35ff9f5141bdf42d76bf94', 'size': 440534, 'path': 'media/images/error_248_85e0251e5dbb4f7ed463.png', 'format': 'png', 'width': 688, 'height': 550, 'caption': 'Error', 'masks': {'error': {'_type': 'mask', 'sha256': '0ef4500636c2de7a064fa1b2059af56cc873d1c17442609fd36f7dc2cceaeaf5', 'size': 912, 'path': 'media/images/mask/error_248_0ef4500636c2de7a064f.mask.png'}}}, '_timestamp': 1716385571.1174448}).\n"
     ]
    },
    {
     "data": {
      "text/plain": [
       "Validation: |          | 0/? [00:00<?, ?it/s]"
      ],
      "application/vnd.jupyter.widget-view+json": {
       "version_major": 2,
       "version_minor": 0,
       "model_id": "ece8dbf85a9543c8bec1f3c4a9b57aca"
      }
     },
     "metadata": {},
     "output_type": "display_data"
    },
    {
     "name": "stderr",
     "output_type": "stream",
     "text": [
      "\u001B[34m\u001B[1mwandb\u001B[0m: \u001B[33mWARNING\u001B[0m (User provided step: 94 is less than current step: 251. Dropping entry: {'prediction': {'_type': 'image-file', 'sha256': '85e0251e5dbb4f7ed46382dffe961d6138ea6c02ae35ff9f5141bdf42d76bf94', 'size': 440534, 'path': 'media/images/prediction_251_85e0251e5dbb4f7ed463.png', 'format': 'png', 'width': 688, 'height': 550, 'caption': 'Prediction', 'masks': {'prediction': {'_type': 'mask', 'sha256': '8b7854170a1bd0bdee5ed95256bea0224991ef6de711e0b041b3d4568c859c8d', 'size': 1771, 'path': 'media/images/mask/prediction_251_8b7854170a1bd0bdee5e.mask.png'}}}, '_timestamp': 1716385590.0752635}).\n",
      "\u001B[34m\u001B[1mwandb\u001B[0m: \u001B[33mWARNING\u001B[0m (User provided step: 94 is less than current step: 251. Dropping entry: {'entropy': {'_type': 'image-file', 'sha256': 'eea17b13b76fc4cb82038ce6b7189d3ef9b944f47e2a91f3e2a418b2470485d2', 'size': 45766, 'path': 'media/images/entropy_251_eea17b13b76fc4cb8203.png', 'format': 'png', 'width': 688, 'height': 550, 'caption': 'Entropy'}, '_timestamp': 1716385590.1463034}).\n",
      "\u001B[34m\u001B[1mwandb\u001B[0m: \u001B[33mWARNING\u001B[0m (User provided step: 94 is less than current step: 251. Dropping entry: {'ground_truth': {'_type': 'image-file', 'sha256': '85e0251e5dbb4f7ed46382dffe961d6138ea6c02ae35ff9f5141bdf42d76bf94', 'size': 440534, 'path': 'media/images/ground_truth_251_85e0251e5dbb4f7ed463.png', 'format': 'png', 'width': 688, 'height': 550, 'caption': 'Ground truth', 'masks': {'ground_truth': {'_type': 'mask', 'sha256': '5a572d8ea5561a9b2386dd6431ff098415a7a6c677802c151afbeeb661f3b7fd', 'size': 1742, 'path': 'media/images/mask/ground_truth_251_5a572d8ea5561a9b2386.mask.png'}}}, '_timestamp': 1716385590.3281705}).\n",
      "\u001B[34m\u001B[1mwandb\u001B[0m: \u001B[33mWARNING\u001B[0m (User provided step: 94 is less than current step: 251. Dropping entry: {'error': {'_type': 'image-file', 'sha256': '85e0251e5dbb4f7ed46382dffe961d6138ea6c02ae35ff9f5141bdf42d76bf94', 'size': 440534, 'path': 'media/images/error_251_85e0251e5dbb4f7ed463.png', 'format': 'png', 'width': 688, 'height': 550, 'caption': 'Error', 'masks': {'error': {'_type': 'mask', 'sha256': 'd0542ff3372cc92b2a8d70fca2957e049082b33557a13d1387ae3c9e92a6b329', 'size': 893, 'path': 'media/images/mask/error_251_d0542ff3372cc92b2a8d.mask.png'}}}, '_timestamp': 1716385590.511795}).\n"
     ]
    },
    {
     "data": {
      "text/plain": [
       "Validation: |          | 0/? [00:00<?, ?it/s]"
      ],
      "application/vnd.jupyter.widget-view+json": {
       "version_major": 2,
       "version_minor": 0,
       "model_id": "2095216143674c42abd8e764b1efdb3d"
      }
     },
     "metadata": {},
     "output_type": "display_data"
    },
    {
     "name": "stderr",
     "output_type": "stream",
     "text": [
      "\u001B[34m\u001B[1mwandb\u001B[0m: \u001B[33mWARNING\u001B[0m (User provided step: 95 is less than current step: 255. Dropping entry: {'prediction': {'_type': 'image-file', 'sha256': '85e0251e5dbb4f7ed46382dffe961d6138ea6c02ae35ff9f5141bdf42d76bf94', 'size': 440534, 'path': 'media/images/prediction_255_85e0251e5dbb4f7ed463.png', 'format': 'png', 'width': 688, 'height': 550, 'caption': 'Prediction', 'masks': {'prediction': {'_type': 'mask', 'sha256': 'f47e1e68d3cb86b0c3e986838b5db3aa0c0127f6cc2aaa8c11eddbcfdb54be23', 'size': 1782, 'path': 'media/images/mask/prediction_255_f47e1e68d3cb86b0c3e9.mask.png'}}}, '_timestamp': 1716385609.4875674}).\n",
      "\u001B[34m\u001B[1mwandb\u001B[0m: \u001B[33mWARNING\u001B[0m (User provided step: 95 is less than current step: 255. Dropping entry: {'entropy': {'_type': 'image-file', 'sha256': 'edf10cc9c6ab3e2038d16f6fc48805a82884213b0e6d1972b3b9f033e5b65198', 'size': 43979, 'path': 'media/images/entropy_255_edf10cc9c6ab3e2038d1.png', 'format': 'png', 'width': 688, 'height': 550, 'caption': 'Entropy'}, '_timestamp': 1716385609.5549474}).\n",
      "\u001B[34m\u001B[1mwandb\u001B[0m: \u001B[33mWARNING\u001B[0m (User provided step: 95 is less than current step: 255. Dropping entry: {'ground_truth': {'_type': 'image-file', 'sha256': '85e0251e5dbb4f7ed46382dffe961d6138ea6c02ae35ff9f5141bdf42d76bf94', 'size': 440534, 'path': 'media/images/ground_truth_255_85e0251e5dbb4f7ed463.png', 'format': 'png', 'width': 688, 'height': 550, 'caption': 'Ground truth', 'masks': {'ground_truth': {'_type': 'mask', 'sha256': '5a572d8ea5561a9b2386dd6431ff098415a7a6c677802c151afbeeb661f3b7fd', 'size': 1742, 'path': 'media/images/mask/ground_truth_255_5a572d8ea5561a9b2386.mask.png'}}}, '_timestamp': 1716385609.7358656}).\n",
      "\u001B[34m\u001B[1mwandb\u001B[0m: \u001B[33mWARNING\u001B[0m (User provided step: 95 is less than current step: 255. Dropping entry: {'error': {'_type': 'image-file', 'sha256': '85e0251e5dbb4f7ed46382dffe961d6138ea6c02ae35ff9f5141bdf42d76bf94', 'size': 440534, 'path': 'media/images/error_255_85e0251e5dbb4f7ed463.png', 'format': 'png', 'width': 688, 'height': 550, 'caption': 'Error', 'masks': {'error': {'_type': 'mask', 'sha256': '499c269ada26cb7942972921415dbe593f7094557e8eccde40fcb55cfa7ea381', 'size': 908, 'path': 'media/images/mask/error_255_499c269ada26cb794297.mask.png'}}}, '_timestamp': 1716385609.9215968}).\n"
     ]
    },
    {
     "data": {
      "text/plain": [
       "Validation: |          | 0/? [00:00<?, ?it/s]"
      ],
      "application/vnd.jupyter.widget-view+json": {
       "version_major": 2,
       "version_minor": 0,
       "model_id": "a761da0198934d41a4b1dbb87c1bdc5c"
      }
     },
     "metadata": {},
     "output_type": "display_data"
    },
    {
     "name": "stderr",
     "output_type": "stream",
     "text": [
      "\u001B[34m\u001B[1mwandb\u001B[0m: \u001B[33mWARNING\u001B[0m (User provided step: 96 is less than current step: 258. Dropping entry: {'prediction': {'_type': 'image-file', 'sha256': '85e0251e5dbb4f7ed46382dffe961d6138ea6c02ae35ff9f5141bdf42d76bf94', 'size': 440534, 'path': 'media/images/prediction_258_85e0251e5dbb4f7ed463.png', 'format': 'png', 'width': 688, 'height': 550, 'caption': 'Prediction', 'masks': {'prediction': {'_type': 'mask', 'sha256': '88dfe02b022e52327daca34e0bd3c1573cd64a5005a3fdd4ad12568584e6659b', 'size': 1762, 'path': 'media/images/mask/prediction_258_88dfe02b022e52327dac.mask.png'}}}, '_timestamp': 1716385628.6846263}).\n",
      "\u001B[34m\u001B[1mwandb\u001B[0m: \u001B[33mWARNING\u001B[0m (User provided step: 96 is less than current step: 258. Dropping entry: {'entropy': {'_type': 'image-file', 'sha256': '584ccb058b088caaaf4f5ab96045e32a7e371b7e4d2cca40ab1ec59504e394de', 'size': 40530, 'path': 'media/images/entropy_258_584ccb058b088caaaf4f.png', 'format': 'png', 'width': 688, 'height': 550, 'caption': 'Entropy'}, '_timestamp': 1716385628.7560446}).\n",
      "\u001B[34m\u001B[1mwandb\u001B[0m: \u001B[33mWARNING\u001B[0m (User provided step: 96 is less than current step: 258. Dropping entry: {'ground_truth': {'_type': 'image-file', 'sha256': '85e0251e5dbb4f7ed46382dffe961d6138ea6c02ae35ff9f5141bdf42d76bf94', 'size': 440534, 'path': 'media/images/ground_truth_258_85e0251e5dbb4f7ed463.png', 'format': 'png', 'width': 688, 'height': 550, 'caption': 'Ground truth', 'masks': {'ground_truth': {'_type': 'mask', 'sha256': '5a572d8ea5561a9b2386dd6431ff098415a7a6c677802c151afbeeb661f3b7fd', 'size': 1742, 'path': 'media/images/mask/ground_truth_258_5a572d8ea5561a9b2386.mask.png'}}}, '_timestamp': 1716385628.944733}).\n",
      "\u001B[34m\u001B[1mwandb\u001B[0m: \u001B[33mWARNING\u001B[0m (User provided step: 96 is less than current step: 258. Dropping entry: {'error': {'_type': 'image-file', 'sha256': '85e0251e5dbb4f7ed46382dffe961d6138ea6c02ae35ff9f5141bdf42d76bf94', 'size': 440534, 'path': 'media/images/error_258_85e0251e5dbb4f7ed463.png', 'format': 'png', 'width': 688, 'height': 550, 'caption': 'Error', 'masks': {'error': {'_type': 'mask', 'sha256': '02af3415063ddb568512bbec4131c8c462db05d031117dfee4669b8fa289058b', 'size': 887, 'path': 'media/images/mask/error_258_02af3415063ddb568512.mask.png'}}}, '_timestamp': 1716385629.1283922}).\n"
     ]
    },
    {
     "data": {
      "text/plain": [
       "Validation: |          | 0/? [00:00<?, ?it/s]"
      ],
      "application/vnd.jupyter.widget-view+json": {
       "version_major": 2,
       "version_minor": 0,
       "model_id": "988a41ed24744120b8846d5bcf418315"
      }
     },
     "metadata": {},
     "output_type": "display_data"
    },
    {
     "name": "stderr",
     "output_type": "stream",
     "text": [
      "\u001B[34m\u001B[1mwandb\u001B[0m: \u001B[33mWARNING\u001B[0m (User provided step: 97 is less than current step: 261. Dropping entry: {'prediction': {'_type': 'image-file', 'sha256': '85e0251e5dbb4f7ed46382dffe961d6138ea6c02ae35ff9f5141bdf42d76bf94', 'size': 440534, 'path': 'media/images/prediction_261_85e0251e5dbb4f7ed463.png', 'format': 'png', 'width': 688, 'height': 550, 'caption': 'Prediction', 'masks': {'prediction': {'_type': 'mask', 'sha256': 'c7ec32fd74413793128523d1558a529992f75a5d525fd19b92fe1de4bcf37b92', 'size': 1756, 'path': 'media/images/mask/prediction_261_c7ec32fd744137931285.mask.png'}}}, '_timestamp': 1716385648.4047794}).\n",
      "\u001B[34m\u001B[1mwandb\u001B[0m: \u001B[33mWARNING\u001B[0m (User provided step: 97 is less than current step: 261. Dropping entry: {'entropy': {'_type': 'image-file', 'sha256': 'fc0fc94e60bb82cf4751ac0e2f1a51b2cd46661ade0992f95fad70dad2f458fd', 'size': 42099, 'path': 'media/images/entropy_261_fc0fc94e60bb82cf4751.png', 'format': 'png', 'width': 688, 'height': 550, 'caption': 'Entropy'}, '_timestamp': 1716385648.4728444}).\n",
      "\u001B[34m\u001B[1mwandb\u001B[0m: \u001B[33mWARNING\u001B[0m (User provided step: 97 is less than current step: 261. Dropping entry: {'ground_truth': {'_type': 'image-file', 'sha256': '85e0251e5dbb4f7ed46382dffe961d6138ea6c02ae35ff9f5141bdf42d76bf94', 'size': 440534, 'path': 'media/images/ground_truth_261_85e0251e5dbb4f7ed463.png', 'format': 'png', 'width': 688, 'height': 550, 'caption': 'Ground truth', 'masks': {'ground_truth': {'_type': 'mask', 'sha256': '5a572d8ea5561a9b2386dd6431ff098415a7a6c677802c151afbeeb661f3b7fd', 'size': 1742, 'path': 'media/images/mask/ground_truth_261_5a572d8ea5561a9b2386.mask.png'}}}, '_timestamp': 1716385648.6566937}).\n",
      "\u001B[34m\u001B[1mwandb\u001B[0m: \u001B[33mWARNING\u001B[0m (User provided step: 97 is less than current step: 261. Dropping entry: {'error': {'_type': 'image-file', 'sha256': '85e0251e5dbb4f7ed46382dffe961d6138ea6c02ae35ff9f5141bdf42d76bf94', 'size': 440534, 'path': 'media/images/error_261_85e0251e5dbb4f7ed463.png', 'format': 'png', 'width': 688, 'height': 550, 'caption': 'Error', 'masks': {'error': {'_type': 'mask', 'sha256': 'e81740cbf153b90d60c70e3e37ff972653c94079db83baf058478c52895ef597', 'size': 888, 'path': 'media/images/mask/error_261_e81740cbf153b90d60c7.mask.png'}}}, '_timestamp': 1716385648.840613}).\n"
     ]
    },
    {
     "data": {
      "text/plain": [
       "Validation: |          | 0/? [00:00<?, ?it/s]"
      ],
      "application/vnd.jupyter.widget-view+json": {
       "version_major": 2,
       "version_minor": 0,
       "model_id": "f57587ac9238426aafffb216bf7e4ac6"
      }
     },
     "metadata": {},
     "output_type": "display_data"
    },
    {
     "name": "stderr",
     "output_type": "stream",
     "text": [
      "\u001B[34m\u001B[1mwandb\u001B[0m: \u001B[33mWARNING\u001B[0m (User provided step: 98 is less than current step: 264. Dropping entry: {'prediction': {'_type': 'image-file', 'sha256': '85e0251e5dbb4f7ed46382dffe961d6138ea6c02ae35ff9f5141bdf42d76bf94', 'size': 440534, 'path': 'media/images/prediction_264_85e0251e5dbb4f7ed463.png', 'format': 'png', 'width': 688, 'height': 550, 'caption': 'Prediction', 'masks': {'prediction': {'_type': 'mask', 'sha256': '2470d1888ff5098ea002eb18880a4d32c9df4a08e9a1759b1f1288b7ae37cead', 'size': 1769, 'path': 'media/images/mask/prediction_264_2470d1888ff5098ea002.mask.png'}}}, '_timestamp': 1716385667.7987213}).\n",
      "\u001B[34m\u001B[1mwandb\u001B[0m: \u001B[33mWARNING\u001B[0m (User provided step: 98 is less than current step: 264. Dropping entry: {'entropy': {'_type': 'image-file', 'sha256': '61877a242ec33a965836ba7d5167919ca0d723799180c178ec8d89170f8ce038', 'size': 42437, 'path': 'media/images/entropy_264_61877a242ec33a965836.png', 'format': 'png', 'width': 688, 'height': 550, 'caption': 'Entropy'}, '_timestamp': 1716385667.8680305}).\n",
      "\u001B[34m\u001B[1mwandb\u001B[0m: \u001B[33mWARNING\u001B[0m (User provided step: 98 is less than current step: 264. Dropping entry: {'ground_truth': {'_type': 'image-file', 'sha256': '85e0251e5dbb4f7ed46382dffe961d6138ea6c02ae35ff9f5141bdf42d76bf94', 'size': 440534, 'path': 'media/images/ground_truth_264_85e0251e5dbb4f7ed463.png', 'format': 'png', 'width': 688, 'height': 550, 'caption': 'Ground truth', 'masks': {'ground_truth': {'_type': 'mask', 'sha256': '5a572d8ea5561a9b2386dd6431ff098415a7a6c677802c151afbeeb661f3b7fd', 'size': 1742, 'path': 'media/images/mask/ground_truth_264_5a572d8ea5561a9b2386.mask.png'}}}, '_timestamp': 1716385668.3855567}).\n",
      "\u001B[34m\u001B[1mwandb\u001B[0m: \u001B[33mWARNING\u001B[0m (User provided step: 98 is less than current step: 264. Dropping entry: {'error': {'_type': 'image-file', 'sha256': '85e0251e5dbb4f7ed46382dffe961d6138ea6c02ae35ff9f5141bdf42d76bf94', 'size': 440534, 'path': 'media/images/error_264_85e0251e5dbb4f7ed463.png', 'format': 'png', 'width': 688, 'height': 550, 'caption': 'Error', 'masks': {'error': {'_type': 'mask', 'sha256': '5ea1ccb7acc3a8cffe839fc9d08a878bf1a9bb40c80cd6a38332f8f8b94a7c63', 'size': 893, 'path': 'media/images/mask/error_264_5ea1ccb7acc3a8cffe83.mask.png'}}}, '_timestamp': 1716385668.568696}).\n"
     ]
    },
    {
     "data": {
      "text/plain": [
       "Validation: |          | 0/? [00:00<?, ?it/s]"
      ],
      "application/vnd.jupyter.widget-view+json": {
       "version_major": 2,
       "version_minor": 0,
       "model_id": "bdd0460226704218987b3f69729bf50b"
      }
     },
     "metadata": {},
     "output_type": "display_data"
    },
    {
     "name": "stderr",
     "output_type": "stream",
     "text": [
      "\u001B[34m\u001B[1mwandb\u001B[0m: \u001B[33mWARNING\u001B[0m (User provided step: 99 is less than current step: 267. Dropping entry: {'prediction': {'_type': 'image-file', 'sha256': '85e0251e5dbb4f7ed46382dffe961d6138ea6c02ae35ff9f5141bdf42d76bf94', 'size': 440534, 'path': 'media/images/prediction_267_85e0251e5dbb4f7ed463.png', 'format': 'png', 'width': 688, 'height': 550, 'caption': 'Prediction', 'masks': {'prediction': {'_type': 'mask', 'sha256': '72707cb3de4e6ff87eba96e7b633ab78058e1880b3df254b4cc08dc8794c5330', 'size': 1738, 'path': 'media/images/mask/prediction_267_72707cb3de4e6ff87eba.mask.png'}}}, '_timestamp': 1716385687.917018}).\n",
      "\u001B[34m\u001B[1mwandb\u001B[0m: \u001B[33mWARNING\u001B[0m (User provided step: 99 is less than current step: 267. Dropping entry: {'entropy': {'_type': 'image-file', 'sha256': 'dc36548bed9120e85751836f4f1d22630cc7c08024a0ae3cc0c3630e4fed34ba', 'size': 41356, 'path': 'media/images/entropy_267_dc36548bed9120e85751.png', 'format': 'png', 'width': 688, 'height': 550, 'caption': 'Entropy'}, '_timestamp': 1716385687.9845412}).\n",
      "\u001B[34m\u001B[1mwandb\u001B[0m: \u001B[33mWARNING\u001B[0m (User provided step: 99 is less than current step: 267. Dropping entry: {'ground_truth': {'_type': 'image-file', 'sha256': '85e0251e5dbb4f7ed46382dffe961d6138ea6c02ae35ff9f5141bdf42d76bf94', 'size': 440534, 'path': 'media/images/ground_truth_267_85e0251e5dbb4f7ed463.png', 'format': 'png', 'width': 688, 'height': 550, 'caption': 'Ground truth', 'masks': {'ground_truth': {'_type': 'mask', 'sha256': '5a572d8ea5561a9b2386dd6431ff098415a7a6c677802c151afbeeb661f3b7fd', 'size': 1742, 'path': 'media/images/mask/ground_truth_267_5a572d8ea5561a9b2386.mask.png'}}}, '_timestamp': 1716385688.1652946}).\n",
      "\u001B[34m\u001B[1mwandb\u001B[0m: \u001B[33mWARNING\u001B[0m (User provided step: 99 is less than current step: 267. Dropping entry: {'error': {'_type': 'image-file', 'sha256': '85e0251e5dbb4f7ed46382dffe961d6138ea6c02ae35ff9f5141bdf42d76bf94', 'size': 440534, 'path': 'media/images/error_267_85e0251e5dbb4f7ed463.png', 'format': 'png', 'width': 688, 'height': 550, 'caption': 'Error', 'masks': {'error': {'_type': 'mask', 'sha256': '3884563dd9c91ba27f33c5b34ace2b8d8dc2be2f2cbde7eb070b78306d39fea3', 'size': 873, 'path': 'media/images/mask/error_267_3884563dd9c91ba27f33.mask.png'}}}, '_timestamp': 1716385688.3481126}).\n",
      "`Trainer.fit` stopped: `max_epochs=100` reached.\n"
     ]
    }
   ],
   "execution_count": 19
  },
  {
   "metadata": {
    "ExecuteTime": {
     "end_time": "2024-05-22T12:24:45.758021Z",
     "start_time": "2024-05-22T12:24:45.754364Z"
    }
   },
   "cell_type": "code",
   "source": "",
   "id": "5927222c88931f6c",
   "outputs": [],
   "execution_count": 3
  }
 ],
 "metadata": {
  "kernelspec": {
   "display_name": "Python 3",
   "language": "python",
   "name": "python3"
  },
  "language_info": {
   "codemirror_mode": {
    "name": "ipython",
    "version": 2
   },
   "file_extension": ".py",
   "mimetype": "text/x-python",
   "name": "python",
   "nbconvert_exporter": "python",
   "pygments_lexer": "ipython2",
   "version": "2.7.6"
  }
 },
 "nbformat": 4,
 "nbformat_minor": 5
}
