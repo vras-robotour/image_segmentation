{
 "cells": [
  {
   "cell_type": "code",
   "id": "initial_id",
   "metadata": {
    "collapsed": true,
    "ExecuteTime": {
     "end_time": "2024-05-22T12:16:04.707406Z",
     "start_time": "2024-05-22T12:15:59.754419Z"
    }
   },
   "source": [
    "import os\n",
    "import torch\n",
    "import pytorch_lightning as L\n",
    "import matplotlib.pyplot as plt\n",
    "from omegaconf import DictConfig\n",
    "\n",
    "%matplotlib inline\n",
    "plt.rcParams['image.interpolation'] = 'nearest'\n",
    "\n",
    "%load_ext autoreload\n",
    "%autoreload 2\n",
    "\n",
    "print(torch.cuda.is_available())\n",
    "print(torch.cuda.get_device_name(0))\n",
    "print(torch.cuda.get_device_properties(0).total_memory)\n",
    "\n",
    "# Get number of cores\n",
    "print(os.cpu_count())\n",
    "\n",
    "# Get number of threads\n",
    "print(torch.get_num_threads())"
   ],
   "outputs": [
    {
     "name": "stdout",
     "output_type": "stream",
     "text": [
      "True\n",
      "Tesla V100-SXM2-32GB\n",
      "34072559616\n",
      "72\n",
      "36\n"
     ]
    }
   ],
   "execution_count": 1
  },
  {
   "cell_type": "code",
   "source": [
    "import sklearn  # scikit-learn hack to fix the error on jetson\n",
    "\n",
    "import torch\n",
    "import hydra\n",
    "import numpy as np\n",
    "from PIL import Image\n",
    "import albumentations as A\n",
    "import pytorch_lightning as L\n",
    "import matplotlib.pyplot as plt\n",
    "from omegaconf import DictConfig, OmegaConf\n",
    "from albumentations.pytorch import ToTensorV2\n",
    "from pytorch_lightning.loggers import WandbLogger\n",
    "\n",
    "from src import RoadDataModule, RoadModel, LogPredictionsCallback, val_checkpoint, regular_checkpoint, rgb_to_label\n",
    "\n",
    "\n",
    "def main(cfg: DictConfig) -> None:\n",
    "    device = torch.device(\"cuda\" if torch.cuda.is_available() else \"cpu\")\n",
    "    model = RoadModel(cfg, device)\n",
    "    datamodule = RoadDataModule(cfg)\n",
    "\n",
    "    wandb_logger = WandbLogger(project=\"road-segmentation\", name=cfg.run_name)\n",
    "\n",
    "    trainer = L.Trainer(max_epochs=cfg.train.max_epochs,\n",
    "                        accelerator=\"gpu\",\n",
    "                        devices=1,\n",
    "                        logger=wandb_logger,\n",
    "                        callbacks=[\n",
    "                            LogPredictionsCallback(),\n",
    "                            val_checkpoint,\n",
    "                            regular_checkpoint\n",
    "                        ])\n",
    "\n",
    "    if cfg.action == \"train\":\n",
    "        trainer.fit(model, datamodule=datamodule, ckpt_path=cfg.ckpt_path)\n",
    "    elif cfg.action == \"test\":\n",
    "        trainer.test(model, datamodule=datamodule, ckpt_path=cfg.ckpt_path)\n",
    "    elif cfg.action == \"predict\":\n",
    "        # Load the trained model\n",
    "        model = RoadModel.load_from_checkpoint(cfg.ckpt_path, cfg=cfg, device=device).to(device)\n",
    "        model.eval()\n",
    "\n",
    "        # Load an image and its label\n",
    "        # image_path = 'data/RUGD/Images/creek_00001.png'\n",
    "        # label_path = 'data/RUGD/Annotations/creek_00001.png'        \n",
    "        \n",
    "        image_path = 'data/RoboTour/Images/tradr_20_5_240.png'\n",
    "        label_path = 'data/RoboTour/Annotations/tradr_20_5_240.png'\n",
    "\n",
    "        image = np.array(Image.open(image_path).convert('RGB')) / 255.0\n",
    "        label = np.array(Image.open(label_path).convert('RGB'))\n",
    "\n",
    "        # Process the label image\n",
    "        label = rgb_to_label(label, cfg.ds.color_map)\n",
    "        train_map = OmegaConf.to_container(cfg.ds.train_map)\n",
    "        label = np.vectorize(train_map.get)(label)\n",
    "\n",
    "        # Apply the same transformations as during training\n",
    "        transform = A.Compose([\n",
    "            A.Normalize(mean=cfg.ds.mean, std=cfg.ds.std, max_pixel_value=1.0),\n",
    "            A.Resize(550, 688),\n",
    "            ToTensorV2()\n",
    "        ])\n",
    "        sample = transform(image=image, mask=label)\n",
    "        image = sample['image'].float().unsqueeze(0).to(device)\n",
    "        label = sample['mask'].long().unsqueeze(0).to(device)\n",
    "\n",
    "        # Predict the label image\n",
    "        with torch.no_grad():\n",
    "            logits = model(image)\n",
    "        prediction = logits.argmax(1).squeeze(0).cpu().numpy()\n",
    "\n",
    "        # Plot the image, label, and prediction\n",
    "        fig = plt.figure(figsize=(12, 4))\n",
    "\n",
    "        # Plot the prediction next to the label\n",
    "        plt.subplot(1, 3, 1)\n",
    "        plt.imshow(image[0].permute(1, 2, 0).cpu().numpy())\n",
    "        plt.axis('off')  # Remove axes\n",
    "\n",
    "        plt.subplot(1, 3, 2)\n",
    "        plt.imshow(label[0].cpu().numpy())\n",
    "        plt.axis('off')  # Remove axes\n",
    "\n",
    "        plt.subplot(1, 3, 3)\n",
    "        plt.imshow(prediction)\n",
    "        plt.axis('off')  # Remove axes\n",
    "\n",
    "        plt.subplots_adjust(wspace=0, hspace=0)\n",
    "        plt.tight_layout()\n",
    "\n",
    "        # Save the plot\n",
    "        plt.savefig('prediction.png')\n",
    "    else:\n",
    "        raise ValueError(f\"Unknown action: {cfg.action}\")"
   ],
   "metadata": {
    "collapsed": false,
    "ExecuteTime": {
     "end_time": "2024-05-22T12:16:08.191124Z",
     "start_time": "2024-05-22T12:16:04.710031Z"
    }
   },
   "id": "59a15fe8a2f1c603",
   "outputs": [],
   "execution_count": 2
  },
  {
   "cell_type": "code",
   "source": [
    "from hydra import compose, initialize\n",
    "\n",
    "with initialize(version_base=None, config_path=\"conf\"):\n",
    "    # Make sure that the cfg.ds is 'robotour' \n",
    "    config = compose(config_name=\"config\", overrides=[\"action=predict\", \"ds=robotour\"])\n",
    "    print(config)\n",
    "    main(config)"
   ],
   "metadata": {
    "collapsed": false,
    "ExecuteTime": {
     "end_time": "2024-05-22T12:16:15.657043Z",
     "start_time": "2024-05-22T12:16:08.192898Z"
    }
   },
   "id": "a1e7f9f60038cca3",
   "outputs": [
    {
     "name": "stdout",
     "output_type": "stream",
     "text": [
      "{'action': 'predict', 'ckpt_path': 'checkpoints/e51-iou0.60.ckpt', 'run_name': 'baseline', 'optimizer': {'_target_': 'torch.optim.Adam', 'lr': 0.0001, 'weight_decay': 0.0001}, 'train': {'batch_size': 4, 'max_epochs': 100, 'num_workers': 4}, 'ds': {'name': 'rugd', 'path': 'data/RoboTour', 'mean': [0.404, 0.404, 0.4016], 'std': [0.2646, 0.2668, 0.2685], 'color_map': {'0,0,0': 0, '0,255,0': 1, '255,0,0': 2, '0,0,255': 3}}, 'model': {'_target_': 'torchvision.models.segmentation.deeplabv3_resnet50', 'num_classes': 4}}\n"
     ]
    },
    {
     "name": "stderr",
     "output_type": "stream",
     "text": [
      "GPU available: True (cuda), used: True\n",
      "TPU available: False, using: 0 TPU cores\n",
      "IPU available: False, using: 0 IPUs\n",
      "HPU available: False, using: 0 HPUs\n"
     ]
    },
    {
     "ename": "ConfigAttributeError",
     "evalue": "Key 'train_map' is not in struct\n    full_key: ds.train_map\n    object_type=dict",
     "output_type": "error",
     "traceback": [
      "\u001B[0;31m---------------------------------------------------------------------------\u001B[0m",
      "\u001B[0;31mConfigAttributeError\u001B[0m                      Traceback (most recent call last)",
      "Cell \u001B[0;32mIn [3], line 7\u001B[0m\n\u001B[1;32m      5\u001B[0m config \u001B[38;5;241m=\u001B[39m compose(config_name\u001B[38;5;241m=\u001B[39m\u001B[38;5;124m\"\u001B[39m\u001B[38;5;124mconfig\u001B[39m\u001B[38;5;124m\"\u001B[39m, overrides\u001B[38;5;241m=\u001B[39m[\u001B[38;5;124m\"\u001B[39m\u001B[38;5;124maction=predict\u001B[39m\u001B[38;5;124m\"\u001B[39m, \u001B[38;5;124m\"\u001B[39m\u001B[38;5;124mds=robotour\u001B[39m\u001B[38;5;124m\"\u001B[39m])\n\u001B[1;32m      6\u001B[0m \u001B[38;5;28mprint\u001B[39m(config)\n\u001B[0;32m----> 7\u001B[0m \u001B[43mmain\u001B[49m\u001B[43m(\u001B[49m\u001B[43mconfig\u001B[49m\u001B[43m)\u001B[49m\n",
      "Cell \u001B[0;32mIn [2], line 55\u001B[0m, in \u001B[0;36mmain\u001B[0;34m(cfg)\u001B[0m\n\u001B[1;32m     53\u001B[0m \u001B[38;5;66;03m# Process the label image\u001B[39;00m\n\u001B[1;32m     54\u001B[0m label \u001B[38;5;241m=\u001B[39m rgb_to_label(label, cfg\u001B[38;5;241m.\u001B[39mds\u001B[38;5;241m.\u001B[39mcolor_map)\n\u001B[0;32m---> 55\u001B[0m train_map \u001B[38;5;241m=\u001B[39m OmegaConf\u001B[38;5;241m.\u001B[39mto_container(\u001B[43mcfg\u001B[49m\u001B[38;5;241;43m.\u001B[39;49m\u001B[43mds\u001B[49m\u001B[38;5;241;43m.\u001B[39;49m\u001B[43mtrain_map\u001B[49m)\n\u001B[1;32m     56\u001B[0m label \u001B[38;5;241m=\u001B[39m np\u001B[38;5;241m.\u001B[39mvectorize(train_map\u001B[38;5;241m.\u001B[39mget)(label)\n\u001B[1;32m     58\u001B[0m \u001B[38;5;66;03m# Apply the same transformations as during training\u001B[39;00m\n",
      "File \u001B[0;32m/mnt/appl/software/Hydra/1.3.2-GCCcore-11.3.0/lib/python3.10/site-packages/omegaconf/dictconfig.py:359\u001B[0m, in \u001B[0;36mDictConfig.__getattr__\u001B[0;34m(self, key)\u001B[0m\n\u001B[1;32m    355\u001B[0m     \u001B[38;5;28mself\u001B[39m\u001B[38;5;241m.\u001B[39m_format_and_raise(\n\u001B[1;32m    356\u001B[0m         key\u001B[38;5;241m=\u001B[39mkey, value\u001B[38;5;241m=\u001B[39m\u001B[38;5;28;01mNone\u001B[39;00m, cause\u001B[38;5;241m=\u001B[39me, type_override\u001B[38;5;241m=\u001B[39mConfigAttributeError\n\u001B[1;32m    357\u001B[0m     )\n\u001B[1;32m    358\u001B[0m \u001B[38;5;28;01mexcept\u001B[39;00m \u001B[38;5;167;01mException\u001B[39;00m \u001B[38;5;28;01mas\u001B[39;00m e:\n\u001B[0;32m--> 359\u001B[0m     \u001B[38;5;28;43mself\u001B[39;49m\u001B[38;5;241;43m.\u001B[39;49m\u001B[43m_format_and_raise\u001B[49m\u001B[43m(\u001B[49m\u001B[43mkey\u001B[49m\u001B[38;5;241;43m=\u001B[39;49m\u001B[43mkey\u001B[49m\u001B[43m,\u001B[49m\u001B[43m \u001B[49m\u001B[43mvalue\u001B[49m\u001B[38;5;241;43m=\u001B[39;49m\u001B[38;5;28;43;01mNone\u001B[39;49;00m\u001B[43m,\u001B[49m\u001B[43m \u001B[49m\u001B[43mcause\u001B[49m\u001B[38;5;241;43m=\u001B[39;49m\u001B[43me\u001B[49m\u001B[43m)\u001B[49m\n",
      "File \u001B[0;32m/mnt/appl/software/Hydra/1.3.2-GCCcore-11.3.0/lib/python3.10/site-packages/omegaconf/base.py:231\u001B[0m, in \u001B[0;36mNode._format_and_raise\u001B[0;34m(self, key, value, cause, msg, type_override)\u001B[0m\n\u001B[1;32m    223\u001B[0m \u001B[38;5;28;01mdef\u001B[39;00m \u001B[38;5;21m_format_and_raise\u001B[39m(\n\u001B[1;32m    224\u001B[0m     \u001B[38;5;28mself\u001B[39m,\n\u001B[1;32m    225\u001B[0m     key: Any,\n\u001B[0;32m   (...)\u001B[0m\n\u001B[1;32m    229\u001B[0m     type_override: Any \u001B[38;5;241m=\u001B[39m \u001B[38;5;28;01mNone\u001B[39;00m,\n\u001B[1;32m    230\u001B[0m ) \u001B[38;5;241m-\u001B[39m\u001B[38;5;241m>\u001B[39m \u001B[38;5;28;01mNone\u001B[39;00m:\n\u001B[0;32m--> 231\u001B[0m     \u001B[43mformat_and_raise\u001B[49m\u001B[43m(\u001B[49m\n\u001B[1;32m    232\u001B[0m \u001B[43m        \u001B[49m\u001B[43mnode\u001B[49m\u001B[38;5;241;43m=\u001B[39;49m\u001B[38;5;28;43mself\u001B[39;49m\u001B[43m,\u001B[49m\n\u001B[1;32m    233\u001B[0m \u001B[43m        \u001B[49m\u001B[43mkey\u001B[49m\u001B[38;5;241;43m=\u001B[39;49m\u001B[43mkey\u001B[49m\u001B[43m,\u001B[49m\n\u001B[1;32m    234\u001B[0m \u001B[43m        \u001B[49m\u001B[43mvalue\u001B[49m\u001B[38;5;241;43m=\u001B[39;49m\u001B[43mvalue\u001B[49m\u001B[43m,\u001B[49m\n\u001B[1;32m    235\u001B[0m \u001B[43m        \u001B[49m\u001B[43mmsg\u001B[49m\u001B[38;5;241;43m=\u001B[39;49m\u001B[38;5;28;43mstr\u001B[39;49m\u001B[43m(\u001B[49m\u001B[43mcause\u001B[49m\u001B[43m)\u001B[49m\u001B[43m \u001B[49m\u001B[38;5;28;43;01mif\u001B[39;49;00m\u001B[43m \u001B[49m\u001B[43mmsg\u001B[49m\u001B[43m \u001B[49m\u001B[38;5;129;43;01mis\u001B[39;49;00m\u001B[43m \u001B[49m\u001B[38;5;28;43;01mNone\u001B[39;49;00m\u001B[43m \u001B[49m\u001B[38;5;28;43;01melse\u001B[39;49;00m\u001B[43m \u001B[49m\u001B[43mmsg\u001B[49m\u001B[43m,\u001B[49m\n\u001B[1;32m    236\u001B[0m \u001B[43m        \u001B[49m\u001B[43mcause\u001B[49m\u001B[38;5;241;43m=\u001B[39;49m\u001B[43mcause\u001B[49m\u001B[43m,\u001B[49m\n\u001B[1;32m    237\u001B[0m \u001B[43m        \u001B[49m\u001B[43mtype_override\u001B[49m\u001B[38;5;241;43m=\u001B[39;49m\u001B[43mtype_override\u001B[49m\u001B[43m,\u001B[49m\n\u001B[1;32m    238\u001B[0m \u001B[43m    \u001B[49m\u001B[43m)\u001B[49m\n\u001B[1;32m    239\u001B[0m     \u001B[38;5;28;01massert\u001B[39;00m \u001B[38;5;28;01mFalse\u001B[39;00m\n",
      "File \u001B[0;32m/mnt/appl/software/Hydra/1.3.2-GCCcore-11.3.0/lib/python3.10/site-packages/omegaconf/_utils.py:819\u001B[0m, in \u001B[0;36mformat_and_raise\u001B[0;34m(node, key, value, msg, cause, type_override)\u001B[0m\n\u001B[1;32m    817\u001B[0m         ex \u001B[38;5;241m=\u001B[39m type_override(\u001B[38;5;28mstr\u001B[39m(cause))\n\u001B[1;32m    818\u001B[0m         ex\u001B[38;5;241m.\u001B[39m\u001B[38;5;18m__dict__\u001B[39m \u001B[38;5;241m=\u001B[39m copy\u001B[38;5;241m.\u001B[39mdeepcopy(cause\u001B[38;5;241m.\u001B[39m\u001B[38;5;18m__dict__\u001B[39m)\n\u001B[0;32m--> 819\u001B[0m     \u001B[43m_raise\u001B[49m\u001B[43m(\u001B[49m\u001B[43mex\u001B[49m\u001B[43m,\u001B[49m\u001B[43m \u001B[49m\u001B[43mcause\u001B[49m\u001B[43m)\u001B[49m\n\u001B[1;32m    821\u001B[0m object_type: Optional[Type[Any]]\n\u001B[1;32m    822\u001B[0m object_type_str: Optional[\u001B[38;5;28mstr\u001B[39m] \u001B[38;5;241m=\u001B[39m \u001B[38;5;28;01mNone\u001B[39;00m\n",
      "File \u001B[0;32m/mnt/appl/software/Hydra/1.3.2-GCCcore-11.3.0/lib/python3.10/site-packages/omegaconf/_utils.py:797\u001B[0m, in \u001B[0;36m_raise\u001B[0;34m(ex, cause)\u001B[0m\n\u001B[1;32m    795\u001B[0m \u001B[38;5;28;01melse\u001B[39;00m:\n\u001B[1;32m    796\u001B[0m     ex\u001B[38;5;241m.\u001B[39m__cause__ \u001B[38;5;241m=\u001B[39m \u001B[38;5;28;01mNone\u001B[39;00m\n\u001B[0;32m--> 797\u001B[0m \u001B[38;5;28;01mraise\u001B[39;00m ex\u001B[38;5;241m.\u001B[39mwith_traceback(sys\u001B[38;5;241m.\u001B[39mexc_info()[\u001B[38;5;241m2\u001B[39m])\n",
      "File \u001B[0;32m/mnt/appl/software/Hydra/1.3.2-GCCcore-11.3.0/lib/python3.10/site-packages/omegaconf/dictconfig.py:351\u001B[0m, in \u001B[0;36mDictConfig.__getattr__\u001B[0;34m(self, key)\u001B[0m\n\u001B[1;32m    348\u001B[0m     \u001B[38;5;28;01mraise\u001B[39;00m \u001B[38;5;167;01mAttributeError\u001B[39;00m()\n\u001B[1;32m    350\u001B[0m \u001B[38;5;28;01mtry\u001B[39;00m:\n\u001B[0;32m--> 351\u001B[0m     \u001B[38;5;28;01mreturn\u001B[39;00m \u001B[38;5;28;43mself\u001B[39;49m\u001B[38;5;241;43m.\u001B[39;49m\u001B[43m_get_impl\u001B[49m\u001B[43m(\u001B[49m\n\u001B[1;32m    352\u001B[0m \u001B[43m        \u001B[49m\u001B[43mkey\u001B[49m\u001B[38;5;241;43m=\u001B[39;49m\u001B[43mkey\u001B[49m\u001B[43m,\u001B[49m\u001B[43m \u001B[49m\u001B[43mdefault_value\u001B[49m\u001B[38;5;241;43m=\u001B[39;49m\u001B[43m_DEFAULT_MARKER_\u001B[49m\u001B[43m,\u001B[49m\u001B[43m \u001B[49m\u001B[43mvalidate_key\u001B[49m\u001B[38;5;241;43m=\u001B[39;49m\u001B[38;5;28;43;01mFalse\u001B[39;49;00m\n\u001B[1;32m    353\u001B[0m \u001B[43m    \u001B[49m\u001B[43m)\u001B[49m\n\u001B[1;32m    354\u001B[0m \u001B[38;5;28;01mexcept\u001B[39;00m ConfigKeyError \u001B[38;5;28;01mas\u001B[39;00m e:\n\u001B[1;32m    355\u001B[0m     \u001B[38;5;28mself\u001B[39m\u001B[38;5;241m.\u001B[39m_format_and_raise(\n\u001B[1;32m    356\u001B[0m         key\u001B[38;5;241m=\u001B[39mkey, value\u001B[38;5;241m=\u001B[39m\u001B[38;5;28;01mNone\u001B[39;00m, cause\u001B[38;5;241m=\u001B[39me, type_override\u001B[38;5;241m=\u001B[39mConfigAttributeError\n\u001B[1;32m    357\u001B[0m     )\n",
      "File \u001B[0;32m/mnt/appl/software/Hydra/1.3.2-GCCcore-11.3.0/lib/python3.10/site-packages/omegaconf/dictconfig.py:442\u001B[0m, in \u001B[0;36mDictConfig._get_impl\u001B[0;34m(self, key, default_value, validate_key)\u001B[0m\n\u001B[1;32m    438\u001B[0m \u001B[38;5;28;01mdef\u001B[39;00m \u001B[38;5;21m_get_impl\u001B[39m(\n\u001B[1;32m    439\u001B[0m     \u001B[38;5;28mself\u001B[39m, key: DictKeyType, default_value: Any, validate_key: \u001B[38;5;28mbool\u001B[39m \u001B[38;5;241m=\u001B[39m \u001B[38;5;28;01mTrue\u001B[39;00m\n\u001B[1;32m    440\u001B[0m ) \u001B[38;5;241m-\u001B[39m\u001B[38;5;241m>\u001B[39m Any:\n\u001B[1;32m    441\u001B[0m     \u001B[38;5;28;01mtry\u001B[39;00m:\n\u001B[0;32m--> 442\u001B[0m         node \u001B[38;5;241m=\u001B[39m \u001B[38;5;28;43mself\u001B[39;49m\u001B[38;5;241;43m.\u001B[39;49m\u001B[43m_get_child\u001B[49m\u001B[43m(\u001B[49m\n\u001B[1;32m    443\u001B[0m \u001B[43m            \u001B[49m\u001B[43mkey\u001B[49m\u001B[38;5;241;43m=\u001B[39;49m\u001B[43mkey\u001B[49m\u001B[43m,\u001B[49m\u001B[43m \u001B[49m\u001B[43mthrow_on_missing_key\u001B[49m\u001B[38;5;241;43m=\u001B[39;49m\u001B[38;5;28;43;01mTrue\u001B[39;49;00m\u001B[43m,\u001B[49m\u001B[43m \u001B[49m\u001B[43mvalidate_key\u001B[49m\u001B[38;5;241;43m=\u001B[39;49m\u001B[43mvalidate_key\u001B[49m\n\u001B[1;32m    444\u001B[0m \u001B[43m        \u001B[49m\u001B[43m)\u001B[49m\n\u001B[1;32m    445\u001B[0m     \u001B[38;5;28;01mexcept\u001B[39;00m (ConfigAttributeError, ConfigKeyError):\n\u001B[1;32m    446\u001B[0m         \u001B[38;5;28;01mif\u001B[39;00m default_value \u001B[38;5;129;01mis\u001B[39;00m \u001B[38;5;129;01mnot\u001B[39;00m _DEFAULT_MARKER_:\n",
      "File \u001B[0;32m/mnt/appl/software/Hydra/1.3.2-GCCcore-11.3.0/lib/python3.10/site-packages/omegaconf/basecontainer.py:73\u001B[0m, in \u001B[0;36mBaseContainer._get_child\u001B[0;34m(self, key, validate_access, validate_key, throw_on_missing_value, throw_on_missing_key)\u001B[0m\n\u001B[1;32m     64\u001B[0m \u001B[38;5;28;01mdef\u001B[39;00m \u001B[38;5;21m_get_child\u001B[39m(\n\u001B[1;32m     65\u001B[0m     \u001B[38;5;28mself\u001B[39m,\n\u001B[1;32m     66\u001B[0m     key: Any,\n\u001B[0;32m   (...)\u001B[0m\n\u001B[1;32m     70\u001B[0m     throw_on_missing_key: \u001B[38;5;28mbool\u001B[39m \u001B[38;5;241m=\u001B[39m \u001B[38;5;28;01mFalse\u001B[39;00m,\n\u001B[1;32m     71\u001B[0m ) \u001B[38;5;241m-\u001B[39m\u001B[38;5;241m>\u001B[39m Union[Optional[Node], List[Optional[Node]]]:\n\u001B[1;32m     72\u001B[0m     \u001B[38;5;124;03m\"\"\"Like _get_node, passing through to the nearest concrete Node.\"\"\"\u001B[39;00m\n\u001B[0;32m---> 73\u001B[0m     child \u001B[38;5;241m=\u001B[39m \u001B[38;5;28;43mself\u001B[39;49m\u001B[38;5;241;43m.\u001B[39;49m\u001B[43m_get_node\u001B[49m\u001B[43m(\u001B[49m\n\u001B[1;32m     74\u001B[0m \u001B[43m        \u001B[49m\u001B[43mkey\u001B[49m\u001B[38;5;241;43m=\u001B[39;49m\u001B[43mkey\u001B[49m\u001B[43m,\u001B[49m\n\u001B[1;32m     75\u001B[0m \u001B[43m        \u001B[49m\u001B[43mvalidate_access\u001B[49m\u001B[38;5;241;43m=\u001B[39;49m\u001B[43mvalidate_access\u001B[49m\u001B[43m,\u001B[49m\n\u001B[1;32m     76\u001B[0m \u001B[43m        \u001B[49m\u001B[43mvalidate_key\u001B[49m\u001B[38;5;241;43m=\u001B[39;49m\u001B[43mvalidate_key\u001B[49m\u001B[43m,\u001B[49m\n\u001B[1;32m     77\u001B[0m \u001B[43m        \u001B[49m\u001B[43mthrow_on_missing_value\u001B[49m\u001B[38;5;241;43m=\u001B[39;49m\u001B[43mthrow_on_missing_value\u001B[49m\u001B[43m,\u001B[49m\n\u001B[1;32m     78\u001B[0m \u001B[43m        \u001B[49m\u001B[43mthrow_on_missing_key\u001B[49m\u001B[38;5;241;43m=\u001B[39;49m\u001B[43mthrow_on_missing_key\u001B[49m\u001B[43m,\u001B[49m\n\u001B[1;32m     79\u001B[0m \u001B[43m    \u001B[49m\u001B[43m)\u001B[49m\n\u001B[1;32m     80\u001B[0m     \u001B[38;5;28;01mif\u001B[39;00m \u001B[38;5;28misinstance\u001B[39m(child, UnionNode) \u001B[38;5;129;01mand\u001B[39;00m \u001B[38;5;129;01mnot\u001B[39;00m _is_special(child):\n\u001B[1;32m     81\u001B[0m         value \u001B[38;5;241m=\u001B[39m child\u001B[38;5;241m.\u001B[39m_value()\n",
      "File \u001B[0;32m/mnt/appl/software/Hydra/1.3.2-GCCcore-11.3.0/lib/python3.10/site-packages/omegaconf/dictconfig.py:475\u001B[0m, in \u001B[0;36mDictConfig._get_node\u001B[0;34m(self, key, validate_access, validate_key, throw_on_missing_value, throw_on_missing_key)\u001B[0m\n\u001B[1;32m    472\u001B[0m             \u001B[38;5;28;01mreturn\u001B[39;00m \u001B[38;5;28;01mNone\u001B[39;00m\n\u001B[1;32m    474\u001B[0m \u001B[38;5;28;01mif\u001B[39;00m validate_access:\n\u001B[0;32m--> 475\u001B[0m     \u001B[38;5;28;43mself\u001B[39;49m\u001B[38;5;241;43m.\u001B[39;49m\u001B[43m_validate_get\u001B[49m\u001B[43m(\u001B[49m\u001B[43mkey\u001B[49m\u001B[43m)\u001B[49m\n\u001B[1;32m    477\u001B[0m value: Optional[Node] \u001B[38;5;241m=\u001B[39m \u001B[38;5;28mself\u001B[39m\u001B[38;5;241m.\u001B[39m\u001B[38;5;18m__dict__\u001B[39m[\u001B[38;5;124m\"\u001B[39m\u001B[38;5;124m_content\u001B[39m\u001B[38;5;124m\"\u001B[39m]\u001B[38;5;241m.\u001B[39mget(key)\n\u001B[1;32m    478\u001B[0m \u001B[38;5;28;01mif\u001B[39;00m value \u001B[38;5;129;01mis\u001B[39;00m \u001B[38;5;28;01mNone\u001B[39;00m:\n",
      "File \u001B[0;32m/mnt/appl/software/Hydra/1.3.2-GCCcore-11.3.0/lib/python3.10/site-packages/omegaconf/dictconfig.py:164\u001B[0m, in \u001B[0;36mDictConfig._validate_get\u001B[0;34m(self, key, value)\u001B[0m\n\u001B[1;32m    162\u001B[0m \u001B[38;5;28;01melse\u001B[39;00m:\n\u001B[1;32m    163\u001B[0m     msg \u001B[38;5;241m=\u001B[39m \u001B[38;5;124mf\u001B[39m\u001B[38;5;124m\"\u001B[39m\u001B[38;5;124mKey \u001B[39m\u001B[38;5;124m'\u001B[39m\u001B[38;5;132;01m{\u001B[39;00mkey\u001B[38;5;132;01m}\u001B[39;00m\u001B[38;5;124m'\u001B[39m\u001B[38;5;124m is not in struct\u001B[39m\u001B[38;5;124m\"\u001B[39m\n\u001B[0;32m--> 164\u001B[0m \u001B[38;5;28;43mself\u001B[39;49m\u001B[38;5;241;43m.\u001B[39;49m\u001B[43m_format_and_raise\u001B[49m\u001B[43m(\u001B[49m\n\u001B[1;32m    165\u001B[0m \u001B[43m    \u001B[49m\u001B[43mkey\u001B[49m\u001B[38;5;241;43m=\u001B[39;49m\u001B[43mkey\u001B[49m\u001B[43m,\u001B[49m\u001B[43m \u001B[49m\u001B[43mvalue\u001B[49m\u001B[38;5;241;43m=\u001B[39;49m\u001B[43mvalue\u001B[49m\u001B[43m,\u001B[49m\u001B[43m \u001B[49m\u001B[43mcause\u001B[49m\u001B[38;5;241;43m=\u001B[39;49m\u001B[43mConfigAttributeError\u001B[49m\u001B[43m(\u001B[49m\u001B[43mmsg\u001B[49m\u001B[43m)\u001B[49m\n\u001B[1;32m    166\u001B[0m \u001B[43m\u001B[49m\u001B[43m)\u001B[49m\n",
      "File \u001B[0;32m/mnt/appl/software/Hydra/1.3.2-GCCcore-11.3.0/lib/python3.10/site-packages/omegaconf/base.py:231\u001B[0m, in \u001B[0;36mNode._format_and_raise\u001B[0;34m(self, key, value, cause, msg, type_override)\u001B[0m\n\u001B[1;32m    223\u001B[0m \u001B[38;5;28;01mdef\u001B[39;00m \u001B[38;5;21m_format_and_raise\u001B[39m(\n\u001B[1;32m    224\u001B[0m     \u001B[38;5;28mself\u001B[39m,\n\u001B[1;32m    225\u001B[0m     key: Any,\n\u001B[0;32m   (...)\u001B[0m\n\u001B[1;32m    229\u001B[0m     type_override: Any \u001B[38;5;241m=\u001B[39m \u001B[38;5;28;01mNone\u001B[39;00m,\n\u001B[1;32m    230\u001B[0m ) \u001B[38;5;241m-\u001B[39m\u001B[38;5;241m>\u001B[39m \u001B[38;5;28;01mNone\u001B[39;00m:\n\u001B[0;32m--> 231\u001B[0m     \u001B[43mformat_and_raise\u001B[49m\u001B[43m(\u001B[49m\n\u001B[1;32m    232\u001B[0m \u001B[43m        \u001B[49m\u001B[43mnode\u001B[49m\u001B[38;5;241;43m=\u001B[39;49m\u001B[38;5;28;43mself\u001B[39;49m\u001B[43m,\u001B[49m\n\u001B[1;32m    233\u001B[0m \u001B[43m        \u001B[49m\u001B[43mkey\u001B[49m\u001B[38;5;241;43m=\u001B[39;49m\u001B[43mkey\u001B[49m\u001B[43m,\u001B[49m\n\u001B[1;32m    234\u001B[0m \u001B[43m        \u001B[49m\u001B[43mvalue\u001B[49m\u001B[38;5;241;43m=\u001B[39;49m\u001B[43mvalue\u001B[49m\u001B[43m,\u001B[49m\n\u001B[1;32m    235\u001B[0m \u001B[43m        \u001B[49m\u001B[43mmsg\u001B[49m\u001B[38;5;241;43m=\u001B[39;49m\u001B[38;5;28;43mstr\u001B[39;49m\u001B[43m(\u001B[49m\u001B[43mcause\u001B[49m\u001B[43m)\u001B[49m\u001B[43m \u001B[49m\u001B[38;5;28;43;01mif\u001B[39;49;00m\u001B[43m \u001B[49m\u001B[43mmsg\u001B[49m\u001B[43m \u001B[49m\u001B[38;5;129;43;01mis\u001B[39;49;00m\u001B[43m \u001B[49m\u001B[38;5;28;43;01mNone\u001B[39;49;00m\u001B[43m \u001B[49m\u001B[38;5;28;43;01melse\u001B[39;49;00m\u001B[43m \u001B[49m\u001B[43mmsg\u001B[49m\u001B[43m,\u001B[49m\n\u001B[1;32m    236\u001B[0m \u001B[43m        \u001B[49m\u001B[43mcause\u001B[49m\u001B[38;5;241;43m=\u001B[39;49m\u001B[43mcause\u001B[49m\u001B[43m,\u001B[49m\n\u001B[1;32m    237\u001B[0m \u001B[43m        \u001B[49m\u001B[43mtype_override\u001B[49m\u001B[38;5;241;43m=\u001B[39;49m\u001B[43mtype_override\u001B[49m\u001B[43m,\u001B[49m\n\u001B[1;32m    238\u001B[0m \u001B[43m    \u001B[49m\u001B[43m)\u001B[49m\n\u001B[1;32m    239\u001B[0m     \u001B[38;5;28;01massert\u001B[39;00m \u001B[38;5;28;01mFalse\u001B[39;00m\n",
      "File \u001B[0;32m/mnt/appl/software/Hydra/1.3.2-GCCcore-11.3.0/lib/python3.10/site-packages/omegaconf/_utils.py:899\u001B[0m, in \u001B[0;36mformat_and_raise\u001B[0;34m(node, key, value, msg, cause, type_override)\u001B[0m\n\u001B[1;32m    896\u001B[0m     ex\u001B[38;5;241m.\u001B[39mref_type \u001B[38;5;241m=\u001B[39m ref_type\n\u001B[1;32m    897\u001B[0m     ex\u001B[38;5;241m.\u001B[39mref_type_str \u001B[38;5;241m=\u001B[39m ref_type_str\n\u001B[0;32m--> 899\u001B[0m \u001B[43m_raise\u001B[49m\u001B[43m(\u001B[49m\u001B[43mex\u001B[49m\u001B[43m,\u001B[49m\u001B[43m \u001B[49m\u001B[43mcause\u001B[49m\u001B[43m)\u001B[49m\n",
      "File \u001B[0;32m/mnt/appl/software/Hydra/1.3.2-GCCcore-11.3.0/lib/python3.10/site-packages/omegaconf/_utils.py:797\u001B[0m, in \u001B[0;36m_raise\u001B[0;34m(ex, cause)\u001B[0m\n\u001B[1;32m    795\u001B[0m \u001B[38;5;28;01melse\u001B[39;00m:\n\u001B[1;32m    796\u001B[0m     ex\u001B[38;5;241m.\u001B[39m__cause__ \u001B[38;5;241m=\u001B[39m \u001B[38;5;28;01mNone\u001B[39;00m\n\u001B[0;32m--> 797\u001B[0m \u001B[38;5;28;01mraise\u001B[39;00m ex\u001B[38;5;241m.\u001B[39mwith_traceback(sys\u001B[38;5;241m.\u001B[39mexc_info()[\u001B[38;5;241m2\u001B[39m])\n",
      "\u001B[0;31mConfigAttributeError\u001B[0m: Key 'train_map' is not in struct\n    full_key: ds.train_map\n    object_type=dict"
     ]
    }
   ],
   "execution_count": 3
  },
  {
   "metadata": {},
   "cell_type": "code",
   "source": "",
   "id": "5927222c88931f6c",
   "outputs": [],
   "execution_count": null
  }
 ],
 "metadata": {
  "kernelspec": {
   "display_name": "Python 3",
   "language": "python",
   "name": "python3"
  },
  "language_info": {
   "codemirror_mode": {
    "name": "ipython",
    "version": 2
   },
   "file_extension": ".py",
   "mimetype": "text/x-python",
   "name": "python",
   "nbconvert_exporter": "python",
   "pygments_lexer": "ipython2",
   "version": "2.7.6"
  }
 },
 "nbformat": 4,
 "nbformat_minor": 5
}
